{
  "nbformat": 4,
  "nbformat_minor": 0,
  "metadata": {
    "colab": {
      "provenance": [],
      "include_colab_link": true
    },
    "kernelspec": {
      "name": "python3",
      "display_name": "Python 3"
    },
    "language_info": {
      "name": "python"
    }
  },
  "cells": [
    {
      "cell_type": "markdown",
      "metadata": {
        "id": "view-in-github",
        "colab_type": "text"
      },
      "source": [
        "<a href=\"https://colab.research.google.com/github/AmanullaChishty/Mastering-Python/blob/main/LeetCode_75.ipynb\" target=\"_parent\"><img src=\"https://colab.research.google.com/assets/colab-badge.svg\" alt=\"Open In Colab\"/></a>"
      ]
    },
    {
      "cell_type": "markdown",
      "source": [
        "Given a string s, reverse only all the vowels in the string and return it.\n",
        "\n",
        "The vowels are 'a', 'e', 'i', 'o', and 'u', and they can appear in both lower and upper cases, more than once."
      ],
      "metadata": {
        "id": "aau_AMUk5iBH"
      }
    },
    {
      "cell_type": "code",
      "execution_count": 1,
      "metadata": {
        "id": "ls9j9sra3Vnn"
      },
      "outputs": [],
      "source": [
        "class Solution:\n",
        "    def reverseVowels(self, s: str) -> str:\n",
        "      vowels = \"aeiouAEIOU\"\n",
        "      s = list(s)  # Convert the string to a list for mutability\n",
        "      l, r = 0, len(s) - 1  # Initialize two pointers\n",
        "\n",
        "      while l < r:\n",
        "          if s[l] in vowels and s[r] in vowels:  # Both pointers are at vowels\n",
        "              s[l], s[r] = s[r], s[l]  # Swap the vowels\n",
        "              l += 1  # Move the left pointer right\n",
        "              r -= 1  # Move the right pointer left\n",
        "          elif s[l] not in vowels:  # Left pointer is not a vowel\n",
        "              l += 1  # Move the left pointer right\n",
        "          elif s[r] not in vowels:  # Right pointer is not a vowel\n",
        "              r -= 1  # Move the right pointer left\n",
        "\n",
        "      return \"\".join(s)  # Convert the list back to a string\n"
      ]
    },
    {
      "cell_type": "code",
      "source": [
        "Solution.reverseVowels( Solution,\"hello\")"
      ],
      "metadata": {
        "colab": {
          "base_uri": "https://localhost:8080/",
          "height": 35
        },
        "id": "WdpKacHf6Bit",
        "outputId": "3268e83a-4392-4cc7-eb16-ed4da8d509cc"
      },
      "execution_count": 2,
      "outputs": [
        {
          "output_type": "execute_result",
          "data": {
            "text/plain": [
              "'holle'"
            ],
            "application/vnd.google.colaboratory.intrinsic+json": {
              "type": "string"
            }
          },
          "metadata": {},
          "execution_count": 2
        }
      ]
    },
    {
      "cell_type": "markdown",
      "source": [
        "Given an input string s, reverse the order of the words.\n",
        "\n",
        "A word is defined as a sequence of non-space characters. The words in s will be separated by at least one space.\n",
        "\n",
        "Return a string of the words in reverse order concatenated by a single space.\n",
        "\n",
        "Note that s may contain leading or trailing spaces or multiple spaces between two words. The returned string should only have a single space separating the words. Do not include any extra spaces."
      ],
      "metadata": {
        "id": "WSxjpKrNBofW"
      }
    },
    {
      "cell_type": "code",
      "source": [
        "class Solution:\n",
        "  def reverseWords(self, s: str) -> str:\n",
        "    words = s.split()\n",
        "    reversed_words = words[::-1]\n",
        "    return \" \".join(reversed_words)"
      ],
      "metadata": {
        "id": "rmc-Rujv6Bfz"
      },
      "execution_count": 3,
      "outputs": []
    },
    {
      "cell_type": "code",
      "source": [
        "Solution.reverseWords(Solution,\"Let's take LeetCode contest\")"
      ],
      "metadata": {
        "colab": {
          "base_uri": "https://localhost:8080/",
          "height": 35
        },
        "id": "PTGePw-T6Bdb",
        "outputId": "5fd71eae-5936-4046-bf03-51ace80b4a21"
      },
      "execution_count": 4,
      "outputs": [
        {
          "output_type": "execute_result",
          "data": {
            "text/plain": [
              "\"contest LeetCode take Let's\""
            ],
            "application/vnd.google.colaboratory.intrinsic+json": {
              "type": "string"
            }
          },
          "metadata": {},
          "execution_count": 4
        }
      ]
    },
    {
      "cell_type": "markdown",
      "source": [
        "Given an integer array nums, return an array answer such that answer[i] is equal to the product of all the elements of nums except nums[i].\n",
        "\n",
        "The product of any prefix or suffix of nums is guaranteed to fit in a 32-bit integer.\n",
        "\n",
        "You must write an algorithm that runs in O(n) time and without using the division operation."
      ],
      "metadata": {
        "id": "ci1CGFmGDIiI"
      }
    },
    {
      "cell_type": "code",
      "source": [
        "from typing import List\n",
        "class Solution:\n",
        "  def productExceptSelf(self, nums: List[int]) -> List[int]:\n",
        "    n = len(nums)\n",
        "    result = [1] * n  # Initialize result array with all 1s\n",
        "\n",
        "    # Calculate prefix products\n",
        "    prefix_prod = 1\n",
        "    for i in range(n):\n",
        "        result[i] = prefix_prod\n",
        "        prefix_prod *= nums[i]\n",
        "\n",
        "    # Calculate suffix products and multiply with prefix products\n",
        "    postfix_prod = 1\n",
        "    for i in range(n - 1, -1, -1):\n",
        "        result[i] *= postfix_prod\n",
        "        postfix_prod *= nums[i]\n",
        "\n",
        "    return result\n",
        "\n"
      ],
      "metadata": {
        "id": "JjyztW3bCt8K"
      },
      "execution_count": 5,
      "outputs": []
    },
    {
      "cell_type": "code",
      "source": [
        "Solution.productExceptSelf(Solution,[-1,1,0,-3,3])"
      ],
      "metadata": {
        "colab": {
          "base_uri": "https://localhost:8080/"
        },
        "id": "g-Mlp5wjDQVg",
        "outputId": "b0f8654f-72b2-4997-ca40-74cf618260bf"
      },
      "execution_count": 6,
      "outputs": [
        {
          "output_type": "execute_result",
          "data": {
            "text/plain": [
              "[0, 0, 9, 0, 0]"
            ]
          },
          "metadata": {},
          "execution_count": 6
        }
      ]
    },
    {
      "cell_type": "markdown",
      "source": [
        "Given an integer array nums, return true if there exists a triple of indices (i, j, k) such that i < j < k and nums[i] < nums[j] < nums[k]. If no such indices exists, return false."
      ],
      "metadata": {
        "id": "45jyhH3BKeUd"
      }
    },
    {
      "cell_type": "code",
      "source": [
        "from typing import List\n",
        "class Solution:\n",
        "  def increasingTriplet(self, nums: List[int]) -> bool:\n",
        "    first = second = float('inf')\n",
        "\n",
        "    for num in nums:\n",
        "        if num <= first:\n",
        "            first = num\n",
        "        elif num <= second:\n",
        "            second = num\n",
        "        else:\n",
        "            return True\n",
        "\n",
        "    return False"
      ],
      "metadata": {
        "id": "3p75154nDQOx"
      },
      "execution_count": 7,
      "outputs": []
    },
    {
      "cell_type": "code",
      "source": [
        "Solution.increasingTriplet(Solution,[2,1,5,0,4,6])"
      ],
      "metadata": {
        "colab": {
          "base_uri": "https://localhost:8080/"
        },
        "id": "C2koDaYgLZJS",
        "outputId": "1074685a-ba01-4d6d-97c5-a5d1b97a2ce3"
      },
      "execution_count": 8,
      "outputs": [
        {
          "output_type": "execute_result",
          "data": {
            "text/plain": [
              "True"
            ]
          },
          "metadata": {},
          "execution_count": 8
        }
      ]
    },
    {
      "cell_type": "markdown",
      "source": [
        "Given an array of characters chars, compress it using the following algorithm:\n",
        "\n",
        "Begin with an empty string s. For each group of consecutive repeating characters in chars:\n",
        "\n",
        "If the group's length is 1, append the character to s.\n",
        "Otherwise, append the character followed by the group's length.\n",
        "The compressed string s should not be returned separately, but instead, be stored in the input character array chars. Note that group lengths that are 10 or longer will be split into multiple characters in chars.\n",
        "\n",
        "After you are done modifying the input array, return the new length of the array.\n",
        "\n",
        "You must write an algorithm that uses only constant extra space."
      ],
      "metadata": {
        "id": "yQwUyr20KtKj"
      }
    },
    {
      "cell_type": "code",
      "source": [
        "class Solution:\n",
        "    def compress(self, chars: List[str]) -> int:\n",
        "        write = 0\n",
        "        read = 0\n",
        "        n = len(chars)\n",
        "\n",
        "        while read < n:\n",
        "            start = read\n",
        "            while read < n and chars[read]==chars[start]:\n",
        "                read+=1\n",
        "            chars[write] = chars[start]\n",
        "            write +=1\n",
        "            count = read - start\n",
        "            if count > 1:\n",
        "                for digit in str(count):\n",
        "                    chars[write] = digit\n",
        "                    write +=1\n",
        "        return write\n"
      ],
      "metadata": {
        "id": "7db31ZRmDQF8"
      },
      "execution_count": 9,
      "outputs": []
    },
    {
      "cell_type": "code",
      "source": [
        "Solution.compress(Solution,[\"a\",\"a\",\"b\",\"b\",\"c\",\"c\",\"c\"])"
      ],
      "metadata": {
        "id": "Kwu57icTDQC1",
        "colab": {
          "base_uri": "https://localhost:8080/"
        },
        "outputId": "f5e996b9-9982-4da6-94f5-ff6b1464d446"
      },
      "execution_count": 10,
      "outputs": [
        {
          "output_type": "execute_result",
          "data": {
            "text/plain": [
              "6"
            ]
          },
          "metadata": {},
          "execution_count": 10
        }
      ]
    },
    {
      "cell_type": "markdown",
      "source": [
        "Given an integer array nums, move all 0's to the end of it while maintaining the relative order of the non-zero elements.\n",
        "\n",
        "Note that you must do this in-place without making a copy of the array."
      ],
      "metadata": {
        "id": "qOIxtKSHQQWO"
      }
    },
    {
      "cell_type": "code",
      "source": [
        "class Solution:\n",
        "    def moveZeroes(self, nums: List[int]) -> None:\n",
        "      nums.sort(key=lambda x: x == 0)\n",
        "      return nums\n"
      ],
      "metadata": {
        "id": "8ymmPa3BQSSv"
      },
      "execution_count": 11,
      "outputs": []
    },
    {
      "cell_type": "code",
      "source": [
        "Solution.moveZeroes(Solution,[0,1,0,3,12])"
      ],
      "metadata": {
        "colab": {
          "base_uri": "https://localhost:8080/"
        },
        "id": "qWXdkYdDQSYi",
        "outputId": "23a2f3ac-a2b0-44cb-bdf6-ae87d1401da4"
      },
      "execution_count": 12,
      "outputs": [
        {
          "output_type": "execute_result",
          "data": {
            "text/plain": [
              "[1, 3, 12, 0, 0]"
            ]
          },
          "metadata": {},
          "execution_count": 12
        }
      ]
    },
    {
      "cell_type": "markdown",
      "source": [
        "Given two strings s and t, return true if s is a subsequence of t, or false otherwise.\n",
        "\n",
        "A subsequence of a string is a new string that is formed from the original string by deleting some (can be none) of the characters without disturbing the relative positions of the remaining characters. (i.e., \"ace\" is a subsequence of \"abcde\" while \"aec\" is not)."
      ],
      "metadata": {
        "id": "LvfXRPj8aId6"
      }
    },
    {
      "cell_type": "code",
      "source": [
        "class Solution:\n",
        "  def isSubsequence(self, s: str, t: str) -> bool:\n",
        "    s_index = 0\n",
        "    t_index = 0\n",
        "\n",
        "    while s_index < len(s) and t_index < len(t):\n",
        "        if s[s_index] == t[t_index]:\n",
        "            s_index += 1\n",
        "        t_index += 1\n",
        "    return s_index == len(s)"
      ],
      "metadata": {
        "id": "6FSuX5JlZwX3"
      },
      "execution_count": 13,
      "outputs": []
    },
    {
      "cell_type": "code",
      "source": [
        "Solution.isSubsequence(Solution,\"axc\",\"ahbgdc\")"
      ],
      "metadata": {
        "colab": {
          "base_uri": "https://localhost:8080/"
        },
        "id": "8dwcle1hZwUS",
        "outputId": "0da38198-a4eb-48d7-d424-d2ce41f689d3"
      },
      "execution_count": 14,
      "outputs": [
        {
          "output_type": "execute_result",
          "data": {
            "text/plain": [
              "False"
            ]
          },
          "metadata": {},
          "execution_count": 14
        }
      ]
    },
    {
      "cell_type": "markdown",
      "source": [
        "11. You are given an integer array height of length n. There are n vertical lines drawn such that the two endpoints of the ith line are (i, 0) and (i, height[i]).\n",
        "\n",
        "  Find two lines that together with the x-axis form a container, such that the container contains the most water.\n",
        "\n",
        "  Return the maximum amount of water a container can store.\n",
        "\n",
        "  Notice that you may not slant the container."
      ],
      "metadata": {
        "id": "P_AltXY0cmfA"
      }
    },
    {
      "cell_type": "code",
      "source": [
        "class Solution:\n",
        "    def maxArea(self, height: List[int]) -> int:\n",
        "      max_area = 0\n",
        "      left = 0\n",
        "      right = len(height) - 1\n",
        "      while left < right:\n",
        "          area = min(height[left], height[right]) * (right - left)\n",
        "          max_area = max(max_area, area)\n",
        "          if height[left] < height[right]:\n",
        "              left += 1\n",
        "          else:\n",
        "              right -= 1\n",
        "      return max_area"
      ],
      "metadata": {
        "id": "jw4yIouIZwRk"
      },
      "execution_count": 15,
      "outputs": []
    },
    {
      "cell_type": "code",
      "source": [
        "Solution.maxArea(Solution,[1,8,6,2,5,4,8,3,7])"
      ],
      "metadata": {
        "colab": {
          "base_uri": "https://localhost:8080/"
        },
        "id": "MHQH4cfRZwM_",
        "outputId": "708fbad5-eb0c-4172-8451-1a9b1f5e35a1"
      },
      "execution_count": 16,
      "outputs": [
        {
          "output_type": "execute_result",
          "data": {
            "text/plain": [
              "49"
            ]
          },
          "metadata": {},
          "execution_count": 16
        }
      ]
    },
    {
      "cell_type": "markdown",
      "source": [
        "12.You are given an integer array nums and an integer k.\n",
        "\n",
        "In one operation, you can pick two numbers from the array whose sum equals k and remove them from the array.\n",
        "\n",
        "Return the maximum number of operations you can perform on the array."
      ],
      "metadata": {
        "id": "Nf9SyN88ylPY"
      }
    },
    {
      "cell_type": "code",
      "source": [
        "class Solution:\n",
        "    def maxOperations(self, nums: List[int], k: int) -> int:\n",
        "      nums.sort()\n",
        "      left = 0\n",
        "      right = len(nums) -1\n",
        "      count = 0\n",
        "      while left < right:\n",
        "        if nums[left] + nums[right] == k:\n",
        "          count += 1\n",
        "          left += 1\n",
        "          right -= 1\n",
        "        elif nums[left] + nums[right] < k:\n",
        "          left += 1\n",
        "        else:\n",
        "          right -= 1\n",
        "      return count"
      ],
      "metadata": {
        "id": "_co--3cLZwG4"
      },
      "execution_count": 17,
      "outputs": []
    },
    {
      "cell_type": "code",
      "source": [
        "Solution.maxOperations(Solution,[1,2,3,4],5)"
      ],
      "metadata": {
        "id": "cj0UbwTfZwD8",
        "colab": {
          "base_uri": "https://localhost:8080/"
        },
        "outputId": "2f61a383-1f64-4ae3-dc60-ed8e36fbd23d"
      },
      "execution_count": 18,
      "outputs": [
        {
          "output_type": "execute_result",
          "data": {
            "text/plain": [
              "2"
            ]
          },
          "metadata": {},
          "execution_count": 18
        }
      ]
    },
    {
      "cell_type": "markdown",
      "source": [
        "13. You are given an integer array nums consisting of n elements, and an integer k.\n",
        "\n",
        "Find a contiguous subarray whose length is equal to k that has the maximum average value and return this value. Any answer with a calculation error less than 10-5 will be accepted."
      ],
      "metadata": {
        "id": "dlnnnFJp0HPp"
      }
    },
    {
      "cell_type": "code",
      "source": [
        "class Solution:\n",
        "    def findMaxAverage(self, nums: List[int], k: int) -> float:\n",
        "      n = len(nums)\n",
        "      max_sum = float('-inf')\n",
        "      current_sum = sum(nums[:k])\n",
        "      max_sum = max(max_sum, current_sum)\n",
        "      for i in range(k, n):\n",
        "          current_sum += nums[i] - nums[i - k]\n",
        "          max_sum = max(max_sum, current_sum)\n",
        "      return max_sum / k"
      ],
      "metadata": {
        "id": "syilUfvSZwB5"
      },
      "execution_count": 19,
      "outputs": []
    },
    {
      "cell_type": "code",
      "source": [
        "Solution.findMaxAverage(Solution,[1,12,-5,-6,50,3],4)"
      ],
      "metadata": {
        "id": "Q31Eo-A3ZwBC",
        "colab": {
          "base_uri": "https://localhost:8080/"
        },
        "outputId": "3ae085ca-d442-48a3-b645-9e8846fe4723"
      },
      "execution_count": 20,
      "outputs": [
        {
          "output_type": "execute_result",
          "data": {
            "text/plain": [
              "12.75"
            ]
          },
          "metadata": {},
          "execution_count": 20
        }
      ]
    },
    {
      "cell_type": "markdown",
      "source": [
        "14. Given a string s and an integer k, return the maximum number of vowel letters in any substring of s with length k.\n",
        "\n",
        "  Vowel letters in English are 'a', 'e', 'i', 'o', and 'u'."
      ],
      "metadata": {
        "id": "o3Jl5z5eB00c"
      }
    },
    {
      "cell_type": "code",
      "source": [
        "class Solution:\n",
        "    def maxVowels(self, s: str, k: int) -> int:\n",
        "      vowels = \"aeiou\"\n",
        "      max_vowels = 0\n",
        "      current_vowels = 0\n",
        "      for i in range(len(s)):\n",
        "          if s[i].lower() in vowels:\n",
        "              current_vowels += 1\n",
        "          if i >= k and s[i - k].lower() in vowels:\n",
        "              current_vowels -= 1\n",
        "          max_vowels = max(max_vowels, current_vowels)\n",
        "      return max_vowels\n"
      ],
      "metadata": {
        "id": "_fek_GFB0G3m"
      },
      "execution_count": 21,
      "outputs": []
    },
    {
      "cell_type": "code",
      "source": [
        "Solution.maxVowels(Solution,\"abciiidef\",3)"
      ],
      "metadata": {
        "colab": {
          "base_uri": "https://localhost:8080/"
        },
        "id": "XetBSAnp0G0L",
        "outputId": "57966ba7-3db2-476c-c83b-4847fc8c5360"
      },
      "execution_count": 22,
      "outputs": [
        {
          "output_type": "execute_result",
          "data": {
            "text/plain": [
              "3"
            ]
          },
          "metadata": {},
          "execution_count": 22
        }
      ]
    },
    {
      "cell_type": "markdown",
      "source": [
        "16. Given a binary array nums and an integer k, return the maximum number of consecutive 1's in the array if you can flip at most k 0's"
      ],
      "metadata": {
        "id": "7A0v2jzGETN-"
      }
    },
    {
      "cell_type": "code",
      "source": [
        "class Solution:\n",
        "    def longestOnes(self, nums: List[int], k: int) -> int:\n",
        "      left = 0\n",
        "      max_length = 0\n",
        "      zero_count = 0\n",
        "\n",
        "      for right in range(len(nums)):\n",
        "          if nums[right] == 0:\n",
        "              zero_count += 1\n",
        "\n",
        "          while zero_count > k:\n",
        "              if nums[left] == 0:\n",
        "                  zero_count -= 1\n",
        "              left += 1\n",
        "\n",
        "          max_length = max(max_length, right - left + 1)\n",
        "\n",
        "      return max_length\n",
        "\n",
        "\n"
      ],
      "metadata": {
        "id": "5fjTVz2z0Gul"
      },
      "execution_count": 23,
      "outputs": []
    },
    {
      "cell_type": "code",
      "source": [
        "Solution.longestOnes(Solution,[1,1,1,0,0,0,1,1,1,1,0],2)"
      ],
      "metadata": {
        "colab": {
          "base_uri": "https://localhost:8080/"
        },
        "id": "t6YELOtH0Go6",
        "outputId": "99e2f48e-4418-4d06-b830-d1b14ed3947d"
      },
      "execution_count": 24,
      "outputs": [
        {
          "output_type": "execute_result",
          "data": {
            "text/plain": [
              "6"
            ]
          },
          "metadata": {},
          "execution_count": 24
        }
      ]
    },
    {
      "cell_type": "markdown",
      "source": [
        "17. Given a binary array nums, you should delete one element from it.\n",
        "\n",
        "  Return the size of the longest non-empty subarray containing only 1's in the resulting array. Return 0 if there is no such subarray."
      ],
      "metadata": {
        "id": "MkNYgsRuN2bR"
      }
    },
    {
      "cell_type": "code",
      "source": [
        "class Solution:\n",
        "    def longestSubarray(self, nums: List[int]) -> int:\n",
        "      if not nums:\n",
        "        return 0\n",
        "      prev_zero = -1\n",
        "      prev_prev_zero = -2\n",
        "      longest_subarray = nums[0]\n",
        "\n",
        "      for index in range(len(nums)):\n",
        "        if nums[index] == 1:\n",
        "          longest_subarray = max(longest_subarray, index - prev_prev_zero-1)\n",
        "        else:\n",
        "          prev_prev_zero = prev_zero\n",
        "          prev_zero = index\n",
        "      if prev_zero == -1:\n",
        "        longest_subarray -=1\n",
        "      return longest_subarray"
      ],
      "metadata": {
        "id": "jBNE2VhE0GmN"
      },
      "execution_count": 25,
      "outputs": []
    },
    {
      "cell_type": "code",
      "source": [
        "Solution.longestSubarray(Solution,[0,1,1,1,0,1,1,0,1])"
      ],
      "metadata": {
        "colab": {
          "base_uri": "https://localhost:8080/"
        },
        "id": "6nZnjMOQO3Fn",
        "outputId": "ced8d7a3-255a-43fa-e2a1-cb55cd27ff51"
      },
      "execution_count": 26,
      "outputs": [
        {
          "output_type": "execute_result",
          "data": {
            "text/plain": [
              "5"
            ]
          },
          "metadata": {},
          "execution_count": 26
        }
      ]
    },
    {
      "cell_type": "markdown",
      "source": [
        "18. There is a biker going on a road trip. The road trip consists of n + 1 points at different altitudes. The biker starts his trip on point 0 with altitude equal 0.\n",
        "\n",
        "  You are given an integer array gain of length n where gain[i] is the net gain in altitude between points i​​​​​​ and i + 1 for all (0 <= i < n). Return the highest altitude of a point."
      ],
      "metadata": {
        "id": "_bV9F3y9T1Dh"
      }
    },
    {
      "cell_type": "code",
      "source": [
        "class Solution:\n",
        "    def largestAltitude(self, gain: List[int]) -> int:\n",
        "      max_altitude = 0\n",
        "      current_altitude = 0\n",
        "      for i in range(len(gain)):\n",
        "        current_altitude += gain[i]\n",
        "        max_altitude = max(max_altitude, current_altitude)\n",
        "      return max_altitude"
      ],
      "metadata": {
        "id": "uoJZrBllPB0D"
      },
      "execution_count": 27,
      "outputs": []
    },
    {
      "cell_type": "code",
      "source": [
        "Solution.largestAltitude(Solution,[-5,1,5,0,-7])"
      ],
      "metadata": {
        "colab": {
          "base_uri": "https://localhost:8080/"
        },
        "id": "5r5UpudlPBw1",
        "outputId": "66dacb8e-b9dd-4968-b295-835297aa8d16"
      },
      "execution_count": 28,
      "outputs": [
        {
          "output_type": "execute_result",
          "data": {
            "text/plain": [
              "1"
            ]
          },
          "metadata": {},
          "execution_count": 28
        }
      ]
    },
    {
      "cell_type": "markdown",
      "source": [
        "19. Given an array of integers nums, calculate the pivot index of this array.\n",
        "\n",
        "  The pivot index is the index where the sum of all the numbers strictly to the left of the index is equal to the sum of all the numbers strictly to the index's right.\n",
        "\n",
        "  If the index is on the left edge of the array, then the left sum is 0 because there are no elements to the left. This also applies to the right edge of the array.\n",
        "\n",
        "  Return the leftmost pivot index. If no such index exists, return -1."
      ],
      "metadata": {
        "id": "OYcQ-09vywjs"
      }
    },
    {
      "cell_type": "code",
      "source": [
        "class Solution:\n",
        "  def pivotIndex(self, nums: List[int]) -> int:\n",
        "    total_sum = sum(nums)\n",
        "    left_sum = 0\n",
        "    for i, num in enumerate(nums):\n",
        "      if left_sum == total_sum - left_sum - num:\n",
        "        return i\n",
        "      left_sum += num\n",
        "    return -1"
      ],
      "metadata": {
        "id": "_YDR3c_VPBty"
      },
      "execution_count": 29,
      "outputs": []
    },
    {
      "cell_type": "code",
      "source": [
        "Solution.pivotIndex(Solution,[1,7,3,6,5,6])"
      ],
      "metadata": {
        "id": "sE0OkNLWPBjD",
        "colab": {
          "base_uri": "https://localhost:8080/"
        },
        "outputId": "c27020e5-5be1-4fbd-fad6-9ff77059a335"
      },
      "execution_count": 30,
      "outputs": [
        {
          "output_type": "execute_result",
          "data": {
            "text/plain": [
              "3"
            ]
          },
          "metadata": {},
          "execution_count": 30
        }
      ]
    },
    {
      "cell_type": "markdown",
      "source": [
        "20. Given two 0-indexed integer arrays nums1 and nums2, return a list answer of size 2 where:\n",
        "\n",
        "  answer[0] is a list of all distinct integers in nums1 which are not present in nums2.\n",
        "  answer[1] is a list of all distinct integers in nums2 which are not present in nums1.\n",
        "  Note that the integers in the lists may be returned in any order."
      ],
      "metadata": {
        "id": "v8HjuLA60i5p"
      }
    },
    {
      "cell_type": "code",
      "source": [
        "class Solution:\n",
        "    def findDifference(self, nums1: List[int], nums2: List[int]) -> List[List[int]]:\n",
        "      set1 = set(nums1)\n",
        "      set2 = set(nums2)\n",
        "      diff1 = list(set1 - set2)\n",
        "      diff2 = list(set2 - set1)\n",
        "      return [diff1, diff2]"
      ],
      "metadata": {
        "id": "jhYWq1tLz4yN"
      },
      "execution_count": 31,
      "outputs": []
    },
    {
      "cell_type": "code",
      "source": [
        "Solution.findDifference(Solution,[1,2,3],[2,4,6])"
      ],
      "metadata": {
        "colab": {
          "base_uri": "https://localhost:8080/"
        },
        "id": "PKVBGvPmz4vc",
        "outputId": "c7778359-c693-4c90-9ac5-bbf848eb40f5"
      },
      "execution_count": 32,
      "outputs": [
        {
          "output_type": "execute_result",
          "data": {
            "text/plain": [
              "[[1, 3], [4, 6]]"
            ]
          },
          "metadata": {},
          "execution_count": 32
        }
      ]
    },
    {
      "cell_type": "markdown",
      "source": [
        "21. Given an array of integers arr, return true if the number of occurrences of each value in the array is unique or false otherwise."
      ],
      "metadata": {
        "id": "nOhSSyyF2D-x"
      }
    },
    {
      "cell_type": "code",
      "source": [
        "class Solution:\n",
        "    def uniqueOccurrences(self, arr: List[int]) -> bool:\n",
        "      freq_map = {}\n",
        "      for num in arr:\n",
        "        freq_map[num] = freq_map.get(num, 0) + 1\n",
        "      freq_set = set(freq_map.values())\n",
        "      return len(freq_set) == len(freq_map)"
      ],
      "metadata": {
        "id": "M6lNQQnXz4sp"
      },
      "execution_count": 33,
      "outputs": []
    },
    {
      "cell_type": "code",
      "source": [
        "Solution.uniqueOccurrences(Solution,[1,2,2,1,1,3])"
      ],
      "metadata": {
        "colab": {
          "base_uri": "https://localhost:8080/"
        },
        "id": "uSfmJfLF2Dsa",
        "outputId": "4991f225-1a00-406f-b0a4-4e489602a44d"
      },
      "execution_count": 34,
      "outputs": [
        {
          "output_type": "execute_result",
          "data": {
            "text/plain": [
              "True"
            ]
          },
          "metadata": {},
          "execution_count": 34
        }
      ]
    },
    {
      "cell_type": "code",
      "source": [],
      "metadata": {
        "id": "bmaWIN-d2Dpo"
      },
      "execution_count": null,
      "outputs": []
    },
    {
      "cell_type": "code",
      "source": [],
      "metadata": {
        "id": "W_AL8eTp2DnI"
      },
      "execution_count": null,
      "outputs": []
    },
    {
      "cell_type": "code",
      "source": [],
      "metadata": {
        "id": "AOR5LxTQ2Dkn"
      },
      "execution_count": null,
      "outputs": []
    },
    {
      "cell_type": "code",
      "source": [],
      "metadata": {
        "id": "YTLz7iA82Dh-"
      },
      "execution_count": null,
      "outputs": []
    },
    {
      "cell_type": "code",
      "source": [],
      "metadata": {
        "id": "zs1zluKV2DfX"
      },
      "execution_count": null,
      "outputs": []
    },
    {
      "cell_type": "code",
      "source": [],
      "metadata": {
        "id": "t5ZIArL22Dcs"
      },
      "execution_count": null,
      "outputs": []
    },
    {
      "cell_type": "code",
      "source": [],
      "metadata": {
        "id": "Dv5TdKGF2DZ7"
      },
      "execution_count": null,
      "outputs": []
    },
    {
      "cell_type": "code",
      "source": [],
      "metadata": {
        "id": "d5e56uI72DXa"
      },
      "execution_count": null,
      "outputs": []
    },
    {
      "cell_type": "code",
      "source": [],
      "metadata": {
        "id": "1RxcfGoC2DUs"
      },
      "execution_count": null,
      "outputs": []
    },
    {
      "cell_type": "code",
      "source": [],
      "metadata": {
        "id": "dOArtviA2DSX"
      },
      "execution_count": null,
      "outputs": []
    }
  ]
}