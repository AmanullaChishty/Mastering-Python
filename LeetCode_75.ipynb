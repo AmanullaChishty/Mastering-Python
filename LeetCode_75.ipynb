{
  "nbformat": 4,
  "nbformat_minor": 0,
  "metadata": {
    "colab": {
      "provenance": [],
      "include_colab_link": true
    },
    "kernelspec": {
      "name": "python3",
      "display_name": "Python 3"
    },
    "language_info": {
      "name": "python"
    }
  },
  "cells": [
    {
      "cell_type": "markdown",
      "metadata": {
        "id": "view-in-github",
        "colab_type": "text"
      },
      "source": [
        "<a href=\"https://colab.research.google.com/github/AmanullaChishty/Mastering-Python/blob/main/LeetCode_75.ipynb\" target=\"_parent\"><img src=\"https://colab.research.google.com/assets/colab-badge.svg\" alt=\"Open In Colab\"/></a>"
      ]
    },
    {
      "cell_type": "markdown",
      "source": [
        "Given a string s, reverse only all the vowels in the string and return it.\n",
        "\n",
        "The vowels are 'a', 'e', 'i', 'o', and 'u', and they can appear in both lower and upper cases, more than once."
      ],
      "metadata": {
        "id": "aau_AMUk5iBH"
      }
    },
    {
      "cell_type": "code",
      "execution_count": 1,
      "metadata": {
        "id": "ls9j9sra3Vnn"
      },
      "outputs": [],
      "source": [
        "class Solution:\n",
        "    def reverseVowels(self, s: str) -> str:\n",
        "      vowels = \"aeiouAEIOU\"\n",
        "      s = list(s)  # Convert the string to a list for mutability\n",
        "      l, r = 0, len(s) - 1  # Initialize two pointers\n",
        "\n",
        "      while l < r:\n",
        "          if s[l] in vowels and s[r] in vowels:  # Both pointers are at vowels\n",
        "              s[l], s[r] = s[r], s[l]  # Swap the vowels\n",
        "              l += 1  # Move the left pointer right\n",
        "              r -= 1  # Move the right pointer left\n",
        "          elif s[l] not in vowels:  # Left pointer is not a vowel\n",
        "              l += 1  # Move the left pointer right\n",
        "          elif s[r] not in vowels:  # Right pointer is not a vowel\n",
        "              r -= 1  # Move the right pointer left\n",
        "\n",
        "      return \"\".join(s)  # Convert the list back to a string\n"
      ]
    },
    {
      "cell_type": "code",
      "source": [
        "Solution.reverseVowels( Solution,\"hello\")"
      ],
      "metadata": {
        "colab": {
          "base_uri": "https://localhost:8080/",
          "height": 36
        },
        "id": "WdpKacHf6Bit",
        "outputId": "1f580d1b-d6cc-49cc-c31c-f07958c78a61"
      },
      "execution_count": 2,
      "outputs": [
        {
          "output_type": "execute_result",
          "data": {
            "text/plain": [
              "'holle'"
            ],
            "application/vnd.google.colaboratory.intrinsic+json": {
              "type": "string"
            }
          },
          "metadata": {},
          "execution_count": 2
        }
      ]
    },
    {
      "cell_type": "markdown",
      "source": [
        "Given an input string s, reverse the order of the words.\n",
        "\n",
        "A word is defined as a sequence of non-space characters. The words in s will be separated by at least one space.\n",
        "\n",
        "Return a string of the words in reverse order concatenated by a single space.\n",
        "\n",
        "Note that s may contain leading or trailing spaces or multiple spaces between two words. The returned string should only have a single space separating the words. Do not include any extra spaces."
      ],
      "metadata": {
        "id": "WSxjpKrNBofW"
      }
    },
    {
      "cell_type": "code",
      "source": [
        "class Solution:\n",
        "  def reverseWords(self, s: str) -> str:\n",
        "    words = s.split()\n",
        "    reversed_words = words[::-1]\n",
        "    return \" \".join(reversed_words)"
      ],
      "metadata": {
        "id": "rmc-Rujv6Bfz"
      },
      "execution_count": 3,
      "outputs": []
    },
    {
      "cell_type": "code",
      "source": [
        "Solution.reverseWords(Solution,\"Let's take LeetCode contest\")"
      ],
      "metadata": {
        "colab": {
          "base_uri": "https://localhost:8080/",
          "height": 36
        },
        "id": "PTGePw-T6Bdb",
        "outputId": "9948e0da-a1a1-42a2-c284-0ae08e580201"
      },
      "execution_count": 4,
      "outputs": [
        {
          "output_type": "execute_result",
          "data": {
            "text/plain": [
              "\"contest LeetCode take Let's\""
            ],
            "application/vnd.google.colaboratory.intrinsic+json": {
              "type": "string"
            }
          },
          "metadata": {},
          "execution_count": 4
        }
      ]
    },
    {
      "cell_type": "markdown",
      "source": [
        "Given an integer array nums, return an array answer such that answer[i] is equal to the product of all the elements of nums except nums[i].\n",
        "\n",
        "The product of any prefix or suffix of nums is guaranteed to fit in a 32-bit integer.\n",
        "\n",
        "You must write an algorithm that runs in O(n) time and without using the division operation."
      ],
      "metadata": {
        "id": "ci1CGFmGDIiI"
      }
    },
    {
      "cell_type": "code",
      "source": [
        "from typing import List\n",
        "class Solution:\n",
        "  def productExceptSelf(self, nums: List[int]) -> List[int]:\n",
        "    n = len(nums)\n",
        "    result = [1] * n  # Initialize result array with all 1s\n",
        "\n",
        "    # Calculate prefix products\n",
        "    prefix_prod = 1\n",
        "    for i in range(n):\n",
        "        result[i] = prefix_prod\n",
        "        prefix_prod *= nums[i]\n",
        "\n",
        "    # Calculate suffix products and multiply with prefix products\n",
        "    postfix_prod = 1\n",
        "    for i in range(n - 1, -1, -1):\n",
        "        result[i] *= postfix_prod\n",
        "        postfix_prod *= nums[i]\n",
        "\n",
        "    return result\n",
        "\n"
      ],
      "metadata": {
        "id": "JjyztW3bCt8K"
      },
      "execution_count": 5,
      "outputs": []
    },
    {
      "cell_type": "code",
      "source": [
        "Solution.productExceptSelf(Solution,[-1,1,0,-3,3])"
      ],
      "metadata": {
        "colab": {
          "base_uri": "https://localhost:8080/"
        },
        "id": "g-Mlp5wjDQVg",
        "outputId": "75edc9a2-33c5-4cdc-cfcd-5ba0d4f7a182"
      },
      "execution_count": 6,
      "outputs": [
        {
          "output_type": "execute_result",
          "data": {
            "text/plain": [
              "[0, 0, 9, 0, 0]"
            ]
          },
          "metadata": {},
          "execution_count": 6
        }
      ]
    },
    {
      "cell_type": "markdown",
      "source": [
        "Given an integer array nums, return true if there exists a triple of indices (i, j, k) such that i < j < k and nums[i] < nums[j] < nums[k]. If no such indices exists, return false."
      ],
      "metadata": {
        "id": "45jyhH3BKeUd"
      }
    },
    {
      "cell_type": "code",
      "source": [
        "from typing import List\n",
        "class Solution:\n",
        "  def increasingTriplet(self, nums: List[int]) -> bool:\n",
        "    first = second = float('inf')\n",
        "\n",
        "    for num in nums:\n",
        "        if num <= first:\n",
        "            first = num\n",
        "        elif num <= second:\n",
        "            second = num\n",
        "        else:\n",
        "            return True\n",
        "\n",
        "    return False"
      ],
      "metadata": {
        "id": "3p75154nDQOx"
      },
      "execution_count": 7,
      "outputs": []
    },
    {
      "cell_type": "code",
      "source": [
        "Solution.increasingTriplet(Solution,[2,1,5,0,4,6])"
      ],
      "metadata": {
        "colab": {
          "base_uri": "https://localhost:8080/"
        },
        "id": "C2koDaYgLZJS",
        "outputId": "91dc8a71-a048-423c-87d3-a2a6723c0da6"
      },
      "execution_count": 8,
      "outputs": [
        {
          "output_type": "execute_result",
          "data": {
            "text/plain": [
              "True"
            ]
          },
          "metadata": {},
          "execution_count": 8
        }
      ]
    },
    {
      "cell_type": "markdown",
      "source": [
        "Given an array of characters chars, compress it using the following algorithm:\n",
        "\n",
        "Begin with an empty string s. For each group of consecutive repeating characters in chars:\n",
        "\n",
        "If the group's length is 1, append the character to s.\n",
        "Otherwise, append the character followed by the group's length.\n",
        "The compressed string s should not be returned separately, but instead, be stored in the input character array chars. Note that group lengths that are 10 or longer will be split into multiple characters in chars.\n",
        "\n",
        "After you are done modifying the input array, return the new length of the array.\n",
        "\n",
        "You must write an algorithm that uses only constant extra space."
      ],
      "metadata": {
        "id": "yQwUyr20KtKj"
      }
    },
    {
      "cell_type": "code",
      "source": [
        "class Solution:\n",
        "    def compress(self, chars: List[str]) -> int:\n",
        "        write = 0\n",
        "        read = 0\n",
        "        n = len(chars)\n",
        "\n",
        "        while read < n:\n",
        "            start = read\n",
        "            while read < n and chars[read]==chars[start]:\n",
        "                read+=1\n",
        "            chars[write] = chars[start]\n",
        "            write +=1\n",
        "            count = read - start\n",
        "            if count > 1:\n",
        "                for digit in str(count):\n",
        "                    chars[write] = digit\n",
        "                    write +=1\n",
        "        return write\n"
      ],
      "metadata": {
        "id": "7db31ZRmDQF8"
      },
      "execution_count": 9,
      "outputs": []
    },
    {
      "cell_type": "code",
      "source": [
        "Solution.compress(Solution,[\"a\",\"a\",\"b\",\"b\",\"c\",\"c\",\"c\"])"
      ],
      "metadata": {
        "id": "Kwu57icTDQC1",
        "colab": {
          "base_uri": "https://localhost:8080/"
        },
        "outputId": "c0f5dc11-f8aa-4e04-b56e-eb9bfb9056f0"
      },
      "execution_count": 10,
      "outputs": [
        {
          "output_type": "execute_result",
          "data": {
            "text/plain": [
              "6"
            ]
          },
          "metadata": {},
          "execution_count": 10
        }
      ]
    },
    {
      "cell_type": "markdown",
      "source": [
        "Given an integer array nums, move all 0's to the end of it while maintaining the relative order of the non-zero elements.\n",
        "\n",
        "Note that you must do this in-place without making a copy of the array."
      ],
      "metadata": {
        "id": "qOIxtKSHQQWO"
      }
    },
    {
      "cell_type": "code",
      "source": [
        "class Solution:\n",
        "    def moveZeroes(self, nums: List[int]) -> None:\n",
        "      nums.sort(key=lambda x: x == 0)\n",
        "      return nums\n"
      ],
      "metadata": {
        "id": "8ymmPa3BQSSv"
      },
      "execution_count": 11,
      "outputs": []
    },
    {
      "cell_type": "code",
      "source": [
        "Solution.moveZeroes(Solution,[0,1,0,3,12])"
      ],
      "metadata": {
        "colab": {
          "base_uri": "https://localhost:8080/"
        },
        "id": "qWXdkYdDQSYi",
        "outputId": "8a17555b-dcb0-4e5c-c304-74b2679571ed"
      },
      "execution_count": 12,
      "outputs": [
        {
          "output_type": "execute_result",
          "data": {
            "text/plain": [
              "[1, 3, 12, 0, 0]"
            ]
          },
          "metadata": {},
          "execution_count": 12
        }
      ]
    },
    {
      "cell_type": "markdown",
      "source": [
        "Given two strings s and t, return true if s is a subsequence of t, or false otherwise.\n",
        "\n",
        "A subsequence of a string is a new string that is formed from the original string by deleting some (can be none) of the characters without disturbing the relative positions of the remaining characters. (i.e., \"ace\" is a subsequence of \"abcde\" while \"aec\" is not)."
      ],
      "metadata": {
        "id": "LvfXRPj8aId6"
      }
    },
    {
      "cell_type": "code",
      "source": [
        "class Solution:\n",
        "  def isSubsequence(self, s: str, t: str) -> bool:\n",
        "    s_index = 0\n",
        "    t_index = 0\n",
        "\n",
        "    while s_index < len(s) and t_index < len(t):\n",
        "        if s[s_index] == t[t_index]:\n",
        "            s_index += 1\n",
        "        t_index += 1\n",
        "    return s_index == len(s)"
      ],
      "metadata": {
        "id": "6FSuX5JlZwX3"
      },
      "execution_count": 13,
      "outputs": []
    },
    {
      "cell_type": "code",
      "source": [
        "Solution.isSubsequence(Solution,\"axc\",\"ahbgdc\")"
      ],
      "metadata": {
        "colab": {
          "base_uri": "https://localhost:8080/"
        },
        "id": "8dwcle1hZwUS",
        "outputId": "327d8314-80a6-4def-c070-98e94433ea9a"
      },
      "execution_count": 14,
      "outputs": [
        {
          "output_type": "execute_result",
          "data": {
            "text/plain": [
              "False"
            ]
          },
          "metadata": {},
          "execution_count": 14
        }
      ]
    },
    {
      "cell_type": "markdown",
      "source": [
        "11. You are given an integer array height of length n. There are n vertical lines drawn such that the two endpoints of the ith line are (i, 0) and (i, height[i]).\n",
        "\n",
        "  Find two lines that together with the x-axis form a container, such that the container contains the most water.\n",
        "\n",
        "  Return the maximum amount of water a container can store.\n",
        "\n",
        "  Notice that you may not slant the container."
      ],
      "metadata": {
        "id": "P_AltXY0cmfA"
      }
    },
    {
      "cell_type": "code",
      "source": [
        "class Solution:\n",
        "    def maxArea(self, height: List[int]) -> int:\n",
        "      max_area = 0\n",
        "      left = 0\n",
        "      right = len(height) - 1\n",
        "      while left < right:\n",
        "          area = min(height[left], height[right]) * (right - left)\n",
        "          max_area = max(max_area, area)\n",
        "          if height[left] < height[right]:\n",
        "              left += 1\n",
        "          else:\n",
        "              right -= 1\n",
        "      return max_area"
      ],
      "metadata": {
        "id": "jw4yIouIZwRk"
      },
      "execution_count": 15,
      "outputs": []
    },
    {
      "cell_type": "code",
      "source": [
        "Solution.maxArea(Solution,[1,8,6,2,5,4,8,3,7])"
      ],
      "metadata": {
        "colab": {
          "base_uri": "https://localhost:8080/"
        },
        "id": "MHQH4cfRZwM_",
        "outputId": "d6214f7a-c435-4bc9-ecb5-ff0fe90c331e"
      },
      "execution_count": 16,
      "outputs": [
        {
          "output_type": "execute_result",
          "data": {
            "text/plain": [
              "49"
            ]
          },
          "metadata": {},
          "execution_count": 16
        }
      ]
    },
    {
      "cell_type": "markdown",
      "source": [
        "12.You are given an integer array nums and an integer k.\n",
        "\n",
        "In one operation, you can pick two numbers from the array whose sum equals k and remove them from the array.\n",
        "\n",
        "Return the maximum number of operations you can perform on the array."
      ],
      "metadata": {
        "id": "Nf9SyN88ylPY"
      }
    },
    {
      "cell_type": "code",
      "source": [
        "class Solution:\n",
        "    def maxOperations(self, nums: List[int], k: int) -> int:\n",
        "      nums.sort()\n",
        "      left = 0\n",
        "      right = len(nums) -1\n",
        "      count = 0\n",
        "      while left < right:\n",
        "        if nums[left] + nums[right] == k:\n",
        "          count += 1\n",
        "          left += 1\n",
        "          right -= 1\n",
        "        elif nums[left] + nums[right] < k:\n",
        "          left += 1\n",
        "        else:\n",
        "          right -= 1\n",
        "      return count"
      ],
      "metadata": {
        "id": "_co--3cLZwG4"
      },
      "execution_count": 17,
      "outputs": []
    },
    {
      "cell_type": "code",
      "source": [
        "Solution.maxOperations(Solution,[1,2,3,4],5)"
      ],
      "metadata": {
        "id": "cj0UbwTfZwD8",
        "colab": {
          "base_uri": "https://localhost:8080/"
        },
        "outputId": "e33c8a92-7ebc-481c-948a-32bbc8970767"
      },
      "execution_count": 18,
      "outputs": [
        {
          "output_type": "execute_result",
          "data": {
            "text/plain": [
              "2"
            ]
          },
          "metadata": {},
          "execution_count": 18
        }
      ]
    },
    {
      "cell_type": "markdown",
      "source": [
        "13. You are given an integer array nums consisting of n elements, and an integer k.\n",
        "\n",
        "Find a contiguous subarray whose length is equal to k that has the maximum average value and return this value. Any answer with a calculation error less than 10-5 will be accepted."
      ],
      "metadata": {
        "id": "dlnnnFJp0HPp"
      }
    },
    {
      "cell_type": "code",
      "source": [
        "class Solution:\n",
        "    def findMaxAverage(self, nums: List[int], k: int) -> float:\n",
        "      n = len(nums)\n",
        "      max_sum = float('-inf')\n",
        "      current_sum = sum(nums[:k])\n",
        "      max_sum = max(max_sum, current_sum)\n",
        "      for i in range(k, n):\n",
        "          current_sum += nums[i] - nums[i - k]\n",
        "          max_sum = max(max_sum, current_sum)\n",
        "      return max_sum / k"
      ],
      "metadata": {
        "id": "syilUfvSZwB5"
      },
      "execution_count": 19,
      "outputs": []
    },
    {
      "cell_type": "code",
      "source": [
        "Solution.findMaxAverage(Solution,[1,12,-5,-6,50,3],4)"
      ],
      "metadata": {
        "id": "Q31Eo-A3ZwBC",
        "colab": {
          "base_uri": "https://localhost:8080/"
        },
        "outputId": "0397065d-460f-4bb4-c48b-1585d19ca701"
      },
      "execution_count": 20,
      "outputs": [
        {
          "output_type": "execute_result",
          "data": {
            "text/plain": [
              "12.75"
            ]
          },
          "metadata": {},
          "execution_count": 20
        }
      ]
    },
    {
      "cell_type": "markdown",
      "source": [
        "14. Given a string s and an integer k, return the maximum number of vowel letters in any substring of s with length k.\n",
        "\n",
        "  Vowel letters in English are 'a', 'e', 'i', 'o', and 'u'."
      ],
      "metadata": {
        "id": "o3Jl5z5eB00c"
      }
    },
    {
      "cell_type": "code",
      "source": [
        "class Solution:\n",
        "    def maxVowels(self, s: str, k: int) -> int:\n",
        "      vowels = \"aeiou\"\n",
        "      max_vowels = 0\n",
        "      current_vowels = 0\n",
        "      for i in range(len(s)):\n",
        "          if s[i].lower() in vowels:\n",
        "              current_vowels += 1\n",
        "          if i >= k and s[i - k].lower() in vowels:\n",
        "              current_vowels -= 1\n",
        "          max_vowels = max(max_vowels, current_vowels)\n",
        "      return max_vowels\n",
        ""
      ],
      "metadata": {
        "id": "_fek_GFB0G3m"
      },
      "execution_count": 34,
      "outputs": []
    },
    {
      "cell_type": "code",
      "source": [
        "Solution.maxVowels(Solution,\"abciiidef\",3)"
      ],
      "metadata": {
        "colab": {
          "base_uri": "https://localhost:8080/"
        },
        "id": "XetBSAnp0G0L",
        "outputId": "f46b7e68-d50f-439a-d844-aa090cfe9f38"
      },
      "execution_count": 35,
      "outputs": [
        {
          "output_type": "execute_result",
          "data": {
            "text/plain": [
              "3"
            ]
          },
          "metadata": {},
          "execution_count": 35
        }
      ]
    },
    {
      "cell_type": "code",
      "source": [],
      "metadata": {
        "id": "5fjTVz2z0Gul"
      },
      "execution_count": 20,
      "outputs": []
    },
    {
      "cell_type": "code",
      "source": [],
      "metadata": {
        "id": "0V-ZALWP0Grl"
      },
      "execution_count": 20,
      "outputs": []
    },
    {
      "cell_type": "code",
      "source": [],
      "metadata": {
        "id": "t6YELOtH0Go6"
      },
      "execution_count": 20,
      "outputs": []
    },
    {
      "cell_type": "code",
      "source": [],
      "metadata": {
        "id": "jBNE2VhE0GmN"
      },
      "execution_count": 20,
      "outputs": []
    }
  ]
}