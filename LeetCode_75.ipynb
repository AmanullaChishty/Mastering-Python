{
  "nbformat": 4,
  "nbformat_minor": 0,
  "metadata": {
    "colab": {
      "provenance": [],
      "include_colab_link": true
    },
    "kernelspec": {
      "name": "python3",
      "display_name": "Python 3"
    },
    "language_info": {
      "name": "python"
    }
  },
  "cells": [
    {
      "cell_type": "markdown",
      "metadata": {
        "id": "view-in-github",
        "colab_type": "text"
      },
      "source": [
        "<a href=\"https://colab.research.google.com/github/AmanullaChishty/Mastering-Python/blob/main/LeetCode_75.ipynb\" target=\"_parent\"><img src=\"https://colab.research.google.com/assets/colab-badge.svg\" alt=\"Open In Colab\"/></a>"
      ]
    },
    {
      "cell_type": "markdown",
      "source": [
        "Given a string s, reverse only all the vowels in the string and return it.\n",
        "\n",
        "The vowels are 'a', 'e', 'i', 'o', and 'u', and they can appear in both lower and upper cases, more than once."
      ],
      "metadata": {
        "id": "aau_AMUk5iBH"
      }
    },
    {
      "cell_type": "code",
      "execution_count": 1,
      "metadata": {
        "id": "ls9j9sra3Vnn"
      },
      "outputs": [],
      "source": [
        "class Solution:\n",
        "    def reverseVowels(self, s: str) -> str:\n",
        "      vowels = \"aeiouAEIOU\"\n",
        "      s = list(s)  # Convert the string to a list for mutability\n",
        "      l, r = 0, len(s) - 1  # Initialize two pointers\n",
        "\n",
        "      while l < r:\n",
        "          if s[l] in vowels and s[r] in vowels:  # Both pointers are at vowels\n",
        "              s[l], s[r] = s[r], s[l]  # Swap the vowels\n",
        "              l += 1  # Move the left pointer right\n",
        "              r -= 1  # Move the right pointer left\n",
        "          elif s[l] not in vowels:  # Left pointer is not a vowel\n",
        "              l += 1  # Move the left pointer right\n",
        "          elif s[r] not in vowels:  # Right pointer is not a vowel\n",
        "              r -= 1  # Move the right pointer left\n",
        "\n",
        "      return \"\".join(s)  # Convert the list back to a string\n"
      ]
    },
    {
      "cell_type": "code",
      "source": [
        "Solution.reverseVowels( Solution,\"hello\")"
      ],
      "metadata": {
        "colab": {
          "base_uri": "https://localhost:8080/",
          "height": 36
        },
        "id": "WdpKacHf6Bit",
        "outputId": "b4acbe0a-1ece-430d-be1f-3641b78a6119"
      },
      "execution_count": 2,
      "outputs": [
        {
          "output_type": "execute_result",
          "data": {
            "text/plain": [
              "'holle'"
            ],
            "application/vnd.google.colaboratory.intrinsic+json": {
              "type": "string"
            }
          },
          "metadata": {},
          "execution_count": 2
        }
      ]
    },
    {
      "cell_type": "markdown",
      "source": [
        "Given an input string s, reverse the order of the words.\n",
        "\n",
        "A word is defined as a sequence of non-space characters. The words in s will be separated by at least one space.\n",
        "\n",
        "Return a string of the words in reverse order concatenated by a single space.\n",
        "\n",
        "Note that s may contain leading or trailing spaces or multiple spaces between two words. The returned string should only have a single space separating the words. Do not include any extra spaces."
      ],
      "metadata": {
        "id": "WSxjpKrNBofW"
      }
    },
    {
      "cell_type": "code",
      "source": [
        "class Solution:\n",
        "  def reverseWords(self, s: str) -> str:\n",
        "    words = s.split()\n",
        "    reversed_words = words[::-1]\n",
        "    return \" \".join(reversed_words)"
      ],
      "metadata": {
        "id": "rmc-Rujv6Bfz"
      },
      "execution_count": 3,
      "outputs": []
    },
    {
      "cell_type": "code",
      "source": [
        "Solution.reverseWords(Solution,\"Let's take LeetCode contest\")"
      ],
      "metadata": {
        "colab": {
          "base_uri": "https://localhost:8080/",
          "height": 36
        },
        "id": "PTGePw-T6Bdb",
        "outputId": "994dde06-4570-4d92-c603-5f906cef8529"
      },
      "execution_count": 4,
      "outputs": [
        {
          "output_type": "execute_result",
          "data": {
            "text/plain": [
              "\"contest LeetCode take Let's\""
            ],
            "application/vnd.google.colaboratory.intrinsic+json": {
              "type": "string"
            }
          },
          "metadata": {},
          "execution_count": 4
        }
      ]
    },
    {
      "cell_type": "markdown",
      "source": [
        "Given an integer array nums, return an array answer such that answer[i] is equal to the product of all the elements of nums except nums[i].\n",
        "\n",
        "The product of any prefix or suffix of nums is guaranteed to fit in a 32-bit integer.\n",
        "\n",
        "You must write an algorithm that runs in O(n) time and without using the division operation."
      ],
      "metadata": {
        "id": "ci1CGFmGDIiI"
      }
    },
    {
      "cell_type": "code",
      "source": [
        "from typing import List\n",
        "class Solution:\n",
        "  def productExceptSelf(self, nums: List[int]) -> List[int]:\n",
        "    n = len(nums)\n",
        "    result = [1] * n  # Initialize result array with all 1s\n",
        "\n",
        "    # Calculate prefix products\n",
        "    prefix_prod = 1\n",
        "    for i in range(n):\n",
        "        result[i] = prefix_prod\n",
        "        prefix_prod *= nums[i]\n",
        "\n",
        "    # Calculate suffix products and multiply with prefix products\n",
        "    postfix_prod = 1\n",
        "    for i in range(n - 1, -1, -1):\n",
        "        result[i] *= postfix_prod\n",
        "        postfix_prod *= nums[i]\n",
        "\n",
        "    return result\n",
        "\n"
      ],
      "metadata": {
        "id": "JjyztW3bCt8K"
      },
      "execution_count": 5,
      "outputs": []
    },
    {
      "cell_type": "code",
      "source": [
        "Solution.productExceptSelf(Solution,[-1,1,0,-3,3])"
      ],
      "metadata": {
        "colab": {
          "base_uri": "https://localhost:8080/"
        },
        "id": "g-Mlp5wjDQVg",
        "outputId": "9f673bcc-e1e4-4494-8278-858b3c2d64f6"
      },
      "execution_count": 6,
      "outputs": [
        {
          "output_type": "execute_result",
          "data": {
            "text/plain": [
              "[0, 0, 9, 0, 0]"
            ]
          },
          "metadata": {},
          "execution_count": 6
        }
      ]
    },
    {
      "cell_type": "markdown",
      "source": [
        "Given an integer array nums, return true if there exists a triple of indices (i, j, k) such that i < j < k and nums[i] < nums[j] < nums[k]. If no such indices exists, return false."
      ],
      "metadata": {
        "id": "45jyhH3BKeUd"
      }
    },
    {
      "cell_type": "code",
      "source": [
        "from typing import List\n",
        "class Solution:\n",
        "  def increasingTriplet(self, nums: List[int]) -> bool:\n",
        "    first = second = float('inf')\n",
        "\n",
        "    for num in nums:\n",
        "        if num <= first:\n",
        "            first = num\n",
        "        elif num <= second:\n",
        "            second = num\n",
        "        else:\n",
        "            return True\n",
        "\n",
        "    return False"
      ],
      "metadata": {
        "id": "3p75154nDQOx"
      },
      "execution_count": 7,
      "outputs": []
    },
    {
      "cell_type": "code",
      "source": [
        "Solution.increasingTriplet(Solution,[2,1,5,0,4,6])"
      ],
      "metadata": {
        "colab": {
          "base_uri": "https://localhost:8080/"
        },
        "id": "C2koDaYgLZJS",
        "outputId": "2e2c53a4-042d-4e64-a962-f632f19fc9a1"
      },
      "execution_count": 8,
      "outputs": [
        {
          "output_type": "execute_result",
          "data": {
            "text/plain": [
              "True"
            ]
          },
          "metadata": {},
          "execution_count": 8
        }
      ]
    },
    {
      "cell_type": "markdown",
      "source": [
        "Given an array of characters chars, compress it using the following algorithm:\n",
        "\n",
        "Begin with an empty string s. For each group of consecutive repeating characters in chars:\n",
        "\n",
        "If the group's length is 1, append the character to s.\n",
        "Otherwise, append the character followed by the group's length.\n",
        "The compressed string s should not be returned separately, but instead, be stored in the input character array chars. Note that group lengths that are 10 or longer will be split into multiple characters in chars.\n",
        "\n",
        "After you are done modifying the input array, return the new length of the array.\n",
        "\n",
        "You must write an algorithm that uses only constant extra space."
      ],
      "metadata": {
        "id": "yQwUyr20KtKj"
      }
    },
    {
      "cell_type": "code",
      "source": [
        "class Solution:\n",
        "    def compress(self, chars: List[str]) -> int:\n",
        "        write = 0\n",
        "        read = 0\n",
        "        n = len(chars)\n",
        "\n",
        "        while read < n:\n",
        "            start = read\n",
        "            while read < n and chars[read]==chars[start]:\n",
        "                read+=1\n",
        "            chars[write] = chars[start]\n",
        "            write +=1\n",
        "            count = read - start\n",
        "            if count > 1:\n",
        "                for digit in str(count):\n",
        "                    chars[write] = digit\n",
        "                    write +=1\n",
        "        return write\n"
      ],
      "metadata": {
        "id": "7db31ZRmDQF8"
      },
      "execution_count": 9,
      "outputs": []
    },
    {
      "cell_type": "code",
      "source": [
        "Solution.compress(Solution,[\"a\",\"a\",\"b\",\"b\",\"c\",\"c\",\"c\"])"
      ],
      "metadata": {
        "id": "Kwu57icTDQC1",
        "colab": {
          "base_uri": "https://localhost:8080/"
        },
        "outputId": "e5d23a16-e88a-4c6d-d9d0-694aa8c1dda0"
      },
      "execution_count": 10,
      "outputs": [
        {
          "output_type": "execute_result",
          "data": {
            "text/plain": [
              "6"
            ]
          },
          "metadata": {},
          "execution_count": 10
        }
      ]
    },
    {
      "cell_type": "markdown",
      "source": [
        "Given an integer array nums, move all 0's to the end of it while maintaining the relative order of the non-zero elements.\n",
        "\n",
        "Note that you must do this in-place without making a copy of the array."
      ],
      "metadata": {
        "id": "qOIxtKSHQQWO"
      }
    },
    {
      "cell_type": "code",
      "source": [
        "class Solution:\n",
        "    def moveZeroes(self, nums: List[int]) -> None:\n",
        "      nums.sort(key=lambda x: x == 0)\n",
        "      return nums\n"
      ],
      "metadata": {
        "id": "8ymmPa3BQSSv"
      },
      "execution_count": 11,
      "outputs": []
    },
    {
      "cell_type": "code",
      "source": [
        "Solution.moveZeroes(Solution,[0,1,0,3,12])"
      ],
      "metadata": {
        "colab": {
          "base_uri": "https://localhost:8080/"
        },
        "id": "qWXdkYdDQSYi",
        "outputId": "2ec6090c-efda-435b-9466-3d829c715729"
      },
      "execution_count": 12,
      "outputs": [
        {
          "output_type": "execute_result",
          "data": {
            "text/plain": [
              "[1, 3, 12, 0, 0]"
            ]
          },
          "metadata": {},
          "execution_count": 12
        }
      ]
    },
    {
      "cell_type": "markdown",
      "source": [
        "Given two strings s and t, return true if s is a subsequence of t, or false otherwise.\n",
        "\n",
        "A subsequence of a string is a new string that is formed from the original string by deleting some (can be none) of the characters without disturbing the relative positions of the remaining characters. (i.e., \"ace\" is a subsequence of \"abcde\" while \"aec\" is not)."
      ],
      "metadata": {
        "id": "LvfXRPj8aId6"
      }
    },
    {
      "cell_type": "code",
      "source": [
        "class Solution:\n",
        "  def isSubsequence(self, s: str, t: str) -> bool:\n",
        "    s_index = 0\n",
        "    t_index = 0\n",
        "\n",
        "    while s_index < len(s) and t_index < len(t):\n",
        "        if s[s_index] == t[t_index]:\n",
        "            s_index += 1\n",
        "        t_index += 1\n",
        "    return s_index == len(s)"
      ],
      "metadata": {
        "id": "6FSuX5JlZwX3"
      },
      "execution_count": 13,
      "outputs": []
    },
    {
      "cell_type": "code",
      "source": [
        "Solution.isSubsequence(Solution,\"axc\",\"ahbgdc\")"
      ],
      "metadata": {
        "colab": {
          "base_uri": "https://localhost:8080/"
        },
        "id": "8dwcle1hZwUS",
        "outputId": "1d54f34b-c307-4a7e-9e50-81f3ee2beb11"
      },
      "execution_count": 14,
      "outputs": [
        {
          "output_type": "execute_result",
          "data": {
            "text/plain": [
              "False"
            ]
          },
          "metadata": {},
          "execution_count": 14
        }
      ]
    },
    {
      "cell_type": "markdown",
      "source": [
        "11. You are given an integer array height of length n. There are n vertical lines drawn such that the two endpoints of the ith line are (i, 0) and (i, height[i]).\n",
        "\n",
        "  Find two lines that together with the x-axis form a container, such that the container contains the most water.\n",
        "\n",
        "  Return the maximum amount of water a container can store.\n",
        "\n",
        "  Notice that you may not slant the container."
      ],
      "metadata": {
        "id": "P_AltXY0cmfA"
      }
    },
    {
      "cell_type": "code",
      "source": [
        "class Solution:\n",
        "    def maxArea(self, height: List[int]) -> int:\n",
        "      max_area = 0\n",
        "      left = 0\n",
        "      right = len(height) - 1\n",
        "      while left < right:\n",
        "          area = min(height[left], height[right]) * (right - left)\n",
        "          max_area = max(max_area, area)\n",
        "          if height[left] < height[right]:\n",
        "              left += 1\n",
        "          else:\n",
        "              right -= 1\n",
        "      return max_area"
      ],
      "metadata": {
        "id": "jw4yIouIZwRk"
      },
      "execution_count": 15,
      "outputs": []
    },
    {
      "cell_type": "code",
      "source": [
        "Solution.maxArea(Solution,[1,8,6,2,5,4,8,3,7])"
      ],
      "metadata": {
        "colab": {
          "base_uri": "https://localhost:8080/"
        },
        "id": "MHQH4cfRZwM_",
        "outputId": "5bf25c50-f9f9-49b5-be75-77ff825bbbc6"
      },
      "execution_count": 16,
      "outputs": [
        {
          "output_type": "execute_result",
          "data": {
            "text/plain": [
              "49"
            ]
          },
          "metadata": {},
          "execution_count": 16
        }
      ]
    },
    {
      "cell_type": "markdown",
      "source": [
        "12.You are given an integer array nums and an integer k.\n",
        "\n",
        "In one operation, you can pick two numbers from the array whose sum equals k and remove them from the array.\n",
        "\n",
        "Return the maximum number of operations you can perform on the array."
      ],
      "metadata": {
        "id": "Nf9SyN88ylPY"
      }
    },
    {
      "cell_type": "code",
      "source": [
        "class Solution:\n",
        "    def maxOperations(self, nums: List[int], k: int) -> int:\n",
        "      nums.sort()\n",
        "      left = 0\n",
        "      right = len(nums) -1\n",
        "      count = 0\n",
        "      while left < right:\n",
        "        if nums[left] + nums[right] == k:\n",
        "          count += 1\n",
        "          left += 1\n",
        "          right -= 1\n",
        "        elif nums[left] + nums[right] < k:\n",
        "          left += 1\n",
        "        else:\n",
        "          right -= 1\n",
        "      return count"
      ],
      "metadata": {
        "id": "_co--3cLZwG4"
      },
      "execution_count": 17,
      "outputs": []
    },
    {
      "cell_type": "code",
      "source": [
        "Solution.maxOperations(Solution,[1,2,3,4],5)"
      ],
      "metadata": {
        "id": "cj0UbwTfZwD8",
        "colab": {
          "base_uri": "https://localhost:8080/"
        },
        "outputId": "38cc6cf5-55ec-498e-ae86-a4e9868920a0"
      },
      "execution_count": 18,
      "outputs": [
        {
          "output_type": "execute_result",
          "data": {
            "text/plain": [
              "2"
            ]
          },
          "metadata": {},
          "execution_count": 18
        }
      ]
    },
    {
      "cell_type": "markdown",
      "source": [
        "13. You are given an integer array nums consisting of n elements, and an integer k.\n",
        "\n",
        "Find a contiguous subarray whose length is equal to k that has the maximum average value and return this value. Any answer with a calculation error less than 10-5 will be accepted."
      ],
      "metadata": {
        "id": "dlnnnFJp0HPp"
      }
    },
    {
      "cell_type": "code",
      "source": [
        "class Solution:\n",
        "    def findMaxAverage(self, nums: List[int], k: int) -> float:\n",
        "      n = len(nums)\n",
        "      max_sum = float('-inf')\n",
        "      current_sum = sum(nums[:k])\n",
        "      max_sum = max(max_sum, current_sum)\n",
        "      for i in range(k, n):\n",
        "          current_sum += nums[i] - nums[i - k]\n",
        "          max_sum = max(max_sum, current_sum)\n",
        "      return max_sum / k"
      ],
      "metadata": {
        "id": "syilUfvSZwB5"
      },
      "execution_count": 19,
      "outputs": []
    },
    {
      "cell_type": "code",
      "source": [
        "Solution.findMaxAverage(Solution,[1,12,-5,-6,50,3],4)"
      ],
      "metadata": {
        "id": "Q31Eo-A3ZwBC",
        "colab": {
          "base_uri": "https://localhost:8080/"
        },
        "outputId": "0956c5e3-1f2c-46cd-9a26-f4cc0dd39996"
      },
      "execution_count": 20,
      "outputs": [
        {
          "output_type": "execute_result",
          "data": {
            "text/plain": [
              "12.75"
            ]
          },
          "metadata": {},
          "execution_count": 20
        }
      ]
    },
    {
      "cell_type": "markdown",
      "source": [
        "14. Given a string s and an integer k, return the maximum number of vowel letters in any substring of s with length k.\n",
        "\n",
        "  Vowel letters in English are 'a', 'e', 'i', 'o', and 'u'."
      ],
      "metadata": {
        "id": "o3Jl5z5eB00c"
      }
    },
    {
      "cell_type": "code",
      "source": [
        "class Solution:\n",
        "    def maxVowels(self, s: str, k: int) -> int:\n",
        "      vowels = \"aeiou\"\n",
        "      max_vowels = 0\n",
        "      current_vowels = 0\n",
        "      for i in range(len(s)):\n",
        "          if s[i].lower() in vowels:\n",
        "              current_vowels += 1\n",
        "          if i >= k and s[i - k].lower() in vowels:\n",
        "              current_vowels -= 1\n",
        "          max_vowels = max(max_vowels, current_vowels)\n",
        "      return max_vowels\n"
      ],
      "metadata": {
        "id": "_fek_GFB0G3m"
      },
      "execution_count": 21,
      "outputs": []
    },
    {
      "cell_type": "code",
      "source": [
        "Solution.maxVowels(Solution,\"abciiidef\",3)"
      ],
      "metadata": {
        "colab": {
          "base_uri": "https://localhost:8080/"
        },
        "id": "XetBSAnp0G0L",
        "outputId": "c8e89894-9e9e-48b4-8f3e-51ef501b1f97"
      },
      "execution_count": 22,
      "outputs": [
        {
          "output_type": "execute_result",
          "data": {
            "text/plain": [
              "3"
            ]
          },
          "metadata": {},
          "execution_count": 22
        }
      ]
    },
    {
      "cell_type": "markdown",
      "source": [
        "16. Given a binary array nums and an integer k, return the maximum number of consecutive 1's in the array if you can flip at most k 0's"
      ],
      "metadata": {
        "id": "7A0v2jzGETN-"
      }
    },
    {
      "cell_type": "code",
      "source": [
        "class Solution:\n",
        "    def longestOnes(self, nums: List[int], k: int) -> int:\n",
        "      left = 0\n",
        "      max_length = 0\n",
        "      zero_count = 0\n",
        "\n",
        "      for right in range(len(nums)):\n",
        "          if nums[right] == 0:\n",
        "              zero_count += 1\n",
        "\n",
        "          while zero_count > k:\n",
        "              if nums[left] == 0:\n",
        "                  zero_count -= 1\n",
        "              left += 1\n",
        "\n",
        "          max_length = max(max_length, right - left + 1)\n",
        "\n",
        "      return max_length\n",
        "\n",
        "\n"
      ],
      "metadata": {
        "id": "5fjTVz2z0Gul"
      },
      "execution_count": 23,
      "outputs": []
    },
    {
      "cell_type": "code",
      "source": [
        "Solution.longestOnes(Solution,[1,1,1,0,0,0,1,1,1,1,0],2)"
      ],
      "metadata": {
        "colab": {
          "base_uri": "https://localhost:8080/"
        },
        "id": "t6YELOtH0Go6",
        "outputId": "f0f65593-d064-4a6d-a5be-9c686f305695"
      },
      "execution_count": 24,
      "outputs": [
        {
          "output_type": "execute_result",
          "data": {
            "text/plain": [
              "6"
            ]
          },
          "metadata": {},
          "execution_count": 24
        }
      ]
    },
    {
      "cell_type": "markdown",
      "source": [
        "17. Given a binary array nums, you should delete one element from it.\n",
        "\n",
        "  Return the size of the longest non-empty subarray containing only 1's in the resulting array. Return 0 if there is no such subarray."
      ],
      "metadata": {
        "id": "MkNYgsRuN2bR"
      }
    },
    {
      "cell_type": "code",
      "source": [
        "class Solution:\n",
        "    def longestSubarray(self, nums: List[int]) -> int:\n",
        "      if not nums:\n",
        "        return 0\n",
        "      prev_zero = -1\n",
        "      prev_prev_zero = -2\n",
        "      longest_subarray = nums[0]\n",
        "\n",
        "      for index in range(len(nums)):\n",
        "        if nums[index] == 1:\n",
        "          longest_subarray = max(longest_subarray, index - prev_prev_zero-1)\n",
        "        else:\n",
        "          prev_prev_zero = prev_zero\n",
        "          prev_zero = index\n",
        "      if prev_zero == -1:\n",
        "        longest_subarray -=1\n",
        "      return longest_subarray"
      ],
      "metadata": {
        "id": "jBNE2VhE0GmN"
      },
      "execution_count": 25,
      "outputs": []
    },
    {
      "cell_type": "code",
      "source": [
        "Solution.longestSubarray(Solution,[0,1,1,1,0,1,1,0,1])"
      ],
      "metadata": {
        "colab": {
          "base_uri": "https://localhost:8080/"
        },
        "id": "6nZnjMOQO3Fn",
        "outputId": "8a086989-8753-43d9-d19d-038f50b8de1b"
      },
      "execution_count": 26,
      "outputs": [
        {
          "output_type": "execute_result",
          "data": {
            "text/plain": [
              "5"
            ]
          },
          "metadata": {},
          "execution_count": 26
        }
      ]
    },
    {
      "cell_type": "markdown",
      "source": [
        "18. There is a biker going on a road trip. The road trip consists of n + 1 points at different altitudes. The biker starts his trip on point 0 with altitude equal 0.\n",
        "\n",
        "  You are given an integer array gain of length n where gain[i] is the net gain in altitude between points i​​​​​​ and i + 1 for all (0 <= i < n). Return the highest altitude of a point."
      ],
      "metadata": {
        "id": "_bV9F3y9T1Dh"
      }
    },
    {
      "cell_type": "code",
      "source": [
        "class Solution:\n",
        "    def largestAltitude(self, gain: List[int]) -> int:\n",
        "      max_altitude = 0\n",
        "      current_altitude = 0\n",
        "      for i in range(len(gain)):\n",
        "        current_altitude += gain[i]\n",
        "        max_altitude = max(max_altitude, current_altitude)\n",
        "      return max_altitude"
      ],
      "metadata": {
        "id": "uoJZrBllPB0D"
      },
      "execution_count": 27,
      "outputs": []
    },
    {
      "cell_type": "code",
      "source": [
        "Solution.largestAltitude(Solution,[-5,1,5,0,-7])"
      ],
      "metadata": {
        "colab": {
          "base_uri": "https://localhost:8080/"
        },
        "id": "5r5UpudlPBw1",
        "outputId": "b29b0526-caaf-4952-d018-a03382a6c08a"
      },
      "execution_count": 28,
      "outputs": [
        {
          "output_type": "execute_result",
          "data": {
            "text/plain": [
              "1"
            ]
          },
          "metadata": {},
          "execution_count": 28
        }
      ]
    },
    {
      "cell_type": "markdown",
      "source": [
        "19. Given an array of integers nums, calculate the pivot index of this array.\n",
        "\n",
        "  The pivot index is the index where the sum of all the numbers strictly to the left of the index is equal to the sum of all the numbers strictly to the index's right.\n",
        "\n",
        "  If the index is on the left edge of the array, then the left sum is 0 because there are no elements to the left. This also applies to the right edge of the array.\n",
        "\n",
        "  Return the leftmost pivot index. If no such index exists, return -1."
      ],
      "metadata": {
        "id": "OYcQ-09vywjs"
      }
    },
    {
      "cell_type": "code",
      "source": [
        "class Solution:\n",
        "  def pivotIndex(self, nums: List[int]) -> int:\n",
        "    total_sum = sum(nums)\n",
        "    left_sum = 0\n",
        "    for i, num in enumerate(nums):\n",
        "      if left_sum == total_sum - left_sum - num:\n",
        "        return i\n",
        "      left_sum += num\n",
        "    return -1"
      ],
      "metadata": {
        "id": "_YDR3c_VPBty"
      },
      "execution_count": 29,
      "outputs": []
    },
    {
      "cell_type": "code",
      "source": [
        "Solution.pivotIndex(Solution,[1,7,3,6,5,6])"
      ],
      "metadata": {
        "id": "sE0OkNLWPBjD",
        "colab": {
          "base_uri": "https://localhost:8080/"
        },
        "outputId": "ae8b002a-5ab9-435b-cbe1-cee617094e45"
      },
      "execution_count": 30,
      "outputs": [
        {
          "output_type": "execute_result",
          "data": {
            "text/plain": [
              "3"
            ]
          },
          "metadata": {},
          "execution_count": 30
        }
      ]
    },
    {
      "cell_type": "markdown",
      "source": [
        "20. Given two 0-indexed integer arrays nums1 and nums2, return a list answer of size 2 where:\n",
        "\n",
        "  answer[0] is a list of all distinct integers in nums1 which are not present in nums2.\n",
        "  answer[1] is a list of all distinct integers in nums2 which are not present in nums1.\n",
        "  Note that the integers in the lists may be returned in any order."
      ],
      "metadata": {
        "id": "v8HjuLA60i5p"
      }
    },
    {
      "cell_type": "code",
      "source": [
        "class Solution:\n",
        "    def findDifference(self, nums1: List[int], nums2: List[int]) -> List[List[int]]:\n",
        "      set1 = set(nums1)\n",
        "      set2 = set(nums2)\n",
        "      diff1 = list(set1 - set2)\n",
        "      diff2 = list(set2 - set1)\n",
        "      return [diff1, diff2]"
      ],
      "metadata": {
        "id": "jhYWq1tLz4yN"
      },
      "execution_count": 31,
      "outputs": []
    },
    {
      "cell_type": "code",
      "source": [
        "Solution.findDifference(Solution,[1,2,3],[2,4,6])"
      ],
      "metadata": {
        "colab": {
          "base_uri": "https://localhost:8080/"
        },
        "id": "PKVBGvPmz4vc",
        "outputId": "a9c928ac-beab-4a00-a265-1eb0ad748377"
      },
      "execution_count": 32,
      "outputs": [
        {
          "output_type": "execute_result",
          "data": {
            "text/plain": [
              "[[1, 3], [4, 6]]"
            ]
          },
          "metadata": {},
          "execution_count": 32
        }
      ]
    },
    {
      "cell_type": "markdown",
      "source": [
        "21. Given an array of integers arr, return true if the number of occurrences of each value in the array is unique or false otherwise."
      ],
      "metadata": {
        "id": "nOhSSyyF2D-x"
      }
    },
    {
      "cell_type": "code",
      "source": [
        "class Solution:\n",
        "    def uniqueOccurrences(self, arr: List[int]) -> bool:\n",
        "      freq_map = {}\n",
        "      for num in arr:\n",
        "        freq_map[num] = freq_map.get(num, 0) + 1\n",
        "      freq_set = set(freq_map.values())\n",
        "      return len(freq_set) == len(freq_map)"
      ],
      "metadata": {
        "id": "M6lNQQnXz4sp"
      },
      "execution_count": 33,
      "outputs": []
    },
    {
      "cell_type": "code",
      "source": [
        "Solution.uniqueOccurrences(Solution,[1,2,2,1,1,3])"
      ],
      "metadata": {
        "colab": {
          "base_uri": "https://localhost:8080/"
        },
        "id": "uSfmJfLF2Dsa",
        "outputId": "15fe9eda-493b-47bc-d94c-4423b6af6ca8"
      },
      "execution_count": 34,
      "outputs": [
        {
          "output_type": "execute_result",
          "data": {
            "text/plain": [
              "True"
            ]
          },
          "metadata": {},
          "execution_count": 34
        }
      ]
    },
    {
      "cell_type": "markdown",
      "source": [
        "22. Two strings are considered close if you can attain one from the other using the following operations:\n",
        "\n",
        "  Operation 1: Swap any two existing characters.\n",
        "  For example, abcde -> aecdb\n",
        "  Operation 2: Transform every occurrence of one existing character into another existing character, and do the same with the other character.\n",
        "  For example, aacabb -> bbcbaa (all a's turn into b's, and all b's turn into a's)\n",
        "  You can use the operations on either string as many times as necessary.\n",
        "\n",
        "  Given two strings, word1 and word2, return true if word1 and word2 are close, and false otherwise."
      ],
      "metadata": {
        "id": "-XpgYWvG23U8"
      }
    },
    {
      "cell_type": "code",
      "source": [
        "class Solution:\n",
        "    def closeStrings(self, word1: str, word2: str) -> bool:\n",
        "      if len(word1) != len(word2):\n",
        "        return False\n",
        "      freq_map1 = {}\n",
        "      freq_map2 = {}\n",
        "      for char in word1:\n",
        "        freq_map1[char] = freq_map1.get(char, 0) + 1\n",
        "      for char in word2:\n",
        "        freq_map2[char] = freq_map2.get(char, 0) + 1\n",
        "      if set(freq_map1.keys()) != set(freq_map2.keys()):\n",
        "        return False\n",
        "      char_freq1 = list(freq_map1.values())\n",
        "      char_freq2 = list(freq_map2.values())\n",
        "      char_freq1.sort()\n",
        "      char_freq2.sort()\n",
        "      return char_freq1 == char_freq2\n"
      ],
      "metadata": {
        "id": "bmaWIN-d2Dpo"
      },
      "execution_count": 35,
      "outputs": []
    },
    {
      "cell_type": "code",
      "source": [
        "Solution.closeStrings(Solution,\"abc\",\"bca\")"
      ],
      "metadata": {
        "colab": {
          "base_uri": "https://localhost:8080/"
        },
        "id": "W_AL8eTp2DnI",
        "outputId": "72acba18-43f8-4761-c6bf-82418fa3daf6"
      },
      "execution_count": 36,
      "outputs": [
        {
          "output_type": "execute_result",
          "data": {
            "text/plain": [
              "True"
            ]
          },
          "metadata": {},
          "execution_count": 36
        }
      ]
    },
    {
      "cell_type": "markdown",
      "source": [
        "23. Given a 0-indexed n x n integer matrix grid, return the number of pairs (ri, cj) such that row ri and column cj are equal.\n",
        "\n",
        "  A row and column pair is considered equal if they contain the same elements in the same order (i.e., an equal array)."
      ],
      "metadata": {
        "id": "tu2j2ETj8_oP"
      }
    },
    {
      "cell_type": "code",
      "source": [
        "class Solution:\n",
        "    def equalPairs(self, grid: List[List[int]]) -> int:\n",
        "      count = 0\n",
        "      for i in range(len(grid)):\n",
        "        for j in range(len(grid[0])):\n",
        "          if all(grid[i][k] == grid[k][j] for k in range(len(grid))):\n",
        "            count += 1\n",
        "      return count"
      ],
      "metadata": {
        "id": "YTLz7iA82Dh-"
      },
      "execution_count": 37,
      "outputs": []
    },
    {
      "cell_type": "code",
      "source": [
        "Solution.equalPairs(Solution,[[3,2,1],[1,7,6],[2,7,7]])"
      ],
      "metadata": {
        "colab": {
          "base_uri": "https://localhost:8080/"
        },
        "id": "zs1zluKV2DfX",
        "outputId": "6d6c0f1b-5d27-4a0a-ec2c-b6272b02c327"
      },
      "execution_count": 38,
      "outputs": [
        {
          "output_type": "execute_result",
          "data": {
            "text/plain": [
              "1"
            ]
          },
          "metadata": {},
          "execution_count": 38
        }
      ]
    },
    {
      "cell_type": "markdown",
      "source": [
        "24. You are given a string s, which contains stars *.\n",
        "\n",
        "  In one operation, you can:\n",
        "\n",
        "  Choose a star in s.\n",
        "  Remove the closest non-star character to its left, as well as remove the star itself.\n",
        "  Return the string after all stars have been removed.\n",
        "\n",
        "  Note:\n",
        "\n",
        "  The input will be generated such that the operation is always possible.\n",
        "  It can be shown that the resulting string will always be unique."
      ],
      "metadata": {
        "id": "LRMW4G6P-sfO"
      }
    },
    {
      "cell_type": "code",
      "source": [
        "class Solution:\n",
        "    def removeStars(self, s: str) -> str:\n",
        "      stack = []\n",
        "      for char in s:\n",
        "        if char == '*':\n",
        "          stack.pop()\n",
        "        else:\n",
        "          stack.append(char)\n",
        "      return ''.join(stack)"
      ],
      "metadata": {
        "id": "t5ZIArL22Dcs"
      },
      "execution_count": 39,
      "outputs": []
    },
    {
      "cell_type": "code",
      "source": [
        "Solution.removeStars(Solution,\"leet**cod*e\")"
      ],
      "metadata": {
        "colab": {
          "base_uri": "https://localhost:8080/",
          "height": 36
        },
        "id": "Dv5TdKGF2DZ7",
        "outputId": "13fe1a12-90ef-430d-9169-a0b9c0dd6c07"
      },
      "execution_count": 40,
      "outputs": [
        {
          "output_type": "execute_result",
          "data": {
            "text/plain": [
              "'lecoe'"
            ],
            "application/vnd.google.colaboratory.intrinsic+json": {
              "type": "string"
            }
          },
          "metadata": {},
          "execution_count": 40
        }
      ]
    },
    {
      "cell_type": "markdown",
      "source": [
        "25. We are given an array asteroids of integers representing asteroids in a row.\n",
        "\n",
        "  For each asteroid, the absolute value represents its size, and the sign represents its direction (positive meaning right, negative meaning left). Each asteroid moves at the same speed.\n",
        "\n",
        "  Find out the state of the asteroids after all collisions. If two asteroids meet, the smaller one will explode. If both are the same size, both will explode. Two asteroids moving in the same direction will never meet."
      ],
      "metadata": {
        "id": "zmpq-eWw_uwx"
      }
    },
    {
      "cell_type": "code",
      "source": [
        "class Solution:\n",
        "    def asteroidCollision(self, asteroids: List[int]) -> List[int]:\n",
        "      stack = []\n",
        "      for asteroid in asteroids:\n",
        "        while stack and asteroid < 0 < stack[-1]:\n",
        "          if abs(asteroid) > stack[-1]:\n",
        "            stack.pop()\n",
        "            continue\n",
        "          elif abs(asteroid) == stack[-1]:\n",
        "            stack.pop()\n",
        "          break\n",
        "        else:\n",
        "          stack.append(asteroid)\n",
        "      return stack"
      ],
      "metadata": {
        "id": "d5e56uI72DXa"
      },
      "execution_count": 41,
      "outputs": []
    },
    {
      "cell_type": "code",
      "source": [
        "Solution.asteroidCollision(Solution,[5,10,-5])"
      ],
      "metadata": {
        "colab": {
          "base_uri": "https://localhost:8080/"
        },
        "id": "1RxcfGoC2DUs",
        "outputId": "1a74d29e-054a-4734-8f80-c229aab06808"
      },
      "execution_count": 42,
      "outputs": [
        {
          "output_type": "execute_result",
          "data": {
            "text/plain": [
              "[5, 10]"
            ]
          },
          "metadata": {},
          "execution_count": 42
        }
      ]
    },
    {
      "cell_type": "markdown",
      "source": [
        "26. Given an encoded string, return its decoded string.\n",
        "\n",
        "  The encoding rule is: k[encoded_string], where the encoded_string inside the square brackets is being repeated exactly k times. Note that k is guaranteed to be a positive integer.\n",
        "\n",
        "  You may assume that the input string is always valid; there are no extra white spaces, square brackets are well-formed, etc. Furthermore, you may assume that the original data does not contain any digits and that digits are only for those repeat numbers, k. For example, there will not be input like 3a or 2[4].\n",
        "\n",
        "  The test cases are generated so that the length of the output will never exceed 105."
      ],
      "metadata": {
        "id": "H3D2--lw2UcP"
      }
    },
    {
      "cell_type": "code",
      "source": [
        "class Solution:\n",
        "    def decodeString(self, s: str) -> str:\n",
        "      stack = []\n",
        "      for char in s:\n",
        "        if char != ']':\n",
        "          stack.append(char)\n",
        "        else:\n",
        "          substr = ''\n",
        "          while stack[-1] != '[':\n",
        "            substr = stack.pop() + substr\n",
        "          stack.pop()\n",
        "          k = ''\n",
        "          while stack and stack[-1].isdigit():\n",
        "            k = stack.pop() + k\n",
        "          stack.append(int(k) * substr)\n",
        "      return ''.join(stack)"
      ],
      "metadata": {
        "id": "dOArtviA2DSX"
      },
      "execution_count": 43,
      "outputs": []
    },
    {
      "cell_type": "code",
      "source": [
        "Solution.decodeString(Solution,\"3[a]2[bc]\")"
      ],
      "metadata": {
        "id": "OwOLDGH0_o8j",
        "colab": {
          "base_uri": "https://localhost:8080/",
          "height": 36
        },
        "outputId": "667a6e02-801a-48ad-9739-30e964bcde7c"
      },
      "execution_count": 44,
      "outputs": [
        {
          "output_type": "execute_result",
          "data": {
            "text/plain": [
              "'aaabcbc'"
            ],
            "application/vnd.google.colaboratory.intrinsic+json": {
              "type": "string"
            }
          },
          "metadata": {},
          "execution_count": 44
        }
      ]
    },
    {
      "cell_type": "markdown",
      "source": [
        "27. You have a RecentCounter class which counts the number of recent requests within a certain time frame.\n",
        "\n",
        "  Implement the RecentCounter class:\n",
        "\n",
        "  RecentCounter() Initializes the counter with zero recent requests.\n",
        "  int ping(int t) Adds a new request at time t, where t represents some time in milliseconds, and returns the number of requests that has happened in the past 3000 milliseconds (including the new request). Specifically, return the number of requests that have happened in the inclusive range [t - 3000, t].\n",
        "  It is guaranteed that every call to ping uses a strictly larger value of t than the previous call.\n",
        "\n"
      ],
      "metadata": {
        "id": "RQIqOtHK4ZB5"
      }
    },
    {
      "cell_type": "code",
      "source": [
        "class RecentCounter:\n",
        "  def __init__(self):\n",
        "    self.requests = []\n",
        "\n",
        "  def ping(self, t: int) -> int:\n",
        "    self.requests.append(t)\n",
        "    while self.requests[0] < t - 3000:\n",
        "      self.requests.pop(0)\n",
        "    return len(self.requests)"
      ],
      "metadata": {
        "id": "XPD3iDdm_o5s"
      },
      "execution_count": 45,
      "outputs": []
    },
    {
      "cell_type": "markdown",
      "source": [
        "28. In the world of Dota2, there are two parties: the Radiant and the Dire.\n",
        "\n",
        "  The Dota2 senate consists of senators coming from two parties. Now the Senate wants to decide on a change in the Dota2 game. The voting for this change is a round-based procedure. In each round, each senator can exercise one of the two rights:\n",
        "\n",
        "  Ban one senator's right: A senator can make another senator lose all his rights in this and all the following rounds.\n",
        "  Announce the victory: If this senator found the senators who still have rights to vote are all from the same party, he can announce the victory and decide on the change in the game.\n",
        "  Given a string senate representing each senator's party belonging. The character 'R' and 'D' represent the Radiant party and the Dire party. Then if there are n senators, the size of the given string will be n.\n",
        "\n",
        "  The round-based procedure starts from the first senator to the last senator in the given order. This procedure will last until the end of voting. All the senators who have lost their rights will be skipped during the procedure.\n",
        "\n",
        "  Suppose every senator is smart enough and will play the best strategy for his own party. Predict which party will finally announce the victory and change the Dota2 game. The output should be \"Radiant\" or \"Dire\"."
      ],
      "metadata": {
        "id": "ThjBoIvh7BPO"
      }
    },
    {
      "cell_type": "code",
      "source": [
        "class Solution:\n",
        "    def predictPartyVictory(self, senate: str) -> str:\n",
        "      n = len(senate)\n",
        "      radiant = [i for i in range(n) if senate[i] == 'R']\n",
        "      dire = [i for i in range(n) if senate[i] == 'D']\n",
        "      while radiant and dire:\n",
        "        if radiant[0] < dire[0]:\n",
        "          radiant.append(radiant[0] + n)\n",
        "        else:\n",
        "          dire.append(dire[0] + n)\n",
        "        radiant.pop(0)\n",
        "        dire.pop(0)\n",
        "      return \"Radiant\" if radiant else \"Dire\""
      ],
      "metadata": {
        "id": "QjSJkz9K_ouw"
      },
      "execution_count": 46,
      "outputs": []
    },
    {
      "cell_type": "code",
      "source": [
        "Solution.predictPartyVictory(Solution,\"RDD\")"
      ],
      "metadata": {
        "colab": {
          "base_uri": "https://localhost:8080/",
          "height": 36
        },
        "id": "oHOJ3cUt2O7b",
        "outputId": "695ef0d3-f67a-4110-e56f-ac3e9cfac122"
      },
      "execution_count": 47,
      "outputs": [
        {
          "output_type": "execute_result",
          "data": {
            "text/plain": [
              "'Dire'"
            ],
            "application/vnd.google.colaboratory.intrinsic+json": {
              "type": "string"
            }
          },
          "metadata": {},
          "execution_count": 47
        }
      ]
    },
    {
      "cell_type": "markdown",
      "source": [
        "29. You are given the head of a linked list. Delete the middle node, and return the head of the modified linked list.\n",
        "\n",
        "  The middle node of a linked list of size n is the ⌊n / 2⌋th node from the start using 0-based indexing, where ⌊x⌋ denotes the largest integer less than or equal to x.\n",
        "\n",
        "  For n = 1, 2, 3, 4, and 5, the middle nodes are 0, 1, 1, 2, and 2, respectively."
      ],
      "metadata": {
        "id": "uWGoKMc1Eaua"
      }
    },
    {
      "cell_type": "code",
      "source": [
        "from typing import Optional\n",
        "class ListNode:\n",
        "  def __init__(self, val=0, next=None):\n",
        "    self.val = val\n",
        "    self.next = next\n",
        "class Solution:\n",
        "    def deleteMiddle(self, head: Optional[ListNode]) -> Optional[ListNode]:\n",
        "      if not head or not head.next:\n",
        "        return None\n",
        "      slow = head\n",
        "      fast = head\n",
        "      prev = None\n",
        "      while fast and fast.next:\n",
        "        prev = slow\n",
        "        slow = slow.next\n",
        "        fast = fast.next.next\n",
        "      prev.next = slow.next\n",
        "      return head"
      ],
      "metadata": {
        "id": "iSTYbK0i2Otn"
      },
      "execution_count": 48,
      "outputs": []
    },
    {
      "cell_type": "markdown",
      "source": [
        "30. Given the head of a singly linked list, group all the nodes with odd indices together followed by the nodes with even indices, and return the reordered list.\n",
        "\n",
        "  The first node is considered odd, and the second node is even, and so on.\n",
        "\n",
        "  Note that the relative order inside both the even and odd groups should remain as it was in the input.\n",
        "\n",
        "  You must solve the problem in O(1) extra space complexity and O(n) time complexity."
      ],
      "metadata": {
        "id": "vLlAbtpeH_Og"
      }
    },
    {
      "cell_type": "code",
      "source": [
        "class ListNode:\n",
        "  def __init__(self, val=0, next=None):\n",
        "    self.val = val\n",
        "    self.next = next\n",
        "class Solution:\n",
        "    def oddEvenList(self, head: Optional[ListNode]) -> Optional[ListNode]:\n",
        "      if not head or not head.next:\n",
        "        return head\n",
        "      odd = head\n",
        "      even = head.next\n",
        "      even_head = even\n",
        "      while even and even.next:\n",
        "        odd.next = even.next\n",
        "        odd = odd.next\n",
        "        even.next = odd.next\n",
        "        even = even.next\n",
        "        odd.next = even_head\n",
        "      return head"
      ],
      "metadata": {
        "id": "0pZLWxNQ2Oqv"
      },
      "execution_count": 49,
      "outputs": []
    },
    {
      "cell_type": "markdown",
      "source": [
        "31. Given the head of a singly linked list, reverse the list, and return the reversed list."
      ],
      "metadata": {
        "id": "XNRJwhVfJWq1"
      }
    },
    {
      "cell_type": "code",
      "source": [
        "class ListNode:\n",
        "  def __init__(self, val=0, next=None):\n",
        "    self.val = val\n",
        "    self.next = next\n",
        "class Solution:\n",
        "    def reverseList(self, head: Optional[ListNode]) -> Optional[ListNode]:\n",
        "      prev = None\n",
        "      curr = head\n",
        "      while curr:\n",
        "        next_node = curr.next\n",
        "        curr.next = prev\n",
        "        prev = curr\n",
        "        curr = next_node\n",
        "      return prev"
      ],
      "metadata": {
        "id": "ShJNcErH2Onq"
      },
      "execution_count": 50,
      "outputs": []
    },
    {
      "cell_type": "markdown",
      "source": [
        "32. In a linked list of size n, where n is even, the ith node (0-indexed) of the linked list is known as the twin of the (n-1-i)th node, if 0 <= i <= (n / 2) - 1.\n",
        "\n",
        "  For example, if n = 4, then node 0 is the twin of node 3, and node 1 is the twin of node 2. These are the only nodes with twins for n = 4.\n",
        "  The twin sum is defined as the sum of a node and its twin.\n",
        "\n",
        "  Given the head of a linked list with even length, return the maximum twin sum of the linked list."
      ],
      "metadata": {
        "id": "QBHqI6DFKA-K"
      }
    },
    {
      "cell_type": "code",
      "source": [
        "class ListNode:\n",
        "  def __init__(self, val=0, next=None):\n",
        "    self.val = val\n",
        "    self.next = next\n",
        "class Solution:\n",
        "    def pairSum(self, head: Optional[ListNode]) -> int:\n",
        "      slow = head\n",
        "      fast = head\n",
        "      while fast and fast.next:\n",
        "        slow = slow.next\n",
        "        fast = fast.next.next\n",
        "      prev = None\n",
        "      while slow:\n",
        "        next_node = slow.next\n",
        "        slow.next = prev\n",
        "        prev = slow\n",
        "        slow = next_node\n",
        "      max_twin_sum = float('-inf')\n",
        "      while prev:\n",
        "        max_twin_sum = max(max_twin_sum, head.val + prev.val)\n",
        "        head = head.next\n",
        "        prev = prev.next\n",
        "      return max_twin_sum\n"
      ],
      "metadata": {
        "id": "CGH9IH8vKAxF"
      },
      "execution_count": 51,
      "outputs": []
    },
    {
      "cell_type": "markdown",
      "source": [
        "33. Given the root of a binary tree, return its maximum depth.\n",
        "\n",
        "  A binary tree's maximum depth is the number of nodes along the longest path from the root node down to the farthest leaf node."
      ],
      "metadata": {
        "id": "GU722hgr7rWK"
      }
    },
    {
      "cell_type": "code",
      "source": [
        "class TreeNode:\n",
        "  def __init__(self, val=0, left=None, right=None):\n",
        "    self.val = val\n",
        "    self.left = left\n",
        "    self.right = right\n",
        "class Solution:\n",
        "    def maxDepth(self, root: Optional[TreeNode]) -> int:\n",
        "      if not root:\n",
        "        return 0\n",
        "      left_depth = self.maxDepth(root.left)\n",
        "      right_depth = self.maxDepth(root.right)\n",
        "      return max(left_depth, right_depth) + 1"
      ],
      "metadata": {
        "id": "Irs2xoyfKAuL"
      },
      "execution_count": 52,
      "outputs": []
    },
    {
      "cell_type": "markdown",
      "source": [
        "34. Consider all the leaves of a binary tree, from left to right order, the values of those leaves form a leaf value sequence\n",
        "\n",
        "  For example, in the given tree above, the leaf value sequence is (6, 7, 4, 9, 8).\n",
        "\n",
        "  Two binary trees are considered leaf-similar if their leaf value sequence is the same.\n",
        "\n",
        "  Return true if and only if the two given trees with head nodes root1 and root2 are leaf-similar.\n",
        "\n"
      ],
      "metadata": {
        "id": "bzxycjMj9YNJ"
      }
    },
    {
      "cell_type": "code",
      "source": [
        "class Solution:\n",
        "    def leafSimilar(self, root1: Optional[TreeNode], root2: Optional[TreeNode]) -> bool:\n",
        "      def dfs(node, leaves):\n",
        "        if not node:\n",
        "          return\n",
        "        if not node.left and not node.right:\n",
        "          leaves.append(node.val)\n",
        "        dfs(node.left, leaves)\n",
        "        dfs(node.right, leaves)\n",
        "\n",
        "      leaves1 = []\n",
        "      leaves2 = []\n",
        "      dfs(root1, leaves1)\n",
        "      dfs(root2, leaves2)\n",
        "      return leaves1 == leaves2"
      ],
      "metadata": {
        "id": "W-8o00rZKAry"
      },
      "execution_count": 53,
      "outputs": []
    },
    {
      "cell_type": "markdown",
      "source": [
        "35. Given a binary tree root, a node X in the tree is named good if in the path from root to X there are no nodes with a value greater than X.\n",
        "\n",
        "  Return the number of good nodes in the binary tree."
      ],
      "metadata": {
        "id": "81RX6g6qEOYt"
      }
    },
    {
      "cell_type": "code",
      "source": [
        "class Solution:\n",
        "    def goodNodes(self, root: TreeNode) -> int:\n",
        "      def dfs(node, max_val):\n",
        "        if not node:\n",
        "          return 0\n",
        "        count = 1 if node.val >= max_val else 0\n",
        "        max_val = max(max_val, node.val)\n",
        "        count += dfs(node.left, max_val)\n",
        "        count += dfs(node.right, max_val)\n",
        "        return count\n",
        "\n",
        "      return dfs(root, float('-inf'))\n"
      ],
      "metadata": {
        "id": "nU2po1mxKApK"
      },
      "execution_count": 54,
      "outputs": []
    },
    {
      "cell_type": "markdown",
      "source": [
        "36.Given the root of a binary tree and an integer targetSum, return the number of paths where the sum of the values along the path equals targetSum.\n",
        "\n",
        "  The path does not need to start or end at the root or a leaf, but it must go downwards (i.e., traveling only from parent nodes to child nodes)."
      ],
      "metadata": {
        "id": "-lD60ptaF_ae"
      }
    },
    {
      "cell_type": "code",
      "source": [
        "class Solution:\n",
        "    def pathSum(self, root: Optional[TreeNode], targetSum: int) -> int:\n",
        "        def dfs(node, current_sum, prefix_sums):\n",
        "            if not node:\n",
        "                return 0\n",
        "\n",
        "            current_sum += node.val\n",
        "            count = prefix_sums.get(current_sum - targetSum, 0)\n",
        "\n",
        "            prefix_sums[current_sum] = prefix_sums.get(current_sum, 0) + 1\n",
        "\n",
        "            count += dfs(node.left, current_sum, prefix_sums)\n",
        "            count += dfs(node.right, current_sum, prefix_sums)\n",
        "\n",
        "            prefix_sums[current_sum] -= 1\n",
        "\n",
        "            return count\n",
        "\n",
        "        prefix_sums = {0: 1}\n",
        "        return dfs(root, 0, prefix_sums)\n"
      ],
      "metadata": {
        "id": "Pc5n98z4KAhn"
      },
      "execution_count": 55,
      "outputs": []
    },
    {
      "cell_type": "markdown",
      "source": [
        "37. You are given the root of a binary tree.\n",
        "\n",
        "  A ZigZag path for a binary tree is defined as follow:\n",
        "\n",
        "  Choose any node in the binary tree and a direction (right or left).\n",
        "  If the current direction is right, move to the right child of the current node; otherwise, move to the left child.\n",
        "  Change the direction from right to left or from left to right.\n",
        "  Repeat the second and third steps until you can't move in the tree.\n",
        "  Zigzag length is defined as the number of nodes visited - 1. (A single node has a length of 0).\n",
        "\n",
        "  Return the longest ZigZag path contained in that tree."
      ],
      "metadata": {
        "id": "yfjQBe9vNpFg"
      }
    },
    {
      "cell_type": "code",
      "source": [
        "class Solution:\n",
        "    def longestZigZag(self, root: Optional[TreeNode]) -> int:\n",
        "        self.maxi = 0\n",
        "\n",
        "        def dfs(node, left, right):\n",
        "            self.maxi = max(self.maxi, left, right)\n",
        "\n",
        "            if node.left:\n",
        "                dfs(node.left, right + 1, 0)\n",
        "\n",
        "            if node.right:\n",
        "                dfs(node.right, 0, left + 1)\n",
        "\n",
        "        dfs(root, 0, 0)\n",
        "        return self.maxi"
      ],
      "metadata": {
        "id": "-0r_gLFfKAfc"
      },
      "execution_count": 56,
      "outputs": []
    },
    {
      "cell_type": "code",
      "source": [
        "class Solution:\n",
        "    def longestZigZag(self, root: Optional[TreeNode]) -> int:\n",
        "        self.max_length = 0\n",
        "        def dfs(node,direction,length):\n",
        "            global max_length\n",
        "            if not node:\n",
        "                return\n",
        "            self.max_length = max(self.max_length,length)\n",
        "            if direction =='left':\n",
        "                dfs(node.left,'right',length+1)\n",
        "                dfs(node.right,'left',1)\n",
        "            else:\n",
        "                dfs(node.right,'left',length+1)\n",
        "                dfs(node.left,'right',1)\n",
        "        dfs(root,'left',0)\n",
        "        dfs(root,'right',0)\n",
        "        return self.max_length"
      ],
      "metadata": {
        "id": "Z428tEpeEInU"
      },
      "execution_count": 57,
      "outputs": []
    },
    {
      "cell_type": "markdown",
      "source": [
        "38. Given a binary tree, find the lowest common ancestor (LCA) of two given nodes in the tree.\n",
        "\n",
        "  According to the definition of LCA on Wikipedia: “The lowest common ancestor is defined between two nodes p and q as the lowest node in T that has both p and q as descendants (where we allow a node to be a descendant of itself).”"
      ],
      "metadata": {
        "id": "TeBb84iwWsIt"
      }
    },
    {
      "cell_type": "code",
      "source": [
        "class Solution:\n",
        "    def lowestCommonAncestor(self, root: 'TreeNode', p: 'TreeNode', q: 'TreeNode') -> 'TreeNode':\n",
        "      if not root or root == p or root == q:\n",
        "        return root\n",
        "      left = self.lowestCommonAncestor(root.left, p, q)\n",
        "      right = self.lowestCommonAncestor(root.right, p, q)\n",
        "      if not left:\n",
        "        return right\n",
        "      if not right:\n",
        "        return left\n",
        "      return root"
      ],
      "metadata": {
        "id": "zXUMTWU3EIlM"
      },
      "execution_count": 58,
      "outputs": []
    },
    {
      "cell_type": "markdown",
      "source": [
        "39. Given the root of a binary tree, imagine yourself standing on the right side of it, return the values of the nodes you can see ordered from top to bottom."
      ],
      "metadata": {
        "id": "ABNwEdoxfP7H"
      }
    },
    {
      "cell_type": "code",
      "source": [
        "class Solution:\n",
        "    def rightSideView(self, root: Optional[TreeNode]) -> List[int]:\n",
        "      if not root:\n",
        "        return []\n",
        "      queue = [root]\n",
        "      result = []\n",
        "      while queue:\n",
        "        level_size = len(queue)\n",
        "        for i in range(level_size):\n",
        "          node = queue.pop(0)\n",
        "          if i == level_size - 1:\n",
        "            result.append(node.val)\n",
        "          if node.left:\n",
        "            queue.append(node.left)\n",
        "          if node.right:\n",
        "            queue.append(node.right)\n",
        "      return result\n",
        "\n",
        "\n"
      ],
      "metadata": {
        "id": "UKFyyaLwEIjb"
      },
      "execution_count": 59,
      "outputs": []
    },
    {
      "cell_type": "markdown",
      "source": [
        "40.Given the root of a binary tree, the level of its root is 1, the level of its children is 2, and so on.\n",
        "\n",
        "  Return the smallest level x such that the sum of all the values of nodes at level x is maximal."
      ],
      "metadata": {
        "id": "K67OYP45jOl2"
      }
    },
    {
      "cell_type": "code",
      "source": [
        "class Solution:\n",
        "    def maxLevelSum(self, root: Optional[TreeNode]) -> int:\n",
        "      if not root:\n",
        "        return 0\n",
        "      queue = [root]\n",
        "      max_sum = float('-inf')\n",
        "      max_level = 0\n",
        "      level = 1\n",
        "      while queue:\n",
        "        level_sum = 0\n",
        "        level_size = len(queue)\n",
        "        for i in range(level_size):\n",
        "          node = queue.pop(0)\n",
        "          level_sum += node.val\n",
        "          if node.left:\n",
        "            queue.append(node.left)\n",
        "          if node.right:\n",
        "            queue.append(node.right)\n",
        "        if level_sum > max_sum:\n",
        "          max_sum = level_sum\n",
        "          max_level = level\n",
        "        level += 1\n",
        "      return max_level"
      ],
      "metadata": {
        "id": "oqXigC6fEIbA"
      },
      "execution_count": 60,
      "outputs": []
    },
    {
      "cell_type": "markdown",
      "source": [
        "41. You are given the root of a binary search tree (BST) and an integer val.\n",
        "\n",
        "  Find the node in the BST that the node's value equals val and return the subtree rooted with that node. If such a node does not exist, return null."
      ],
      "metadata": {
        "id": "DykdUNoh23nP"
      }
    },
    {
      "cell_type": "code",
      "source": [
        "class Solution:\n",
        "    def searchBST(self, root: Optional[TreeNode], val: int) -> Optional[TreeNode]:\n",
        "      if not root:\n",
        "        return None\n",
        "      if root.val == val:\n",
        "        return root\n",
        "      elif root.val < val:\n",
        "        return self.searchBST(root.right, val)\n",
        "      else:\n",
        "        return self.searchBST(root.left, val)"
      ],
      "metadata": {
        "id": "O2wAgEvZEIYJ"
      },
      "execution_count": 61,
      "outputs": []
    },
    {
      "cell_type": "markdown",
      "source": [
        "42. Given a root node reference of a BST and a key, delete the node with the given key in the BST. Return the root node reference (possibly updated) of the BST.\n",
        "\n",
        "  Basically, the deletion can be divided into two stages:\n",
        "\n",
        "  Search for a node to remove.\n",
        "  If the node is found, delete the node."
      ],
      "metadata": {
        "id": "hxiVrdtY5y7S"
      }
    },
    {
      "cell_type": "code",
      "source": [
        "class Solution:\n",
        "    def deleteNode(self, root: Optional[TreeNode], key: int) -> Optional[TreeNode]:\n",
        "      if not root:\n",
        "        return None\n",
        "      if root.val == key:\n",
        "        if not root.left:\n",
        "          return root.right\n",
        "        if not root.right:\n",
        "          return root.left\n",
        "        min_node = root.right\n",
        "        while min_node.left:\n",
        "          min_node = min_node.left\n",
        "        root.val = min_node.val\n",
        "        root.right = self.deleteNode(root.right, min_node.val)\n",
        "      elif root.val < key:\n",
        "        root.right = self.deleteNode(root.right, key)\n",
        "      else:\n",
        "        root.left = self.deleteNode(root.left, key)\n",
        "      return root"
      ],
      "metadata": {
        "id": "6l7_1iWR20sf"
      },
      "execution_count": 62,
      "outputs": []
    },
    {
      "cell_type": "markdown",
      "source": [
        "43. There are n rooms labeled from 0 to n - 1 and all the rooms are locked except for room 0. Your goal is to visit all the rooms. However, you cannot enter a locked room without having its key.\n",
        "\n",
        "  When you visit a room, you may find a set of distinct keys in it. Each key has a number on it, denoting which room it unlocks, and you can take all of them with you to unlock the other rooms.\n",
        "\n",
        "  Given an array rooms where rooms[i] is the set of keys that you can obtain if you visited room i, return true if you can visit all the rooms, or false otherwise."
      ],
      "metadata": {
        "id": "fFkkTiXl1_pY"
      }
    },
    {
      "cell_type": "code",
      "source": [
        "class Solution:\n",
        "    def canVisitAllRooms(self, rooms: List[List[int]]) -> bool:\n",
        "      visited = [False] * len(rooms)\n",
        "      visited[0] = True\n",
        "      stack = [0]\n",
        "      while stack:\n",
        "        room = stack.pop()\n",
        "        for key in rooms[room]:\n",
        "          if not visited[key]:\n",
        "            visited[key] = True\n",
        "            stack.append(key)\n",
        "      return all(visited)"
      ],
      "metadata": {
        "id": "vzNiUE6c20pu"
      },
      "execution_count": 63,
      "outputs": []
    },
    {
      "cell_type": "code",
      "source": [
        "Solution.canVisitAllRooms(Solution,[\n",
        "  [1,3],\n",
        "  [3,0,1],\n",
        "  [2],\n",
        "  [0]\n",
        "])"
      ],
      "metadata": {
        "id": "v8N3cmHh20nR",
        "colab": {
          "base_uri": "https://localhost:8080/"
        },
        "outputId": "44e4ab4c-7da7-46a4-80d7-9c58662e7c48"
      },
      "execution_count": 64,
      "outputs": [
        {
          "output_type": "execute_result",
          "data": {
            "text/plain": [
              "False"
            ]
          },
          "metadata": {},
          "execution_count": 64
        }
      ]
    },
    {
      "cell_type": "markdown",
      "source": [
        "44. There are n cities. Some of them are connected, while some are not. If city a is connected directly with city b, and city b is connected directly with city c, then city a is connected indirectly with city c.\n",
        "\n",
        "  A province is a group of directly or indirectly connected cities and no other cities outside of the group.\n",
        "\n",
        "  You are given an n x n matrix isConnected where isConnected[i][j] = 1 if the ith city and the jth city are directly connected, and isConnected[i][j] = 0 otherwise.\n",
        "\n",
        "  Return the total number of provinces."
      ],
      "metadata": {
        "id": "Wkvbfc6F4IJx"
      }
    },
    {
      "cell_type": "code",
      "source": [
        "class Solution:\n",
        "    def findCircleNum(self, isConnected: List[List[int]]) -> int:\n",
        "      n = len(isConnected)\n",
        "      visited = [False] * n\n",
        "      count = 0\n",
        "      for i in range(n):\n",
        "        if not visited[i]:\n",
        "          stack = [i]\n",
        "          while stack:\n",
        "            city = stack.pop()\n",
        "            visited[city] = True\n",
        "            for j in range(n):\n",
        "              if isConnected[city][j] == 1 and not visited[j]:\n",
        "                stack.append(j)\n",
        "          count += 1\n",
        "      return count"
      ],
      "metadata": {
        "id": "cuRTZ8XI20kt"
      },
      "execution_count": 65,
      "outputs": []
    },
    {
      "cell_type": "code",
      "source": [
        "Solution.findCircleNum(Solution,[[1,1,0],[1,1,0],[0,0,1]])"
      ],
      "metadata": {
        "id": "06d2tyZ220iF",
        "colab": {
          "base_uri": "https://localhost:8080/"
        },
        "outputId": "e39f01d0-1708-41a8-c95d-42d0fbc23fb0"
      },
      "execution_count": 66,
      "outputs": [
        {
          "output_type": "execute_result",
          "data": {
            "text/plain": [
              "2"
            ]
          },
          "metadata": {},
          "execution_count": 66
        }
      ]
    },
    {
      "cell_type": "markdown",
      "source": [
        "45. There are n cities numbered from 0 to n - 1 and n - 1 roads such that there is only one way to travel between two different cities (this network form a tree). Last year, The ministry of transport decided to orient the roads in one direction because they are too narrow.\n",
        "\n",
        "  Roads are represented by connections where connections[i] = [ai, bi] represents a road from city ai to city bi.\n",
        "\n",
        "  This year, there will be a big event in the capital (city 0), and many people want to travel to this city.\n",
        "\n",
        "  Your task consists of reorienting some roads such that each city can visit the city 0. Return the minimum number of edges changed.\n",
        "\n",
        "  It's guaranteed that each city can reach city 0 after reorder"
      ],
      "metadata": {
        "id": "aMnWmxjL7AHr"
      }
    },
    {
      "cell_type": "code",
      "source": [
        "from collections import defaultdict\n",
        "class Solution:\n",
        "    def minReorder(self, n: int, connections: List[List[int]]) -> int:\n",
        "      graph = defaultdict(list)\n",
        "      for u, v in connections:\n",
        "        graph[u].append((v,1))\n",
        "        graph[v].append((u,0))\n",
        "      def dfs(node, parent):\n",
        "        count = 0\n",
        "        for neighbor, direction in graph[node]:\n",
        "          if neighbor != parent:\n",
        "            count += dfs(neighbor, node) + direction\n",
        "        return count\n",
        "      return dfs(0, -1)"
      ],
      "metadata": {
        "id": "hketHlJu20Sx"
      },
      "execution_count": 67,
      "outputs": []
    },
    {
      "cell_type": "code",
      "source": [
        "Solution.minReorder(Solution,5,[[1,0],[1,2],[3,2],[3,4]])"
      ],
      "metadata": {
        "colab": {
          "base_uri": "https://localhost:8080/"
        },
        "id": "KmfeBxxU10OR",
        "outputId": "6245db8b-b935-491a-919c-3e17e7c70a94"
      },
      "execution_count": 68,
      "outputs": [
        {
          "output_type": "execute_result",
          "data": {
            "text/plain": [
              "2"
            ]
          },
          "metadata": {},
          "execution_count": 68
        }
      ]
    },
    {
      "cell_type": "markdown",
      "source": [
        "46. You are given an array of variable pairs equations and an array of real numbers values, where equations[i] = [Ai, Bi] and values[i] represent the equation Ai / Bi = values[i]. Each Ai or Bi is a string that represents a single variable.\n",
        "\n",
        "  You are also given some queries, where queries[j] = [Cj, Dj] represents the jth query where you must find the answer for Cj / Dj = ?.\n",
        "\n",
        "  Return the answers to all queries. If a single answer cannot be determined, return -1.0.\n",
        "\n",
        "  Note: The input is always valid. You may assume that evaluating the queries will not result in division by zero and that there is no contradiction.\n",
        "\n",
        "  Note: The variables that do not occur in the list of equations are undefined, so the answer cannot be determined for them."
      ],
      "metadata": {
        "id": "9gq9aV8-q4yd"
      }
    },
    {
      "cell_type": "code",
      "source": [
        "class Solution:\n",
        "    def calcEquation(self, equations: List[List[str]], values: List[float], queries: List[List[str]]) -> List[float]:\n",
        "        graph = defaultdict(dict)\n",
        "        for (a, b), value in zip(equations, values):\n",
        "            graph[a][b] = value\n",
        "            graph[b][a] = 1 / value  # Add the reverse relationship\n",
        "\n",
        "        def dfs(start, end, visited):\n",
        "            if start == end:\n",
        "                return 1.0\n",
        "            visited.add(start)\n",
        "            for neighbor, value in graph[start].items():\n",
        "                if neighbor not in visited:\n",
        "                    result = dfs(neighbor, end, visited)\n",
        "                    if result != -1.0:\n",
        "                        return result * value\n",
        "            visited.remove(start)\n",
        "            return -1.0\n",
        "\n",
        "        # Step 2: Process each query\n",
        "        results = []\n",
        "        for c, d in queries:\n",
        "            if c not in graph or d not in graph:\n",
        "                results.append(-1.0)\n",
        "            else:\n",
        "                visited = set()\n",
        "                result = dfs(c, d, visited)\n",
        "                results.append(result)\n",
        "\n",
        "        return results"
      ],
      "metadata": {
        "id": "dkTaYR3H10Lf"
      },
      "execution_count": 69,
      "outputs": []
    },
    {
      "cell_type": "code",
      "source": [
        "Solution.calcEquation(Solution,[[\"a\",\"b\"],[\"b\",\"c\"]],[2.0,3.0],[[\"a\",\"c\"],[\"b\",\"a\"],[\"a\",\"e\"],[\"a\",\"a\"],[\"x\",\"x\"]])"
      ],
      "metadata": {
        "id": "MxqysFs910Il",
        "colab": {
          "base_uri": "https://localhost:8080/"
        },
        "outputId": "e3ef9a61-a605-4cab-b418-2de684b97610"
      },
      "execution_count": 70,
      "outputs": [
        {
          "output_type": "execute_result",
          "data": {
            "text/plain": [
              "[6.0, 0.5, -1.0, 1.0, -1.0]"
            ]
          },
          "metadata": {},
          "execution_count": 70
        }
      ]
    },
    {
      "cell_type": "markdown",
      "source": [
        "47. You are given an m x n matrix maze (0-indexed) with empty cells (represented as '.') and walls (represented as '+'). You are also given the entrance of the maze, where entrance = [entrancerow, entrancecol] denotes the row and column of the cell you are initially standing at.\n",
        "\n",
        "  In one step, you can move one cell up, down, left, or right. You cannot step into a cell with a wall, and you cannot step outside the maze. Your goal is to find the nearest exit from the entrance. An exit is defined as an empty cell that is at the border of the maze. The entrance does not count as an exit.\n",
        "\n",
        "  Return the number of steps in the shortest path from the entrance to the nearest exit, or -1 if no such path exists."
      ],
      "metadata": {
        "id": "i964QdvP2y_J"
      }
    },
    {
      "cell_type": "code",
      "source": [
        "from collections import deque\n",
        "class Solution:\n",
        "    def nearestExit(self, maze: List[List[str]], entrance: List[int]) -> int:\n",
        "      rows, cols = len(maze), len(maze[0])\n",
        "      queue = deque([(entrance[0], entrance[1], 0)])  # (row, col, steps)\n",
        "      visited = set()\n",
        "      visited.add((entrance[0], entrance[1]))\n",
        "\n",
        "      # Define the four possible directions\n",
        "      directions = [(0, 1), (1, 0), (0, -1), (-1, 0)]  # right, down, left, up\n",
        "\n",
        "      while queue:\n",
        "          x, y, steps = queue.popleft()\n",
        "\n",
        "          # Check if the current cell is an exit\n",
        "          # An exit is not the entrance and is on the border\n",
        "          if (x != entrance[0] or y != entrance[1]) and (x == 0 or x == rows - 1 or y == 0 or y == cols - 1):\n",
        "              return steps\n",
        "\n",
        "          # Explore neighbors\n",
        "          for dx, dy in directions:\n",
        "              nx, ny = x + dx, y + dy\n",
        "              if 0 <= nx < rows and 0 <= ny < cols and maze[nx][ny] == '.' and (nx, ny) not in visited:\n",
        "                  visited.add((nx, ny))\n",
        "                  queue.append((nx, ny, steps + 1))\n",
        "\n",
        "      return -1\n"
      ],
      "metadata": {
        "id": "TrpjvUYQ10AP"
      },
      "execution_count": 71,
      "outputs": []
    },
    {
      "cell_type": "code",
      "source": [
        "Solution.nearestExit(Solution,[[\"+\",\"+\",\"+\"],[\".\",\".\",\".\"],[\"+\",\"+\",\"+\"]],[1,0])"
      ],
      "metadata": {
        "colab": {
          "base_uri": "https://localhost:8080/"
        },
        "id": "wTS-CMM23u1E",
        "outputId": "dec62d05-9303-4701-d8a9-52167cbbd4e7"
      },
      "execution_count": 72,
      "outputs": [
        {
          "output_type": "execute_result",
          "data": {
            "text/plain": [
              "2"
            ]
          },
          "metadata": {},
          "execution_count": 72
        }
      ]
    },
    {
      "cell_type": "markdown",
      "source": [
        "48. You are given an m x n grid where each cell can have one of three values:\n",
        "\n",
        "  0 representing an empty cell,\n",
        "  1 representing a fresh orange, or\n",
        "  2 representing a rotten orange.\n",
        "  Every minute, any fresh orange that is 4-directionally adjacent to a rotten orange becomes rotten.\n",
        "\n",
        "  Return the minimum number of minutes that must elapse until no cell has a fresh orange. If this is impossible, return -1."
      ],
      "metadata": {
        "id": "dk9-fc54zwjb"
      }
    },
    {
      "cell_type": "code",
      "source": [
        "class Solution:\n",
        "    def orangesRotting(self, grid: List[List[int]]) -> int:\n",
        "      rows = len(grid)\n",
        "      cols = len(grid[0])\n",
        "      fresh_count = 0\n",
        "      rotten = deque()\n",
        "      for r in range(rows):\n",
        "          for c in range(cols):\n",
        "              if grid[r][c] == 1:\n",
        "                  fresh_count += 1\n",
        "              elif grid[r][c] == 2:\n",
        "                  rotten.append((r, c))\n",
        "\n",
        "      minutes_passed = 0\n",
        "      while rotten and fresh_count > 0:\n",
        "          minutes_passed += 1\n",
        "          for _ in range(len(rotten)):\n",
        "              x, y = rotten.popleft()\n",
        "              for dx, dy in [(1, 0), (-1, 0), (0, 1), (0, -1)]:\n",
        "                  xx, yy = x + dx, y + dy\n",
        "                  if 0 <= xx < rows and 0 <= yy < cols and grid[xx][yy] == 1:\n",
        "                      grid[xx][yy] = 2\n",
        "                      fresh_count -= 1\n",
        "                      rotten.append((xx, yy))\n",
        "\n",
        "      return minutes_passed if fresh_count == 0 else -1\n",
        "\n",
        "\n"
      ],
      "metadata": {
        "id": "Ep62pnOzzvvy"
      },
      "execution_count": 73,
      "outputs": []
    },
    {
      "cell_type": "code",
      "source": [
        "Solution.orangesRotting(Solution,[[2,1,1],[1,1,0],[0,1,1]])"
      ],
      "metadata": {
        "colab": {
          "base_uri": "https://localhost:8080/"
        },
        "id": "MZMBrI_8zvqQ",
        "outputId": "7dd09089-963d-41e4-9d22-582c0f604206"
      },
      "execution_count": 74,
      "outputs": [
        {
          "output_type": "execute_result",
          "data": {
            "text/plain": [
              "4"
            ]
          },
          "metadata": {},
          "execution_count": 74
        }
      ]
    },
    {
      "cell_type": "markdown",
      "source": [
        "49. Given an integer array nums and an integer k, return the kth largest element in the array.\n",
        "\n",
        "  Note that it is the kth largest element in the sorted order, not the kth distinct element.\n",
        "\n",
        "  Can you solve it without sorting?"
      ],
      "metadata": {
        "id": "k5uDd2a02fZc"
      }
    },
    {
      "cell_type": "code",
      "source": [
        "class Solution:\n",
        "    def findKthLargest(self, nums: List[int], k: int) -> int:\n",
        "      return sorted(nums, reverse=True)[k-1]"
      ],
      "metadata": {
        "id": "zUJAM8I4zvnt"
      },
      "execution_count": 75,
      "outputs": []
    },
    {
      "cell_type": "code",
      "source": [
        "Solution.findKthLargest(Solution,[3,2,1,5,6,4],2)"
      ],
      "metadata": {
        "colab": {
          "base_uri": "https://localhost:8080/"
        },
        "id": "PA4WEDFbzvky",
        "outputId": "61e9059b-4616-45e2-8958-2566c4f2b642"
      },
      "execution_count": 76,
      "outputs": [
        {
          "output_type": "execute_result",
          "data": {
            "text/plain": [
              "5"
            ]
          },
          "metadata": {},
          "execution_count": 76
        }
      ]
    },
    {
      "cell_type": "markdown",
      "source": [
        "50. You have a set which contains all positive integers [1, 2, 3, 4, 5, ...].\n",
        "\n",
        "  Implement the SmallestInfiniteSet class:\n",
        "\n",
        "  SmallestInfiniteSet() Initializes the SmallestInfiniteSet object to contain all positive integers.\n",
        "  int popSmallest() Removes and returns the smallest integer contained in the infinite set.\n",
        "  void addBack(int num) Adds a positive integer num back into the infinite set, if it is not already in the infinite set."
      ],
      "metadata": {
        "id": "X4qnmAYb3Obo"
      }
    },
    {
      "cell_type": "code",
      "source": [
        "class SmallestInfiniteSet:\n",
        "\n",
        "    def __init__(self):\n",
        "      self.available = set(range(1, 1001))\n",
        "\n",
        "    def popSmallest(self) -> int:\n",
        "      smallest = min(self.available)\n",
        "      self.available.remove(smallest)\n",
        "      return smallest\n",
        "\n",
        "    def addBack(self, num: int) -> None:\n",
        "      if num not in self.available:\n",
        "        self.available.add(num)\n",
        "        self.available = set(sorted(self.available))\n",
        ""
      ],
      "metadata": {
        "id": "2sLixhhFzviC"
      },
      "execution_count": 77,
      "outputs": []
    },
    {
      "cell_type": "markdown",
      "source": [
        "51. You are given two 0-indexed integer arrays nums1 and nums2 of equal length n and a positive integer k. You must choose a subsequence of indices from nums1 of length k.\n",
        "\n",
        "  For chosen indices i0, i1, ..., ik - 1, your score is defined as:\n",
        "\n",
        "  The sum of the selected elements from nums1 multiplied with the minimum of the selected elements from nums2.\n",
        "  It can defined simply as: (nums1[i0] + nums1[i1] +...+ nums1[ik - 1]) * min(nums2[i0] , nums2[i1], ... ,nums2[ik - 1]).\n",
        "  Return the maximum possible score.\n",
        "\n",
        "  A subsequence of indices of an array is a set that can be derived from the set {0, 1, ..., n-1} by deleting some or no elements."
      ],
      "metadata": {
        "id": "UTjzBjYndyH7"
      }
    },
    {
      "cell_type": "code",
      "source": [
        "import heapq\n",
        "class Solution:\n",
        "  def maxScore(self, nums1: List[int],nums2:List[int], k:int)-> int:\n",
        "    pairs = sorted(zip(nums1,nums2), key=lambda x: -x[1])\n",
        "    min_heap = []\n",
        "    sum_top_k = 0\n",
        "    for i in range(k):\n",
        "      sum_top_k += pairs[i][0]\n",
        "      heapq.heappush(min_heap,pairs[i][0])\n",
        "    result = sum_top_k * pairs[k-1][1]\n",
        "    for i in range(k, len(pairs)):\n",
        "      sum_top_k += pairs[i][0] - heapq.heappop(min_heap)\n",
        "      heapq.heappush(min_heap,pairs[i][0])\n",
        "      result = max(result, sum_top_k * pairs[i][1])\n",
        "    return result"
      ],
      "metadata": {
        "id": "PzckOtkgzvfB"
      },
      "execution_count": 78,
      "outputs": []
    },
    {
      "cell_type": "code",
      "source": [
        "Solution.maxScore(Solution,nums1 = [1,3,3,2],nums2=[2,1,3,4],k=3)"
      ],
      "metadata": {
        "id": "1VaVE69CzvZP",
        "colab": {
          "base_uri": "https://localhost:8080/"
        },
        "outputId": "84bd8764-c86d-4c7b-986a-1d3a7d1d529c"
      },
      "execution_count": 79,
      "outputs": [
        {
          "output_type": "execute_result",
          "data": {
            "text/plain": [
              "12"
            ]
          },
          "metadata": {},
          "execution_count": 79
        }
      ]
    },
    {
      "cell_type": "markdown",
      "source": [
        "52. You are given a 0-indexed integer array costs where costs[i] is the cost of hiring the ith worker.\n",
        "\n",
        "  You are also given two integers k and candidates. We want to hire exactly k workers according to the following rules:\n",
        "\n",
        "  You will run k sessions and hire exactly one worker in each session.\n",
        "  In each hiring session, choose the worker with the lowest cost from either the first candidates workers or the last candidates workers. Break the tie by the smallest index.\n",
        "  For example, if costs = [3,2,7,7,1,2] and candidates = 2, then in the first hiring session, we will choose the 4th worker because they have the lowest cost [3,2,7,7,1,2].\n",
        "  In the second hiring session, we will choose 1st worker because they have the same lowest cost as 4th worker but they have the smallest index [3,2,7,7,2]. Please note that the indexing may be changed in the process.\n",
        "  If there are fewer than candidates workers remaining, choose the worker with the lowest cost among them. Break the tie by the smallest index.\n",
        "  A worker can only be chosen once.\n",
        "  Return the total cost to hire exactly k workers."
      ],
      "metadata": {
        "id": "cdR1ki2uq7Ax"
      }
    },
    {
      "cell_type": "code",
      "source": [
        "class Solution:\n",
        "    def totalCost(self, costs: List[int], k: int, candidates: int) -> int:\n",
        "      i = 0\n",
        "      j = len(costs) - 1\n",
        "      pq1 = []\n",
        "      pq2 = []\n",
        "\n",
        "      ans = 0\n",
        "      while k > 0:\n",
        "          while len(pq1) < candidates and i <= j:\n",
        "              heapq.heappush(pq1, costs[i])\n",
        "              i += 1\n",
        "          while len(pq2) < candidates and i <= j:\n",
        "              heapq.heappush(pq2, costs[j])\n",
        "              j -= 1\n",
        "\n",
        "          t1 = pq1[0] if pq1 else float('inf')\n",
        "          t2 = pq2[0] if pq2 else float('inf')\n",
        "\n",
        "          if t1 <= t2:\n",
        "              ans += t1\n",
        "              heapq.heappop(pq1)\n",
        "          else:\n",
        "              ans += t2\n",
        "              heapq.heappop(pq2)\n",
        "\n",
        "          k -= 1\n",
        "      return ans\n",
        "\n",
        "\n"
      ],
      "metadata": {
        "id": "aO9hvT-BzvWW"
      },
      "execution_count": 84,
      "outputs": []
    },
    {
      "cell_type": "code",
      "source": [
        "Solution.totalCost(Solution,costs = [17,12,10,2,7,2,11,20,8], k = 3, candidates = 4 )"
      ],
      "metadata": {
        "id": "KgnJiaF2zvTt",
        "colab": {
          "base_uri": "https://localhost:8080/"
        },
        "outputId": "90e6a55c-110b-4bdb-ec9a-6b59f3300971"
      },
      "execution_count": 85,
      "outputs": [
        {
          "output_type": "execute_result",
          "data": {
            "text/plain": [
              "11"
            ]
          },
          "metadata": {},
          "execution_count": 85
        }
      ]
    },
    {
      "cell_type": "markdown",
      "source": [
        "53. We are playing the Guess Game. The game is as follows:\n",
        "\n",
        "  I pick a number from 1 to n. You have to guess which number I picked.\n",
        "\n",
        "  Every time you guess wrong, I will tell you whether the number I picked is higher or lower than your guess.\n",
        "\n",
        "  You call a pre-defined API int guess(int num), which returns three possible results:\n",
        "\n",
        "  -1: Your guess is higher than the number I picked (i.e. num > pick).\n",
        "  1: Your guess is lower than the number I picked (i.e. num < pick).\n",
        "  0: your guess is equal to the number I picked (i.e. num == pick).\n",
        "  Return the number that I picked."
      ],
      "metadata": {
        "id": "6OJUHSz4boBh"
      }
    },
    {
      "cell_type": "code",
      "source": [
        "import guess_number\n",
        "\n",
        "class Solution:\n",
        "    def guessNumber(self, n: int) -> int:\n",
        "      left, right = 1, n\n",
        "      while left <= right:\n",
        "          mid = (left + right) // 2\n",
        "          result = guess_number(mid)\n",
        "\n",
        "          if result == 0:\n",
        "              return mid\n",
        "          elif result > 0:\n",
        "              left = mid + 1\n",
        "          else:\n",
        "              right = mid - 1\n",
        "\n",
        "      return -1"
      ],
      "metadata": {
        "id": "vSo2PaUXzvN7"
      },
      "execution_count": 81,
      "outputs": []
    }
  ]
}