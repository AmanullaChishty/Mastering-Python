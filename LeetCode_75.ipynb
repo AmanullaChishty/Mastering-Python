{
  "nbformat": 4,
  "nbformat_minor": 0,
  "metadata": {
    "colab": {
      "provenance": [],
      "authorship_tag": "ABX9TyNdYnmqlMruNWPxGD66cfRq",
      "include_colab_link": true
    },
    "kernelspec": {
      "name": "python3",
      "display_name": "Python 3"
    },
    "language_info": {
      "name": "python"
    }
  },
  "cells": [
    {
      "cell_type": "markdown",
      "metadata": {
        "id": "view-in-github",
        "colab_type": "text"
      },
      "source": [
        "<a href=\"https://colab.research.google.com/github/AmanullaChishty/Mastering-Python/blob/main/LeetCode_75.ipynb\" target=\"_parent\"><img src=\"https://colab.research.google.com/assets/colab-badge.svg\" alt=\"Open In Colab\"/></a>"
      ]
    },
    {
      "cell_type": "markdown",
      "source": [
        "Given a string s, reverse only all the vowels in the string and return it.\n",
        "\n",
        "The vowels are 'a', 'e', 'i', 'o', and 'u', and they can appear in both lower and upper cases, more than once."
      ],
      "metadata": {
        "id": "aau_AMUk5iBH"
      }
    },
    {
      "cell_type": "code",
      "execution_count": 1,
      "metadata": {
        "id": "ls9j9sra3Vnn"
      },
      "outputs": [],
      "source": [
        "class Solution:\n",
        "    def reverseVowels(self, s: str) -> str:\n",
        "      vowels = \"aeiouAEIOU\"\n",
        "      s = list(s)  # Convert the string to a list for mutability\n",
        "      l, r = 0, len(s) - 1  # Initialize two pointers\n",
        "\n",
        "      while l < r:\n",
        "          if s[l] in vowels and s[r] in vowels:  # Both pointers are at vowels\n",
        "              s[l], s[r] = s[r], s[l]  # Swap the vowels\n",
        "              l += 1  # Move the left pointer right\n",
        "              r -= 1  # Move the right pointer left\n",
        "          elif s[l] not in vowels:  # Left pointer is not a vowel\n",
        "              l += 1  # Move the left pointer right\n",
        "          elif s[r] not in vowels:  # Right pointer is not a vowel\n",
        "              r -= 1  # Move the right pointer left\n",
        "\n",
        "      return \"\".join(s)  # Convert the list back to a string\n"
      ]
    },
    {
      "cell_type": "code",
      "source": [
        "Solution.reverseVowels( Solution,\"hello\")"
      ],
      "metadata": {
        "colab": {
          "base_uri": "https://localhost:8080/",
          "height": 36
        },
        "id": "WdpKacHf6Bit",
        "outputId": "56f470e6-f356-47f2-a0fd-53cb02724197"
      },
      "execution_count": 4,
      "outputs": [
        {
          "output_type": "execute_result",
          "data": {
            "text/plain": [
              "'holle'"
            ],
            "application/vnd.google.colaboratory.intrinsic+json": {
              "type": "string"
            }
          },
          "metadata": {},
          "execution_count": 4
        }
      ]
    },
    {
      "cell_type": "code",
      "source": [],
      "metadata": {
        "id": "rmc-Rujv6Bfz"
      },
      "execution_count": null,
      "outputs": []
    },
    {
      "cell_type": "code",
      "source": [],
      "metadata": {
        "id": "PTGePw-T6Bdb"
      },
      "execution_count": null,
      "outputs": []
    }
  ]
}