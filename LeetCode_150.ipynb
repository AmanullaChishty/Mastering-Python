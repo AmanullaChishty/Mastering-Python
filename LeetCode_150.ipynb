{
  "nbformat": 4,
  "nbformat_minor": 0,
  "metadata": {
    "colab": {
      "provenance": [],
      "authorship_tag": "ABX9TyPaF/dS/c6M9r9Tg0zlzsrn",
      "include_colab_link": true
    },
    "kernelspec": {
      "name": "python3",
      "display_name": "Python 3"
    },
    "language_info": {
      "name": "python"
    }
  },
  "cells": [
    {
      "cell_type": "markdown",
      "metadata": {
        "id": "view-in-github",
        "colab_type": "text"
      },
      "source": [
        "<a href=\"https://colab.research.google.com/github/AmanullaChishty/Mastering-Python/blob/main/LeetCode_150.ipynb\" target=\"_parent\"><img src=\"https://colab.research.google.com/assets/colab-badge.svg\" alt=\"Open In Colab\"/></a>"
      ]
    },
    {
      "cell_type": "markdown",
      "source": [
        "1. You are given two integer arrays nums1 and nums2, sorted in non-decreasing order, and two integers m and n, representing the number of elements in nums1 and nums2 respectively.\n",
        "\n",
        "  Merge nums1 and nums2 into a single array sorted in non-decreasing order.\n",
        "\n",
        "  The final sorted array should not be returned by the function, but instead be stored inside the array nums1. To accommodate this, nums1 has a length of m + n, where the first m elements denote the elements that should be merged, and the last n elements are set to 0 and should be ignored. nums2 has a length of n."
      ],
      "metadata": {
        "id": "rPQC36QuPUqU"
      }
    },
    {
      "cell_type": "code",
      "execution_count": 1,
      "metadata": {
        "id": "UfjXqVy4PApq"
      },
      "outputs": [],
      "source": [
        "from typing import List\n",
        "class Solution:\n",
        "    def merge(self, nums1: List[int], m: int, nums2: List[int], n: int) -> None:\n",
        "        nums1[:] = sorted(nums1[:m] + nums2)\n",
        "\n",
        "        return nums1"
      ]
    },
    {
      "cell_type": "code",
      "source": [
        "Solution.merge(1,[1,2,3,0,0,0],3,[2,5,6],3)"
      ],
      "metadata": {
        "colab": {
          "base_uri": "https://localhost:8080/"
        },
        "id": "w6ciduA3P4po",
        "outputId": "f7324b6c-c41b-4945-a98d-b52ec9a2f6f6"
      },
      "execution_count": 2,
      "outputs": [
        {
          "output_type": "execute_result",
          "data": {
            "text/plain": [
              "[1, 2, 2, 3, 5, 6]"
            ]
          },
          "metadata": {},
          "execution_count": 2
        }
      ]
    },
    {
      "cell_type": "markdown",
      "source": [
        "2. Given an integer array nums and an integer val, remove all occurrences of val in nums in-place. The order of the elements may be changed. Then return the number of elements in nums which are not equal to val.\n",
        "\n",
        "  Consider the number of elements in nums which are not equal to val be k, to get accepted, you need to do the following things:\n",
        "\n",
        "  Change the array nums such that the first k elements of nums contain the elements which are not equal to val. The remaining elements of nums are not important as well as the size of nums."
      ],
      "metadata": {
        "id": "8PdpcPi4QT3F"
      }
    },
    {
      "cell_type": "code",
      "source": [
        "class Solution:\n",
        "    def removeElement(self, nums: List[int], val: int) -> int:\n",
        "        while val in nums:\n",
        "            nums.remove(val)\n",
        "        return len(nums)"
      ],
      "metadata": {
        "id": "pxnrhEkVQS-N"
      },
      "execution_count": 3,
      "outputs": []
    },
    {
      "cell_type": "code",
      "source": [
        "Solution.removeElement(1,[3,2,2,3],3)"
      ],
      "metadata": {
        "colab": {
          "base_uri": "https://localhost:8080/"
        },
        "id": "OhPkGR-eQ15M",
        "outputId": "93925637-8951-4090-c635-3e7039516ee4"
      },
      "execution_count": 4,
      "outputs": [
        {
          "output_type": "execute_result",
          "data": {
            "text/plain": [
              "2"
            ]
          },
          "metadata": {},
          "execution_count": 4
        }
      ]
    },
    {
      "cell_type": "markdown",
      "source": [
        "3. Given an integer array nums sorted in non-decreasing order, remove the duplicates in-place such that each unique element appears only once. The relative order of the elements should be kept the same. Then return the number of unique elements in nums.\n",
        "\n",
        "  Consider the number of unique elements of nums to be k, to get accepted, you need to do the following things:\n",
        "\n",
        "  Change the array nums such that the first k elements of nums contain the unique elements in the order they were present in nums initially. The remaining elements of nums are not important as well as the size of nums.\n",
        "  Return k."
      ],
      "metadata": {
        "id": "cTCdsjW7U1Nm"
      }
    },
    {
      "cell_type": "code",
      "source": [
        "class Solution:\n",
        "    def removeDuplicates(self, nums: List[int]) -> int:\n",
        "        nums[:] = sorted(set(nums))\n",
        "        return len(nums)"
      ],
      "metadata": {
        "id": "48SuVacCU0ys"
      },
      "execution_count": 5,
      "outputs": []
    },
    {
      "cell_type": "code",
      "source": [
        "Solution.removeDuplicates(1,[1,1,2])"
      ],
      "metadata": {
        "colab": {
          "base_uri": "https://localhost:8080/"
        },
        "id": "xuMLS26LVi2p",
        "outputId": "0942c1f4-5683-43ce-c475-4b9260caa8a2"
      },
      "execution_count": 6,
      "outputs": [
        {
          "output_type": "execute_result",
          "data": {
            "text/plain": [
              "2"
            ]
          },
          "metadata": {},
          "execution_count": 6
        }
      ]
    },
    {
      "cell_type": "markdown",
      "source": [
        "4.Given an integer array nums sorted in non-decreasing order, remove some duplicates in-place such that each unique element appears at most twice. The relative order of the elements should be kept the same.\n",
        "\n",
        "  Since it is impossible to change the length of the array in some languages, you must instead have the result be placed in the first part of the array nums. More formally, if there are k elements after removing the duplicates, then the first k elements of nums should hold the final result. It does not matter what you leave beyond the first k elements.\n",
        "\n",
        "  Return k after placing the final result in the first k slots of nums.\n",
        "\n",
        "  Do not allocate extra space for another array. You must do this by modifying the input array in-place with O(1) extra memory."
      ],
      "metadata": {
        "id": "d3EaGlKRV3Oc"
      }
    },
    {
      "cell_type": "code",
      "source": [
        "class Solution:\n",
        "    def removeDuplicates(self, nums: List[int]) -> int:\n",
        "        i = 1\n",
        "        count = 1\n",
        "        for j in range(1, len(nums)):\n",
        "            if nums[j] == nums[j - 1]:\n",
        "                count += 1\n",
        "            else:\n",
        "                count = 1\n",
        "            if count <= 2:\n",
        "                nums[i] = nums[j]\n",
        "                i += 1\n",
        "        return i"
      ],
      "metadata": {
        "id": "IjHqdhyGV82g"
      },
      "execution_count": 7,
      "outputs": []
    },
    {
      "cell_type": "code",
      "source": [
        "Solution.removeDuplicates(1,[1,1,1,2,2,3])"
      ],
      "metadata": {
        "colab": {
          "base_uri": "https://localhost:8080/"
        },
        "id": "FG9PUIC8V9tb",
        "outputId": "dc63ec42-f27a-4092-d415-1936102d8c34"
      },
      "execution_count": 8,
      "outputs": [
        {
          "output_type": "execute_result",
          "data": {
            "text/plain": [
              "5"
            ]
          },
          "metadata": {},
          "execution_count": 8
        }
      ]
    },
    {
      "cell_type": "markdown",
      "source": [
        "5. Given an array nums of size n, return the majority element.\n",
        "\n",
        "  The majority element is the element that appears more than ⌊n / 2⌋ times. You may assume that the majority element always exists in the array."
      ],
      "metadata": {
        "id": "K4Dy27wQkY-m"
      }
    },
    {
      "cell_type": "code",
      "source": [
        "class Solution:\n",
        "    def majorityElement(self, nums: List[int]) -> int:\n",
        "        nums.sort()\n",
        "        return nums[len(nums)//2]"
      ],
      "metadata": {
        "id": "7N6muZc2kT9W"
      },
      "execution_count": 9,
      "outputs": []
    },
    {
      "cell_type": "code",
      "source": [
        "Solution.majorityElement(1,[3,2,3])"
      ],
      "metadata": {
        "colab": {
          "base_uri": "https://localhost:8080/"
        },
        "id": "CkcOOoeakT6d",
        "outputId": "2a87f739-e225-449e-a6e5-20f9c06ccd3f"
      },
      "execution_count": 10,
      "outputs": [
        {
          "output_type": "execute_result",
          "data": {
            "text/plain": [
              "3"
            ]
          },
          "metadata": {},
          "execution_count": 10
        }
      ]
    },
    {
      "cell_type": "markdown",
      "source": [
        "6. Given an integer array nums, rotate the array to the right by k steps, where k is non-negative."
      ],
      "metadata": {
        "id": "IZzayI4Ttmfb"
      }
    },
    {
      "cell_type": "code",
      "source": [
        "class Solution:\n",
        "    def rotate(self, nums: List[int], k: int) -> None:\n",
        "        k %= len(nums)\n",
        "        nums[:] = nums[-k:] + nums[:-k]"
      ],
      "metadata": {
        "id": "4lI9pFapkT3r"
      },
      "execution_count": 11,
      "outputs": []
    },
    {
      "cell_type": "code",
      "source": [
        "Solution.rotate(1,[1,2,3,4,5,6,7],3)"
      ],
      "metadata": {
        "id": "GhtO_AJTkT0L"
      },
      "execution_count": 12,
      "outputs": []
    },
    {
      "cell_type": "markdown",
      "source": [
        "7. You are given an array prices where prices[i] is the price of a given stock on the ith day.\n",
        "\n",
        "  You want to maximize your profit by choosing a single day to buy one stock and choosing a different day in the future to sell that stock.\n",
        "\n",
        "  Return the maximum profit you can achieve from this transaction. If you cannot achieve any profit, return 0."
      ],
      "metadata": {
        "id": "rt5Bf4jiySiY"
      }
    },
    {
      "cell_type": "code",
      "source": [
        "class Solution:\n",
        "    def maxProfit(self, prices: List[int]) -> int:\n",
        "        min_price = float('inf')\n",
        "        max_profit = 0\n",
        "        for price in prices:\n",
        "            if price < min_price:\n",
        "                min_price = price\n",
        "            elif price - min_price > max_profit:\n",
        "                max_profit = price - min_price\n",
        "        return max_profit"
      ],
      "metadata": {
        "id": "BJH2C2NmkTxN"
      },
      "execution_count": 13,
      "outputs": []
    },
    {
      "cell_type": "code",
      "source": [
        "Solution.maxProfit(1,[7,1,5,3,6,4])"
      ],
      "metadata": {
        "colab": {
          "base_uri": "https://localhost:8080/"
        },
        "id": "B9EGCv_2kTsF",
        "outputId": "1d4154dd-5b1a-4e1e-ef83-9c6f5693820d"
      },
      "execution_count": 14,
      "outputs": [
        {
          "output_type": "execute_result",
          "data": {
            "text/plain": [
              "5"
            ]
          },
          "metadata": {},
          "execution_count": 14
        }
      ]
    },
    {
      "cell_type": "markdown",
      "source": [
        "8. You are given an integer array prices where prices[i] is the price of a given stock on the ith day.\n",
        "\n",
        "  On each day, you may decide to buy and/or sell the stock. You can only hold at most one share of the stock at any time. However, you can buy it then immediately sell it on the same day.\n",
        "\n",
        "  Find and return the maximum profit you can achieve."
      ],
      "metadata": {
        "id": "5dvsf1wazlZS"
      }
    },
    {
      "cell_type": "code",
      "source": [
        "class Solution:\n",
        "    def maxProfit(self, prices: List[int]) -> int:\n",
        "        max_profit = 0\n",
        "        for i in range(1, len(prices)):\n",
        "            if prices[i] > prices[i - 1]:\n",
        "                max_profit += prices[i] - prices[i - 1]\n",
        "        return max_profit"
      ],
      "metadata": {
        "id": "CvFkgiXJkTo8"
      },
      "execution_count": 15,
      "outputs": []
    },
    {
      "cell_type": "code",
      "source": [
        "Solution.maxProfit(1,[7,6,4,3,1])"
      ],
      "metadata": {
        "colab": {
          "base_uri": "https://localhost:8080/"
        },
        "id": "VacrLdIukTlk",
        "outputId": "e3ed047c-9f43-454b-b09e-ecd588701d22"
      },
      "execution_count": 16,
      "outputs": [
        {
          "output_type": "execute_result",
          "data": {
            "text/plain": [
              "0"
            ]
          },
          "metadata": {},
          "execution_count": 16
        }
      ]
    },
    {
      "cell_type": "markdown",
      "source": [
        "9. You are given an integer array nums. You are initially positioned at the array's first index, and each element in the array represents your maximum jump length at that position.\n",
        "\n",
        "  Return true if you can reach the last index, or false otherwise."
      ],
      "metadata": {
        "id": "TaxRI5e2gN8V"
      }
    },
    {
      "cell_type": "code",
      "source": [
        "class Solution:\n",
        "    def canJump(self, nums: List[int]) -> bool:\n",
        "        n = len(nums)\n",
        "        max_reach = 0\n",
        "        for i in range(n):\n",
        "            if i > max_reach:\n",
        "                return False\n",
        "            max_reach = max(max_reach, i + nums[i])\n",
        "            if max_reach >= n - 1:\n",
        "                return True\n",
        "        return False"
      ],
      "metadata": {
        "id": "AtKi93eGkThm"
      },
      "execution_count": 17,
      "outputs": []
    },
    {
      "cell_type": "code",
      "source": [
        "Solution.canJump(1,[2,3,1,1,4])"
      ],
      "metadata": {
        "colab": {
          "base_uri": "https://localhost:8080/"
        },
        "id": "6vi3FE4ZkTeN",
        "outputId": "dda3642c-c2a8-42de-c7b5-332baeed087b"
      },
      "execution_count": 18,
      "outputs": [
        {
          "output_type": "execute_result",
          "data": {
            "text/plain": [
              "True"
            ]
          },
          "metadata": {},
          "execution_count": 18
        }
      ]
    },
    {
      "cell_type": "markdown",
      "source": [
        "10. You are given a 0-indexed array of integers nums of length n. You are initially positioned at nums[0].\n",
        "\n",
        "  Each element nums[i] represents the maximum length of a forward jump from index i. In other words, if you are at nums[i], you can jump to any nums[i + j] where:\n",
        "\n",
        "  0 <= j <= nums[i] and\n",
        "  i + j < n\n",
        "  Return the minimum number of jumps to reach nums[n - 1]. The test cases are generated such that you can reach nums[n - 1]."
      ],
      "metadata": {
        "id": "G4LKKJOVhYKJ"
      }
    },
    {
      "cell_type": "code",
      "source": [
        "class Solution:\n",
        "    def jump(self, nums: List[int]) -> int:\n",
        "      n = len(nums)\n",
        "      jumps = 0\n",
        "      current_jump_end = 0\n",
        "      farthest = 0\n",
        "      for i in range(n - 1):\n",
        "        farthest = max(farthest, i + nums[i])\n",
        "        if i == current_jump_end:\n",
        "          jumps += 1\n",
        "          current_jump_end = farthest\n",
        "      return jumps"
      ],
      "metadata": {
        "id": "PC9PBWQCkTaT"
      },
      "execution_count": 19,
      "outputs": []
    },
    {
      "cell_type": "code",
      "source": [
        "Solution.jump(1,[2,3,1,1,4])"
      ],
      "metadata": {
        "colab": {
          "base_uri": "https://localhost:8080/"
        },
        "id": "Bi931zdMkTUa",
        "outputId": "bdfad1df-4a6c-4ac8-8dec-218e0516b609"
      },
      "execution_count": 20,
      "outputs": [
        {
          "output_type": "execute_result",
          "data": {
            "text/plain": [
              "2"
            ]
          },
          "metadata": {},
          "execution_count": 20
        }
      ]
    },
    {
      "cell_type": "markdown",
      "source": [
        "11. Given an array of integers citations where citations[i] is the number of citations a researcher received for their ith paper, return the researcher's h-index.\n",
        "\n",
        "  According to the definition of h-index on Wikipedia: The h-index is defined as the maximum value of h such that the given researcher has published at least h papers that have each been cited at least h times."
      ],
      "metadata": {
        "id": "v3UQ-BNyQe5m"
      }
    },
    {
      "cell_type": "code",
      "source": [
        "class Solution:\n",
        "    def hIndex(self, citations: List[int]) -> int:\n",
        "        citations.sort()\n",
        "        n = len(citations)\n",
        "        for i in range(n):\n",
        "            if citations[i] >= n - i:\n",
        "                return n - i\n",
        "        return 0"
      ],
      "metadata": {
        "id": "-1JSf8bOQV5q"
      },
      "execution_count": 21,
      "outputs": []
    },
    {
      "cell_type": "code",
      "source": [
        "Solution.hIndex(1,[3,0,6,1,5])"
      ],
      "metadata": {
        "colab": {
          "base_uri": "https://localhost:8080/"
        },
        "id": "SO1CfdKNQV2x",
        "outputId": "82882567-5ebf-4a84-c3dd-eebed5e3e7d9"
      },
      "execution_count": 22,
      "outputs": [
        {
          "output_type": "execute_result",
          "data": {
            "text/plain": [
              "3"
            ]
          },
          "metadata": {},
          "execution_count": 22
        }
      ]
    },
    {
      "cell_type": "markdown",
      "source": [
        "12. Implement the RandomizedSet class:\n",
        "\n",
        "  RandomizedSet() Initializes the RandomizedSet object.\n",
        "  bool insert(int val) Inserts an item val into the set if not present. Returns true if the item was not present, false otherwise.\n",
        "  bool remove(int val) Removes an item val from the set if present. Returns true if the item was present, false otherwise.\n",
        "  int getRandom() Returns a random element from the current set of elements (it's guaranteed that at least one element exists when this method is called). Each element must have the same probability of being returned.\n",
        "  You must implement the functions of the class such that each function works in average O(1) time complexity."
      ],
      "metadata": {
        "id": "ihJTGhv2Wf5Z"
      }
    },
    {
      "cell_type": "code",
      "source": [
        "class RandomizedSet:\n",
        "\n",
        "    def __init__(self):\n",
        "        self.ran = set()\n",
        "\n",
        "\n",
        "    def insert(self, val: int) -> bool:\n",
        "        if val not in self.ran:\n",
        "            self.ran.add(val)\n",
        "            return True\n",
        "        else:\n",
        "            return False\n",
        "\n",
        "\n",
        "    def remove(self, val: int) -> bool:\n",
        "        if val in self.ran:\n",
        "            self.ran.remove(val)\n",
        "            return True\n",
        "        else:\n",
        "            return False\n",
        "\n",
        "\n",
        "\n",
        "    def getRandom(self) -> int:\n",
        "        return random.choice(list(self.ran))\n",
        "\n",
        "\n",
        "\n",
        "# Your RandomizedSet object will be instantiated and called as such:\n",
        "# obj = RandomizedSet()\n",
        "# param_1 = obj.insert(val)\n",
        "# param_2 = obj.remove(val)\n",
        "# param_3 = obj.getRandom()"
      ],
      "metadata": {
        "id": "U7vStTjPQV0D"
      },
      "execution_count": 23,
      "outputs": []
    },
    {
      "cell_type": "markdown",
      "source": [
        "13. Given an integer array nums, return an array answer such that answer[i] is equal to the product of all the elements of nums except nums[i].\n",
        "\n",
        "  The product of any prefix or suffix of nums is guaranteed to fit in a 32-bit integer.\n",
        "\n",
        "  You must write an algorithm that runs in O(n) time and without using the division operation."
      ],
      "metadata": {
        "id": "V72RtH9Wjwvd"
      }
    },
    {
      "cell_type": "code",
      "source": [
        "from typing import List\n",
        "class Solution:\n",
        "    def productExceptSelf(self, nums: List[int]) -> List[int]:\n",
        "      n = len(nums)\n",
        "      left = [1] * n\n",
        "      right = [1] * n\n",
        "      answer = [1] * n\n",
        "      for i in range(1, n):\n",
        "        left[i] = left[i - 1] * nums[i - 1]\n",
        "      for i in range(n - 2, -1, -1):\n",
        "        right[i] = right[i + 1] * nums[i + 1]\n",
        "      for i in range(n):\n",
        "        answer[i] = left[i] * right[i]\n",
        "      return answer"
      ],
      "metadata": {
        "id": "CMud5OanYldB"
      },
      "execution_count": 24,
      "outputs": []
    },
    {
      "cell_type": "code",
      "source": [
        "Solution.productExceptSelf(1,[1,2,3,4])"
      ],
      "metadata": {
        "colab": {
          "base_uri": "https://localhost:8080/"
        },
        "id": "VzF5c3I2QVrM",
        "outputId": "baff6e2a-cb98-4199-8ad7-c82c09cad150"
      },
      "execution_count": 25,
      "outputs": [
        {
          "output_type": "execute_result",
          "data": {
            "text/plain": [
              "[24, 12, 8, 6]"
            ]
          },
          "metadata": {},
          "execution_count": 25
        }
      ]
    },
    {
      "cell_type": "markdown",
      "source": [
        "14. There are n gas stations along a circular route, where the amount of gas at the ith station is gas[i].\n",
        "\n",
        "  You have a car with an unlimited gas tank and it costs cost[i] of gas to travel from the ith station to its next (i + 1)th station. You begin the journey with an empty tank at one of the gas stations.\n",
        "\n",
        "  Given two integer arrays gas and cost, return the starting gas station's index if you can travel around the circuit once in the clockwise direction, otherwise return -1. If there exists a solution, it is guaranteed to be unique.\n",
        "\n"
      ],
      "metadata": {
        "id": "_lxfzXH6k1f-"
      }
    },
    {
      "cell_type": "code",
      "source": [
        "class Solution:\n",
        "    def canCompleteCircuit(self, gas: List[int], cost: List[int]) -> int:\n",
        "        n = len(gas)\n",
        "        total_tank = 0\n",
        "        current_tank = 0\n",
        "        starting_station = 0\n",
        "        for i in range(n):\n",
        "            total_tank += gas[i] - cost[i]\n",
        "            current_tank += gas[i] - cost[i]\n",
        "            if current_tank < 0:\n",
        "                starting_station = i + 1\n",
        "                current_tank = 0\n",
        "        return starting_station if total_tank >= 0 else -1"
      ],
      "metadata": {
        "id": "lbVijO4pQVoY"
      },
      "execution_count": 26,
      "outputs": []
    },
    {
      "cell_type": "code",
      "source": [
        "Solution.canCompleteCircuit(1,[1,2,3,4,5],[3,4,5,1,2])"
      ],
      "metadata": {
        "colab": {
          "base_uri": "https://localhost:8080/"
        },
        "id": "Hr-c6TziQVla",
        "outputId": "0b046b13-1310-411d-afd0-80c9b8a98ec2"
      },
      "execution_count": 27,
      "outputs": [
        {
          "output_type": "execute_result",
          "data": {
            "text/plain": [
              "3"
            ]
          },
          "metadata": {},
          "execution_count": 27
        }
      ]
    },
    {
      "cell_type": "markdown",
      "source": [
        "15. There are n children standing in a line. Each child is assigned a rating value given in the integer array ratings.\n",
        "\n",
        "  You are giving candies to these children subjected to the following requirements:\n",
        "\n",
        "  Each child must have at least one candy.\n",
        "  Children with a higher rating get more candies than their neighbors.\n",
        "  Return the minimum number of candies you need to have to distribute the candies to the children."
      ],
      "metadata": {
        "id": "k-K3Hhgpiozh"
      }
    },
    {
      "cell_type": "code",
      "source": [
        "class Solution:\n",
        "    def candy(self, ratings: List[int]) -> int:\n",
        "        n = len(ratings)\n",
        "        candies = [1] * n\n",
        "        for i in range(1, n):\n",
        "            if ratings[i] > ratings[i - 1]:\n",
        "                candies[i] = candies[i - 1] + 1\n",
        "        for i in range(n - 2, -1, -1):\n",
        "            if ratings[i] > ratings[i + 1]:\n",
        "                candies[i] = max(candies[i], candies[i + 1] + 1)\n",
        "        return sum(candies)\n"
      ],
      "metadata": {
        "id": "hzMPegwGWbwz"
      },
      "execution_count": 28,
      "outputs": []
    },
    {
      "cell_type": "code",
      "source": [
        "Solution.candy(1,[1,0,2])"
      ],
      "metadata": {
        "id": "SupHX4SyWbrM",
        "colab": {
          "base_uri": "https://localhost:8080/"
        },
        "outputId": "74987edd-b233-4fc6-e10b-492a4cbee27d"
      },
      "execution_count": 29,
      "outputs": [
        {
          "output_type": "execute_result",
          "data": {
            "text/plain": [
              "5"
            ]
          },
          "metadata": {},
          "execution_count": 29
        }
      ]
    },
    {
      "cell_type": "markdown",
      "source": [
        "16. Given n non-negative integers representing an elevation map where the width of each bar is 1, compute how much water it can trap after raining."
      ],
      "metadata": {
        "id": "gr-5BEefmSJO"
      }
    },
    {
      "cell_type": "code",
      "source": [
        "class Solution:\n",
        "    def trap(self, height: List[int]) -> int:\n",
        "        if not height:\n",
        "            return 0\n",
        "        n = len(height)\n",
        "        left_max = [0] * n\n",
        "        right_max = [0] * n\n",
        "        left_max[0] = height[0]\n",
        "        for i in range(1, n):\n",
        "            left_max[i] = max(left_max[i - 1], height[i])\n",
        "        right_max[n - 1] = height[n - 1]\n",
        "        for i in range(n - 2, -1, -1):\n",
        "            right_max[i] = max(right_max[i + 1], height[i])\n",
        "        water = 0\n",
        "        for i in range(n):\n",
        "            water += min(left_max[i], right_max[i]) - height[i]\n",
        "        return water\n"
      ],
      "metadata": {
        "id": "2WY5Vmj7Wboe"
      },
      "execution_count": 30,
      "outputs": []
    },
    {
      "cell_type": "code",
      "source": [
        "Solution.trap(1,[0,1,0,2,1,0,1,3,2,1,2,1])"
      ],
      "metadata": {
        "id": "5SuzM6CrWbl3",
        "colab": {
          "base_uri": "https://localhost:8080/"
        },
        "outputId": "3e6184d8-b44a-4107-f453-a6b6cc30616d"
      },
      "execution_count": 31,
      "outputs": [
        {
          "output_type": "execute_result",
          "data": {
            "text/plain": [
              "6"
            ]
          },
          "metadata": {},
          "execution_count": 31
        }
      ]
    },
    {
      "cell_type": "markdown",
      "source": [
        "17. Roman numerals are represented by seven different symbols: I, V, X, L, C, D and M.\n",
        "\n",
        "  Symbol       Value\n",
        "  I             1\n",
        "  V             5\n",
        "  X             10\n",
        "  L             50\n",
        "  C             100\n",
        "  D             500\n",
        "  M             1000\n",
        "  For example, 2 is written as II in Roman numeral, just two ones added together. 12 is written as XII, which is simply X + II. The number 27 is written as XXVII, which is XX + V + II.\n",
        "\n",
        "  Roman numerals are usually written largest to smallest from left to right. However, the numeral for four is not IIII. Instead, the number four is written as IV. Because the one is before the five we subtract it making four. The same principle applies to the number nine, which is written as IX. There are six instances where subtraction is used:\n",
        "\n",
        "  I can be placed before V (5) and X (10) to make 4 and 9.\n",
        "  X can be placed before L (50) and C (100) to make 40 and 90.\n",
        "  C can be placed before D (500) and M (1000) to make 400 and 900.\n",
        "  Given a roman numeral, convert it to an integer."
      ],
      "metadata": {
        "id": "z_KYbQno2Js7"
      }
    },
    {
      "cell_type": "code",
      "source": [
        "class Solution:\n",
        "    def romanToInt(self, s: str) -> int:\n",
        "        roman_map = {'I': 1, 'V': 5, 'X': 10, 'L': 50, 'C': 100, 'D': 500, 'M': 1000}\n",
        "        result = 0\n",
        "        i = 0\n",
        "        while i < len(s):\n",
        "            if i + 1 < len(s) and roman_map[s[i]] < roman_map[s[i + 1]]:\n",
        "                result += roman_map[s[i + 1]] - roman_map[s[i]]\n",
        "                i += 2\n",
        "            else:\n",
        "                result += roman_map[s[i]]\n",
        "                i += 1\n",
        "        return result"
      ],
      "metadata": {
        "id": "rcP8c4yx1_LT"
      },
      "execution_count": 32,
      "outputs": []
    },
    {
      "cell_type": "code",
      "source": [
        "Solution.romanToInt(1,\"MCMXCIV\")"
      ],
      "metadata": {
        "colab": {
          "base_uri": "https://localhost:8080/"
        },
        "id": "57bb-W4r1_D7",
        "outputId": "a27b373c-ed8c-4e6e-d8bd-14fd77ad3449"
      },
      "execution_count": 33,
      "outputs": [
        {
          "output_type": "execute_result",
          "data": {
            "text/plain": [
              "1994"
            ]
          },
          "metadata": {},
          "execution_count": 33
        }
      ]
    },
    {
      "cell_type": "markdown",
      "source": [
        "18. Seven different symbols represent Roman numerals with the following values:\n",
        "\n",
        "  Symbol\tValue\n",
        "  I\t1\n",
        "  V\t5\n",
        "  X\t10\n",
        "  L\t50\n",
        "  C\t100\n",
        "  D\t500\n",
        "  M\t1000\n",
        "  Roman numerals are formed by appending the conversions of decimal place values from highest to lowest. Converting a decimal place value into a Roman numeral has the following rules:\n",
        "\n",
        "  If the value does not start with 4 or 9, select the symbol of the maximal value that can be subtracted from the input, append that symbol to the result, subtract its value, and convert the remainder to a Roman numeral.\n",
        "  If the value starts with 4 or 9 use the subtractive form representing one symbol subtracted from the following symbol, for example, 4 is 1 (I) less than 5 (V): IV and 9 is 1 (I) less than 10 (X): IX. Only the following subtractive forms are used: 4 (IV), 9 (IX), 40 (XL), 90 (XC), 400 (CD) and 900 (CM).\n",
        "  Only powers of 10 (I, X, C, M) can be appended consecutively at most 3 times to represent multiples of 10. You cannot append 5 (V), 50 (L), or 500 (D) multiple times. If you need to append a symbol 4 times use the subtractive form.\n",
        "  Given an integer, convert it to a Roman numeral."
      ],
      "metadata": {
        "id": "OmPJYwGg3ZtU"
      }
    },
    {
      "cell_type": "code",
      "source": [
        "class Solution:\n",
        "    def intToRoman(self, num: int) -> str:\n",
        "        values = [1000, 900, 500, 400, 100, 90, 50, 40, 10, 9, 5, 4, 1]\n",
        "        symbols = [\"M\", \"CM\", \"D\", \"CD\", \"C\", \"XC\", \"L\", \"XL\", \"X\", \"IX\", \"V\", \"IV\", \"I\"]\n",
        "        roman = \"\"\n",
        "        for i in range(len(values)):\n",
        "            while num >= values[i]:\n",
        "                roman += symbols[i]\n",
        "                num -= values[i]\n",
        "        return roman"
      ],
      "metadata": {
        "id": "AnGiAHaw1_A6"
      },
      "execution_count": 34,
      "outputs": []
    },
    {
      "cell_type": "code",
      "source": [
        "Solution.intToRoman(1,58)"
      ],
      "metadata": {
        "colab": {
          "base_uri": "https://localhost:8080/",
          "height": 35
        },
        "id": "kPFQ2wsK1-7D",
        "outputId": "3c2300bd-5fdf-4970-95d7-a06e0937a04e"
      },
      "execution_count": 35,
      "outputs": [
        {
          "output_type": "execute_result",
          "data": {
            "text/plain": [
              "'LVIII'"
            ],
            "application/vnd.google.colaboratory.intrinsic+json": {
              "type": "string"
            }
          },
          "metadata": {},
          "execution_count": 35
        }
      ]
    },
    {
      "cell_type": "markdown",
      "source": [
        "19. Given a string s consisting of words and spaces, return the length of the last word in the string.\n",
        "\n",
        "  A word is a maximal\n",
        "  substring\n",
        "  consisting of non-space characters only."
      ],
      "metadata": {
        "id": "dqZpRVgcmi0M"
      }
    },
    {
      "cell_type": "code",
      "source": [
        "class Solution:\n",
        "    def lengthOfLastWord(self, s: str) -> int:\n",
        "        words = s.split()\n",
        "        if not words:\n",
        "            return 0\n",
        "        return len(words[-1])"
      ],
      "metadata": {
        "id": "8AdAl2rc1-4B"
      },
      "execution_count": 36,
      "outputs": []
    },
    {
      "cell_type": "code",
      "source": [
        "Solution.lengthOfLastWord(1,\"Hello World\")"
      ],
      "metadata": {
        "id": "as5TsGK81-1O",
        "colab": {
          "base_uri": "https://localhost:8080/"
        },
        "outputId": "1162ff46-4747-4954-fa36-1025eb148796"
      },
      "execution_count": 37,
      "outputs": [
        {
          "output_type": "execute_result",
          "data": {
            "text/plain": [
              "5"
            ]
          },
          "metadata": {},
          "execution_count": 37
        }
      ]
    },
    {
      "cell_type": "markdown",
      "source": [
        "20. Write a function to find the longest common prefix string amongst an array of strings.\n",
        "\n",
        "  If there is no common prefix, return an empty string \"\"."
      ],
      "metadata": {
        "id": "h44E16GknT5K"
      }
    },
    {
      "cell_type": "code",
      "source": [
        "class Solution:\n",
        "    def longestCommonPrefix(self, strs: List[str]) -> str:\n",
        "        if not strs:\n",
        "            return \"\"\n",
        "        prefix = strs[0]\n",
        "        for i in range(1, len(strs)):\n",
        "            while strs[i].find(prefix) != 0:\n",
        "                prefix = prefix[:-1]\n",
        "                if not prefix:\n",
        "                    return \"\"\n",
        "        return prefix"
      ],
      "metadata": {
        "id": "faRMCH1-1-yN"
      },
      "execution_count": 38,
      "outputs": []
    },
    {
      "cell_type": "code",
      "source": [
        "Solution.longestCommonPrefix(1,[\"flower\",\"flow\",\"flight\"])"
      ],
      "metadata": {
        "id": "DOSwkr1Y1-vd",
        "colab": {
          "base_uri": "https://localhost:8080/",
          "height": 35
        },
        "outputId": "83202f63-50a3-42f2-8847-6fa7f0ad47be"
      },
      "execution_count": 39,
      "outputs": [
        {
          "output_type": "execute_result",
          "data": {
            "text/plain": [
              "'fl'"
            ],
            "application/vnd.google.colaboratory.intrinsic+json": {
              "type": "string"
            }
          },
          "metadata": {},
          "execution_count": 39
        }
      ]
    },
    {
      "cell_type": "markdown",
      "source": [
        "21. Given an input string s, reverse the order of the words.\n",
        "\n",
        "  A word is defined as a sequence of non-space characters. The words in s will be separated by at least one space.\n",
        "\n",
        "  Return a string of the words in reverse order concatenated by a single space.\n",
        "\n",
        "  Note that s may contain leading or trailing spaces or multiple spaces between two words. The returned string should only have a single space separating the words. Do not include any extra spaces."
      ],
      "metadata": {
        "id": "NM97QSZ7u1zo"
      }
    },
    {
      "cell_type": "code",
      "source": [
        "class Solution:\n",
        "    def reverseWords(self, s: str) -> str:\n",
        "        words = s.split()\n",
        "        reversed_words = words[::-1]\n",
        "        return \" \".join(reversed_words)"
      ],
      "metadata": {
        "id": "Idc7hm7w1-sf"
      },
      "execution_count": 40,
      "outputs": []
    },
    {
      "cell_type": "code",
      "source": [
        "Solution.reverseWords(1,\"  hello world  \")"
      ],
      "metadata": {
        "id": "PUM0SDFJ1-pd",
        "colab": {
          "base_uri": "https://localhost:8080/",
          "height": 35
        },
        "outputId": "3eecbbe0-ea3e-4d3b-bd58-e613f8746432"
      },
      "execution_count": 41,
      "outputs": [
        {
          "output_type": "execute_result",
          "data": {
            "text/plain": [
              "'world hello'"
            ],
            "application/vnd.google.colaboratory.intrinsic+json": {
              "type": "string"
            }
          },
          "metadata": {},
          "execution_count": 41
        }
      ]
    },
    {
      "cell_type": "markdown",
      "source": [
        "22. The string \"PAYPALISHIRING\" is written in a zigzag pattern on a given number of rows like this: (you may want to display this pattern in a fixed font for better legibility)\n",
        "\n",
        "  P   A   H   N\n",
        "  A P L S I I G\n",
        "  Y   I   R\n",
        "  And then read line by line: \"PAHNAPLSIIGYIR\"\n",
        "\n",
        "  Write the code that will take a string and make this conversion given a number of rows:\n",
        "\n",
        "  string convert(string s, int numRows);"
      ],
      "metadata": {
        "id": "-VWFkkmpvwIM"
      }
    },
    {
      "cell_type": "code",
      "source": [
        "from typing import List\n",
        "class Solution:\n",
        "    def convert(self, s: str, numRows: int) -> str:\n",
        "        if numRows == 1:\n",
        "            return s\n",
        "        rows = [\"\"] * min(numRows, len(s))\n",
        "        current_row = 0\n",
        "        going_down = False\n",
        "        for char in s:\n",
        "            rows[current_row] += char\n",
        "            if current_row == 0 or current_row == numRows - 1:\n",
        "                going_down = not going_down\n",
        "            if going_down:\n",
        "                current_row += 1\n",
        "            else:\n",
        "                current_row -= 1\n",
        "        return \"\".join(rows)"
      ],
      "metadata": {
        "id": "003hFlKNvv0_"
      },
      "execution_count": 42,
      "outputs": []
    },
    {
      "cell_type": "code",
      "source": [
        "Solution.convert(1,\"PAYPALISHIRING\",3)"
      ],
      "metadata": {
        "colab": {
          "base_uri": "https://localhost:8080/",
          "height": 35
        },
        "id": "O1iyc7phvvyG",
        "outputId": "58330bc9-a127-4127-dff5-b3fc53c26ec6"
      },
      "execution_count": 43,
      "outputs": [
        {
          "output_type": "execute_result",
          "data": {
            "text/plain": [
              "'PAHNAPLSIIGYIR'"
            ],
            "application/vnd.google.colaboratory.intrinsic+json": {
              "type": "string"
            }
          },
          "metadata": {},
          "execution_count": 43
        }
      ]
    },
    {
      "cell_type": "markdown",
      "source": [
        "23. Given two strings needle and haystack, return the index of the first occurrence of needle in haystack, or -1 if needle is not part of haystack."
      ],
      "metadata": {
        "id": "gheKm33entVO"
      }
    },
    {
      "cell_type": "code",
      "source": [
        "class Solution:\n",
        "    def strStr(self, haystack: str, needle: str) -> int:\n",
        "        if not needle:\n",
        "            return 0\n",
        "        for i in range(len(haystack) - len(needle) + 1):\n",
        "            if haystack[i:i+len(needle)] == needle:\n",
        "                return i\n",
        "        return -1"
      ],
      "metadata": {
        "id": "voBpGZvMvvve"
      },
      "execution_count": 44,
      "outputs": []
    },
    {
      "cell_type": "code",
      "source": [
        "Solution.strStr(1,\"sadbutsad\",\"sad\")"
      ],
      "metadata": {
        "id": "9qm6Rs2Bvvsp",
        "colab": {
          "base_uri": "https://localhost:8080/"
        },
        "outputId": "33517838-1d85-4e53-b729-0c9af1130144"
      },
      "execution_count": 45,
      "outputs": [
        {
          "output_type": "execute_result",
          "data": {
            "text/plain": [
              "0"
            ]
          },
          "metadata": {},
          "execution_count": 45
        }
      ]
    },
    {
      "cell_type": "markdown",
      "source": [
        "24. Given an array of strings words and a width maxWidth, format the text such that each line has exactly maxWidth characters and is fully (left and right) justified.\n",
        "\n",
        "  You should pack your words in a greedy approach; that is, pack as many words as you can in each line. Pad extra spaces ' ' when necessary so that each line has exactly maxWidth characters.\n",
        "\n",
        "  Extra spaces between words should be distributed as evenly as possible. If the number of spaces on a line does not divide evenly between words, the empty slots on the left will be assigned more spaces than the slots on the right.\n",
        "\n",
        "  For the last line of text, it should be left-justified, and no extra space is inserted between words.\n",
        "\n",
        "  Note:\n",
        "\n",
        "  A word is defined as a character sequence consisting of non-space characters only.\n",
        "  Each word's length is guaranteed to be greater than 0 and not exceed maxWidth.\n",
        "  The input array words contains at least one word."
      ],
      "metadata": {
        "id": "RhDuQ8wjoXtc"
      }
    },
    {
      "cell_type": "code",
      "source": [
        "from typing import List\n",
        "class Solution:\n",
        "  def fullJustify(self, words: List[str], maxWidth: int) -> List[str]:\n",
        "    res, cur_len, cur_words = [], 0, []\n",
        "    for word in words:\n",
        "      if cur_len + len(word) + len(cur_words) > maxWidth:\n",
        "        for i in range(maxWidth - cur_len):\n",
        "          cur_words[i % (len(cur_words) - 1 or 1)] += ' '\n",
        "        res.append(\"\".join(cur_words))\n",
        "        cur_len, cur_words = 0, []\n",
        "      cur_len += len(word)\n",
        "      cur_words.append(word)\n",
        "\n",
        "    res.append(\" \".join(cur_words).ljust(maxWidth))\n",
        "    return res"
      ],
      "metadata": {
        "id": "eOTljunyvvqA"
      },
      "execution_count": 46,
      "outputs": []
    },
    {
      "cell_type": "code",
      "source": [
        "Solution.fullJustify(1,[\"This\", \"is\", \"an\", \"example\", \"of\", \"text\", \"justification.\"],16)"
      ],
      "metadata": {
        "colab": {
          "base_uri": "https://localhost:8080/"
        },
        "id": "J948vkjJot1-",
        "outputId": "0dfe835c-11a8-4b1d-fa19-31ee719537f9"
      },
      "execution_count": 47,
      "outputs": [
        {
          "output_type": "execute_result",
          "data": {
            "text/plain": [
              "['This    is    an', 'example  of text', 'justification.  ']"
            ]
          },
          "metadata": {},
          "execution_count": 47
        }
      ]
    },
    {
      "cell_type": "markdown",
      "source": [
        "25. A phrase is a palindrome if, after converting all uppercase letters into lowercase letters and removing all non-alphanumeric characters, it reads the same forward and backward. Alphanumeric characters include letters and numbers.\n",
        "\n",
        "  Given a string s, return true if it is a palindrome, or false otherwise."
      ],
      "metadata": {
        "id": "JSjbANDFHCLG"
      }
    },
    {
      "cell_type": "code",
      "source": [
        "class Solution:\n",
        "    def isPalindrome(self, s: str) -> bool:\n",
        "        s = ''.join(filter(str.isalnum, s)).lower()\n",
        "        return s == s[::-1]"
      ],
      "metadata": {
        "id": "nra_Cb-iotzL"
      },
      "execution_count": 48,
      "outputs": []
    },
    {
      "cell_type": "code",
      "source": [
        "Solution.isPalindrome(1,\"A man, a plan, a canal: Panama\")"
      ],
      "metadata": {
        "colab": {
          "base_uri": "https://localhost:8080/"
        },
        "id": "t1ewU1HZotwp",
        "outputId": "38af204c-609c-4404-c716-b0a6a831c4c6"
      },
      "execution_count": 49,
      "outputs": [
        {
          "output_type": "execute_result",
          "data": {
            "text/plain": [
              "True"
            ]
          },
          "metadata": {},
          "execution_count": 49
        }
      ]
    },
    {
      "cell_type": "markdown",
      "source": [
        "26. Given two strings s and t, return true if s is a subsequence of t, or false otherwise.\n",
        "\n",
        "  A subsequence of a string is a new string that is formed from the original string by deleting some (can be none) of the characters without disturbing the relative positions of the remaining characters. (i.e., \"ace\" is a subsequence of \"abcde\" while \"aec\" is not)."
      ],
      "metadata": {
        "id": "QeLgr634JbJR"
      }
    },
    {
      "cell_type": "code",
      "source": [
        "class Solution:\n",
        "    def isSubsequence(self, s: str, t: str) -> bool:\n",
        "        i, j = 0, 0\n",
        "        while i < len(s) and j < len(t):\n",
        "            if s[i] == t[j]:\n",
        "                i += 1\n",
        "            j += 1\n",
        "        return i == len(s)"
      ],
      "metadata": {
        "id": "ES5jZKttJa4M"
      },
      "execution_count": 50,
      "outputs": []
    },
    {
      "cell_type": "code",
      "source": [
        "Solution.isSubsequence(1,\"ab\",\"baab\")"
      ],
      "metadata": {
        "colab": {
          "base_uri": "https://localhost:8080/"
        },
        "id": "VOdtCc2XJa1W",
        "outputId": "02679a60-8216-4b30-cf35-a6cb6308c1df"
      },
      "execution_count": 51,
      "outputs": [
        {
          "output_type": "execute_result",
          "data": {
            "text/plain": [
              "True"
            ]
          },
          "metadata": {},
          "execution_count": 51
        }
      ]
    },
    {
      "cell_type": "markdown",
      "source": [
        "27. Given a 1-indexed array of integers numbers that is already sorted in non-decreasing order, find two numbers such that they add up to a specific target number. Let these two numbers be numbers[index1] and numbers[index2] where 1 <= index1 < index2 <= numbers.length.\n",
        "\n",
        "  Return the indices of the two numbers, index1 and index2, added by one as an integer array [index1, index2] of length 2.\n",
        "\n",
        "  The tests are generated such that there is exactly one solution. You may not use the same element twice.\n",
        "\n",
        "  Your solution must use only constant extra space."
      ],
      "metadata": {
        "id": "VMOEy3MqKi8u"
      }
    },
    {
      "cell_type": "code",
      "source": [
        "from typing import List\n",
        "class Solution:\n",
        "    def twoSum(self, numbers: List[int], target: int) -> List[int]:\n",
        "        left, right = 0, len(numbers) - 1\n",
        "        while left < right:\n",
        "            current_sum = numbers[left] + numbers[right]\n",
        "            if current_sum == target:\n",
        "                return [left + 1, right + 1]\n",
        "            elif current_sum < target:\n",
        "                left += 1\n",
        "            else:\n",
        "                right -= 1\n",
        "        return []\n"
      ],
      "metadata": {
        "id": "64KNjUgjJaMk"
      },
      "execution_count": 52,
      "outputs": []
    },
    {
      "cell_type": "code",
      "source": [
        "Solution.twoSum(1,[2,7,11,15],9)"
      ],
      "metadata": {
        "colab": {
          "base_uri": "https://localhost:8080/"
        },
        "id": "hA-TQ1WmK_GT",
        "outputId": "9aada9e3-cf2c-44ad-daa0-72701e590f90"
      },
      "execution_count": 53,
      "outputs": [
        {
          "output_type": "execute_result",
          "data": {
            "text/plain": [
              "[1, 2]"
            ]
          },
          "metadata": {},
          "execution_count": 53
        }
      ]
    },
    {
      "cell_type": "markdown",
      "source": [
        "28. You are given an integer array height of length n. There are n vertical lines drawn such that the two endpoints of the ith line are (i, 0) and (i, height[i]).\n",
        "\n",
        "  Find two lines that together with the x-axis form a container, such that the container contains the most water.\n",
        "\n",
        "  Return the maximum amount of water a container can store.\n",
        "\n",
        "  Notice that you may not slant the container."
      ],
      "metadata": {
        "id": "_3tPSH8DLy7r"
      }
    },
    {
      "cell_type": "code",
      "source": [
        "class Solution:\n",
        "    def maxArea(self, height: List[int]) -> int:\n",
        "        max_area = 0\n",
        "        left = 0\n",
        "        right = len(height) - 1\n",
        "        while left < right:\n",
        "            area = min(height[left], height[right]) * (right - left)\n",
        "            max_area = max(max_area, area)\n",
        "            if height[left]<height[right]:\n",
        "                left+=1\n",
        "            else:\n",
        "                right -= 1\n",
        "        return max_area"
      ],
      "metadata": {
        "id": "eJo6itaXK_DQ"
      },
      "execution_count": 54,
      "outputs": []
    },
    {
      "cell_type": "markdown",
      "source": [
        "29. Given an integer array nums, return all the triplets [nums[i], nums[j], nums[k]] such that i != j, i != k, and j != k, and nums[i] + nums[j] + nums[k] == 0.\n",
        "\n",
        "Notice that the solution set must not contain duplicate triplets."
      ],
      "metadata": {
        "id": "rzZFJ6iZZxvL"
      }
    },
    {
      "cell_type": "code",
      "source": [
        "from typing import List\n",
        "class Solution:\n",
        "    def threeSum(self, nums: List[int]) -> List[List[int]]:\n",
        "        n = len(nums)\n",
        "        result = []\n",
        "        nums.sort()\n",
        "        for i in range(n - 2):\n",
        "            if i > 0 and nums[i] == nums[i - 1]:\n",
        "                continue\n",
        "            left = i + 1\n",
        "            right = n - 1\n",
        "            while left < right:\n",
        "                total = nums[i] + nums[left] + nums[right]\n",
        "                if total == 0:\n",
        "                    result.append([nums[i], nums[left], nums[right]])\n",
        "                    while left < right and nums[left] == nums[left + 1]:\n",
        "                        left += 1\n",
        "                    while left < right and nums[right] == nums[right - 1]:\n",
        "                        right -= 1\n",
        "                    left += 1\n",
        "                    right -= 1\n",
        "                elif total < 0:\n",
        "                    left += 1\n",
        "                else:\n",
        "                    right -= 1\n",
        "        return result"
      ],
      "metadata": {
        "id": "fJM4SPQ-ZxaN"
      },
      "execution_count": 55,
      "outputs": []
    },
    {
      "cell_type": "code",
      "source": [
        "Solution.threeSum(1,[-1,0,1,2,-1,-4])"
      ],
      "metadata": {
        "id": "iygWihP2K-9G",
        "colab": {
          "base_uri": "https://localhost:8080/"
        },
        "outputId": "be106087-202f-4d19-ec89-2502c5e3c8aa"
      },
      "execution_count": 56,
      "outputs": [
        {
          "output_type": "execute_result",
          "data": {
            "text/plain": [
              "[[-1, -1, 2], [-1, 0, 1]]"
            ]
          },
          "metadata": {},
          "execution_count": 56
        }
      ]
    },
    {
      "cell_type": "markdown",
      "source": [
        "30. Given an array of positive integers nums and a positive integer target, return the minimal length of a\n",
        "subarray\n",
        " whose sum is greater than or equal to target. If there is no such subarray, return 0 instead."
      ],
      "metadata": {
        "id": "lIxZ1jFwaZDw"
      }
    },
    {
      "cell_type": "code",
      "source": [
        "class Solution:\n",
        "    def minSubArrayLen(self, target: int, nums: List[int]) -> int:\n",
        "        min_length = float('inf')\n",
        "        current_sum = 0\n",
        "        left = 0\n",
        "        for right in range(len(nums)):\n",
        "            current_sum += nums[right]\n",
        "            while current_sum >= target:\n",
        "                min_length = min(min_length, right - left + 1)\n",
        "                current_sum -= nums[left]\n",
        "                left += 1\n",
        "        return 0 if min_length == float('inf') else min_length"
      ],
      "metadata": {
        "id": "fcmM9ghAaYx0"
      },
      "execution_count": 57,
      "outputs": []
    },
    {
      "cell_type": "code",
      "source": [
        "Solution.minSubArrayLen(1,7,[2,3,1,2,4,3])"
      ],
      "metadata": {
        "id": "hQs6jVswK-6W",
        "colab": {
          "base_uri": "https://localhost:8080/"
        },
        "outputId": "0aacce63-75ee-46cd-c906-e76e51e9d889"
      },
      "execution_count": 58,
      "outputs": [
        {
          "output_type": "execute_result",
          "data": {
            "text/plain": [
              "2"
            ]
          },
          "metadata": {},
          "execution_count": 58
        }
      ]
    },
    {
      "cell_type": "markdown",
      "source": [
        "31. Given a string s, find the length of the longest\n",
        "substring\n",
        " without repeating characters."
      ],
      "metadata": {
        "id": "KNza3KS3t2pJ"
      }
    },
    {
      "cell_type": "code",
      "source": [
        "class Solution:\n",
        "    def lengthOfLongestSubstring(self, s: str) -> int:\n",
        "        n = len(s)\n",
        "        longest = 0\n",
        "        left = 0\n",
        "        seen = set()\n",
        "        for right in range(n):\n",
        "            while s[right] in seen:\n",
        "                seen.remove(s[left])\n",
        "                left += 1\n",
        "            seen.add(s[right])\n",
        "            longest = max(longest, right - left + 1)\n",
        "        return longest\n"
      ],
      "metadata": {
        "id": "kFlaBhMWMDRZ"
      },
      "execution_count": 59,
      "outputs": []
    },
    {
      "cell_type": "code",
      "source": [
        "Solution.lengthOfLongestSubstring(1,\"abcabcbb\")"
      ],
      "metadata": {
        "id": "L4gSn50uMDOV",
        "colab": {
          "base_uri": "https://localhost:8080/"
        },
        "outputId": "64f1f88b-d480-4c28-9c60-5632e778f125"
      },
      "execution_count": 60,
      "outputs": [
        {
          "output_type": "execute_result",
          "data": {
            "text/plain": [
              "3"
            ]
          },
          "metadata": {},
          "execution_count": 60
        }
      ]
    },
    {
      "cell_type": "markdown",
      "source": [
        "32. You are given a string s and an array of strings words. All the strings of words are of the same length.\n",
        "\n",
        "  A concatenated string is a string that exactly contains all the strings of any permutation of words concatenated.\n",
        "\n",
        "  For example, if words = [\"ab\",\"cd\",\"ef\"], then \"abcdef\", \"abefcd\", \"cdabef\", \"cdefab\", \"efabcd\", and \"efcdab\" are all concatenated strings. \"acdbef\" is not a concatenated string because it is not the concatenation of any permutation of words.\n",
        "  Return an array of the starting indices of all the concatenated substrings in s. You can return the answer in any order."
      ],
      "metadata": {
        "id": "vASLx1PBupSx"
      }
    },
    {
      "cell_type": "code",
      "source": [
        "from typing import List\n",
        "\n",
        "\n",
        "class Solution:\n",
        "    def findSubstring(self, s: str, words: List[str]) -> List[int]:\n",
        "        if not words:\n",
        "            return []\n",
        "        word_length = len(words[0])\n",
        "        word_count = len(words)\n",
        "        total_length = word_length * word_count\n",
        "        word_freq = {}\n",
        "        for word in words:\n",
        "            word_freq[word] = word_freq.get(word, 0) + 1\n",
        "\n",
        "        result = []\n",
        "        for i in range(len(s) - total_length + 1):\n",
        "            substring = s[i:i + total_length]\n",
        "            current_freq = {}\n",
        "            for j in range(0, total_length, word_length):\n",
        "                word = substring[j:j + word_length]\n",
        "                current_freq[word] = current_freq.get(word, 0) + 1\n",
        "\n",
        "            if current_freq == word_freq:\n",
        "                result.append(i)\n",
        "\n",
        "        return result"
      ],
      "metadata": {
        "id": "-4eD5_2BupBQ"
      },
      "execution_count": 61,
      "outputs": []
    },
    {
      "cell_type": "code",
      "source": [
        "Solution.findSubstring(1,\"barfoothefoobarman\",[\"foo\",\"bar\"])"
      ],
      "metadata": {
        "id": "XH3yacxYMDIO",
        "colab": {
          "base_uri": "https://localhost:8080/"
        },
        "outputId": "9d573a68-aa5d-43e7-b090-61210cd17e94"
      },
      "execution_count": 62,
      "outputs": [
        {
          "output_type": "execute_result",
          "data": {
            "text/plain": [
              "[0, 9]"
            ]
          },
          "metadata": {},
          "execution_count": 62
        }
      ]
    },
    {
      "cell_type": "markdown",
      "source": [
        "33. Given two strings s and t of lengths m and n respectively, return the minimum window\n",
        "substring\n",
        " of s such that every character in t (including duplicates) is included in the window. If there is no such substring, return the empty string \"\".\n",
        "\n",
        "  The testcases will be generated such that the answer is unique."
      ],
      "metadata": {
        "id": "zCWm4Eapd4S8"
      }
    },
    {
      "cell_type": "code",
      "source": [
        "from typing import List\n",
        "class Solution:\n",
        "    def minWindow(self, s: str, t: str) -> str:\n",
        "        if not t or not s:\n",
        "            return \"\"\n",
        "        t_freq = {}\n",
        "        for char in t:\n",
        "            t_freq[char] = t_freq.get(char, 0) + 1\n",
        "        required = len(t_freq)\n",
        "        left = 0\n",
        "        formed = 0\n",
        "        window_freq = {}\n",
        "        result = float('inf'), None, None\n",
        "        for right in range(len(s)):\n",
        "            char = s[right]\n",
        "            window_freq[char] = window_freq.get(char, 0) + 1\n",
        "            if char in t_freq and window_freq[char] == t_freq[char]:\n",
        "                formed += 1\n",
        "            while left <= right and formed == required:\n",
        "                char = s[left]\n",
        "                if right - left + 1 < result[0]:\n",
        "                    result = (right - left + 1, left, right)\n",
        "                window_freq[char] -= 1\n",
        "                if char in t_freq and window_freq[char] < t_freq[char]:\n",
        "                    formed -= 1\n",
        "                left += 1\n",
        "        return \"\" if result[0] == float('inf') else s[result[1]:result[2] + 1]"
      ],
      "metadata": {
        "id": "868TtSLcMDFF"
      },
      "execution_count": 63,
      "outputs": []
    },
    {
      "cell_type": "code",
      "source": [
        "Solution.minWindow(1,\"ADOBECODEBANC\",\"ABC\")"
      ],
      "metadata": {
        "colab": {
          "base_uri": "https://localhost:8080/",
          "height": 35
        },
        "id": "fOKhj2TbdtCV",
        "outputId": "7a495889-d3fc-4ae0-a09c-99886779f1c1"
      },
      "execution_count": 64,
      "outputs": [
        {
          "output_type": "execute_result",
          "data": {
            "text/plain": [
              "'BANC'"
            ],
            "application/vnd.google.colaboratory.intrinsic+json": {
              "type": "string"
            }
          },
          "metadata": {},
          "execution_count": 64
        }
      ]
    },
    {
      "cell_type": "markdown",
      "source": [
        "34. Determine if a 9 x 9 Sudoku board is valid. Only the filled cells need to be validated according to the following rules:\n",
        "\n",
        "  Each row must contain the digits 1-9 without repetition.\n",
        "  Each column must contain the digits 1-9 without repetition.\n",
        "  Each of the nine 3 x 3 sub-boxes of the grid must contain the digits 1-9 without repetition.\n",
        "  Note:\n",
        "\n",
        "  A Sudoku board (partially filled) could be valid but is not necessarily solvable.\n",
        "  Only the filled cells need to be validated according to the mentioned rules."
      ],
      "metadata": {
        "id": "QLMcRftYgac_"
      }
    },
    {
      "cell_type": "code",
      "source": [
        "class Solution:\n",
        "    def isValidSudoku(self, board: List[List[str]]) -> bool:\n",
        "        # Check rows\n",
        "        for row in board:\n",
        "            row_values = [x for x in row if x != '.']\n",
        "            if len(row_values) != len(set(row_values)):\n",
        "                return False\n",
        "\n",
        "        # Check columns\n",
        "        for i in range(9):\n",
        "            col_values = [board[j][i] for j in range(9) if board[j][i] != '.']\n",
        "            if len(col_values) != len(set(col_values)):\n",
        "                return False\n",
        "\n",
        "        # Check 3x3 sub-boxes\n",
        "        for i in range(0, 9, 3):\n",
        "            for j in range(0, 9, 3):\n",
        "                sub_box = [board[x][y] for x in range(i, i+3) for y in range(j, j+3) if board[x][y] !=                              '.']\n",
        "                if len(sub_box) != len(set(sub_box)):\n",
        "                    return False\n",
        "\n",
        "        return True"
      ],
      "metadata": {
        "id": "lr2fmjkTgaRs"
      },
      "execution_count": 65,
      "outputs": []
    },
    {
      "cell_type": "markdown",
      "source": [
        "35. Given an m x n matrix, return all elements of the matrix in spiral order."
      ],
      "metadata": {
        "id": "PxKK_U4xxssc"
      }
    },
    {
      "cell_type": "code",
      "source": [
        "class Solution:\n",
        "    def spiralOrder(self, matrix: List[List[int]]) -> List[int]:\n",
        "        result = []\n",
        "        if not matrix:\n",
        "            return result\n",
        "\n",
        "        top, bottom = 0, len(matrix) - 1\n",
        "        left, right = 0, len(matrix[0]) - 1\n",
        "\n",
        "        while top <= bottom and left <= right:\n",
        "            # Traverse from left to right along the top row\n",
        "            for i in range(left, right + 1):\n",
        "                result.append(matrix[top][i])\n",
        "            top += 1\n",
        "\n",
        "            # Traverse from top to bottom along the right column\n",
        "            for i in range(top, bottom + 1):\n",
        "                result.append(matrix[i][right])\n",
        "            right -= 1\n",
        "\n",
        "            if top <= bottom:\n",
        "                # Traverse from right to left along the bottom row\n",
        "                for i in range(right, left - 1, -1):\n",
        "                    result.append(matrix[bottom][i])\n",
        "                bottom -= 1\n",
        "\n",
        "            if left <= right:\n",
        "                # Traverse from bottom to top along the left column\n",
        "                for i in range(bottom, top - 1, -1):\n",
        "                    result.append(matrix[i][left])\n",
        "                left += 1\n",
        "\n",
        "        return result\n"
      ],
      "metadata": {
        "id": "MVmWBU7EgaPJ"
      },
      "execution_count": 66,
      "outputs": []
    },
    {
      "cell_type": "code",
      "source": [
        "Solution.spiralOrder(1,[[1,2,3],[4,5,6],[7,8,9]])"
      ],
      "metadata": {
        "colab": {
          "base_uri": "https://localhost:8080/"
        },
        "id": "B_bRVR-nds8G",
        "outputId": "56bc0ff3-bb6b-438b-f240-ca7c3c4f1fa8"
      },
      "execution_count": 67,
      "outputs": [
        {
          "output_type": "execute_result",
          "data": {
            "text/plain": [
              "[1, 2, 3, 6, 9, 8, 7, 4, 5]"
            ]
          },
          "metadata": {},
          "execution_count": 67
        }
      ]
    },
    {
      "cell_type": "markdown",
      "source": [
        "36. You are given an n x n 2D matrix representing an image, rotate the image by 90 degrees (clockwise).\n",
        "\n",
        "  You have to rotate the image in-place, which means you have to modify the input 2D matrix directly. DO NOT allocate another 2D matrix and do the rotation.\n",
        "\n",
        "\n"
      ],
      "metadata": {
        "id": "iJbTsla9y24f"
      }
    },
    {
      "cell_type": "code",
      "source": [
        "class Solution:\n",
        "    def rotate(self, matrix: List[List[int]]) -> None:\n",
        "        n = len(matrix)\n",
        "        for i in range(n // 2):\n",
        "            for j in range(i, n - i - 1):\n",
        "                temp = matrix[i][j]\n",
        "                matrix[i][j] = matrix[n - 1 - j][i]\n",
        "                matrix[n - 1 - j][i] = matrix[n - 1 - i][n - 1 - j]\n",
        "                matrix[n - 1 - i][n - 1 - j] = matrix[j][n - 1 - i]\n",
        "                matrix[j][n - 1 - i] = temp\n"
      ],
      "metadata": {
        "id": "rLIW3Ol3ds5A"
      },
      "execution_count": 68,
      "outputs": []
    },
    {
      "cell_type": "markdown",
      "source": [
        "37. Given an m x n integer matrix matrix, if an element is 0, set its entire row and column to 0's.\n",
        "\n",
        "  You must do it in place."
      ],
      "metadata": {
        "id": "YZIEfmYloc4P"
      }
    },
    {
      "cell_type": "code",
      "source": [
        "from typing import List\n",
        "class Solution:\n",
        "    def setZeroes(self, matrix: List[List[int]]) -> None:\n",
        "        rows, cols = len(matrix), len(matrix[0])\n",
        "        row_zero = False\n",
        "        col_zero = False\n",
        "        for i in range(rows):\n",
        "            if matrix[i][0] == 0:\n",
        "                col_zero = True\n",
        "                break\n",
        "        for j in range(cols):\n",
        "            if matrix[0][j] == 0:\n",
        "                row_zero = True\n",
        "                break\n",
        "        for i in range(1, rows):\n",
        "            for j in range(1, cols):\n",
        "                if matrix[i][j] == 0:\n",
        "                    matrix[i][0] = 0\n",
        "                    matrix[0][j] = 0\n",
        "        for i in range(1, rows):\n",
        "            for j in range(1, cols):\n",
        "                if matrix[i][0] == 0 or matrix[0][j] == 0:\n",
        "                    matrix[i][j] = 0\n",
        "        if row_zero:\n",
        "            for j in range(cols):\n",
        "                matrix[0][j] = 0\n",
        "        if col_zero:\n",
        "            for i in range(rows):\n",
        "                matrix[i][0] = 0"
      ],
      "metadata": {
        "id": "XKhIWlQpocqk"
      },
      "execution_count": 69,
      "outputs": []
    },
    {
      "cell_type": "markdown",
      "source": [
        "38. According to Wikipedia's article: \"The Game of Life, also known simply as Life, is a cellular automaton devised by the British mathematician John Horton Conway in 1970.\"\n",
        "\n",
        "  The board is made up of an m x n grid of cells, where each cell has an initial state: live (represented by a 1) or dead (represented by a 0). Each cell interacts with its eight neighbors (horizontal, vertical, diagonal) using the following four rules (taken from the above Wikipedia article):\n",
        "\n",
        "  Any live cell with fewer than two live neighbors dies as if caused by under-population.\n",
        "  Any live cell with two or three live neighbors lives on to the next generation.\n",
        "  Any live cell with more than three live neighbors dies, as if by over-population.\n",
        "  Any dead cell with exactly three live neighbors becomes a live cell, as if by reproduction.\n",
        "  The next state is created by applying the above rules simultaneously to every cell in the current state, where births and deaths occur simultaneously. Given the current state of the m x n grid board, return the next state."
      ],
      "metadata": {
        "id": "YQD5fyN_pAPf"
      }
    },
    {
      "cell_type": "code",
      "source": [
        "class Solution:\n",
        "    def gameOfLife(self, board: List[List[int]]) -> None:\n",
        "        \"\"\"\n",
        "        Do not return anything, modify board in-place instead.\n",
        "        \"\"\"\n",
        "        directions = [(1,0),(1,-1),(0,-1),(-1,-1),(-1,0),(-1,1),(0,1),(1,1)]\n",
        "        for i in range(len(board)):\n",
        "            for j in range(len(board[0])):\n",
        "                live=0\n",
        "                for x,y in directions:\n",
        "                    if (i+x<len(board) and i+x>=0) and (j+y<len(board[0]) and j+y>=0) and abs(board[i+x][j+y])==1:\n",
        "                        live+=1\n",
        "                if board[i][j]==1 and (live<2 or live>3):\n",
        "                    board[i][j]=-1\n",
        "                if board[i][j]==0 and live==3:\n",
        "                    board[i][j]=2\n",
        "        for i in range(len(board)):\n",
        "            for j in range(len(board[0])):\n",
        "                board[i][j]=1 if(board[i][j]>0) else 0\n",
        "        return board"
      ],
      "metadata": {
        "id": "l86g40EdoclN"
      },
      "execution_count": 70,
      "outputs": []
    },
    {
      "cell_type": "code",
      "source": [
        "Solution.gameOfLife(1,[[0,1,0],[0,0,1],[1,1,1],[0,0,0]])"
      ],
      "metadata": {
        "colab": {
          "base_uri": "https://localhost:8080/"
        },
        "id": "MHahl3WHocjO",
        "outputId": "ba825eea-39b3-49b7-9e8a-624e2ab45805"
      },
      "execution_count": 71,
      "outputs": [
        {
          "output_type": "execute_result",
          "data": {
            "text/plain": [
              "[[0, 0, 0], [1, 0, 1], [0, 1, 1], [0, 1, 0]]"
            ]
          },
          "metadata": {},
          "execution_count": 71
        }
      ]
    },
    {
      "cell_type": "markdown",
      "source": [
        "39. Given two strings ransomNote and magazine, return true if ransomNote can be constructed by using the letters from magazine and false otherwise.\n",
        "\n",
        "  Each letter in magazine can only be used once in ransomNote."
      ],
      "metadata": {
        "id": "dQK26JiVqv6L"
      }
    },
    {
      "cell_type": "code",
      "source": [
        "from typing import List\n",
        "class Solution:\n",
        "    def canConstruct(self, ransomNote: str, magazine: str) -> bool:\n",
        "        magazine_counts = {}\n",
        "        for char in magazine:\n",
        "            magazine_counts[char] = magazine_counts.get(char, 0) + 1\n",
        "\n",
        "        for char in ransomNote:\n",
        "            if char not in magazine_counts or magazine_counts[char] == 0:\n",
        "                return False\n",
        "            magazine_counts[char] -= 1\n",
        "\n",
        "        return True"
      ],
      "metadata": {
        "id": "WSD_THDEqvmM"
      },
      "execution_count": 72,
      "outputs": []
    },
    {
      "cell_type": "code",
      "source": [
        "Solution.canConstruct(1,\"a\",\"b\")"
      ],
      "metadata": {
        "id": "ysYhv3ZqocdR",
        "colab": {
          "base_uri": "https://localhost:8080/"
        },
        "outputId": "e574fa59-dc1c-4099-f9b4-0889475cb30f"
      },
      "execution_count": 73,
      "outputs": [
        {
          "output_type": "execute_result",
          "data": {
            "text/plain": [
              "False"
            ]
          },
          "metadata": {},
          "execution_count": 73
        }
      ]
    },
    {
      "cell_type": "markdown",
      "source": [
        "40. Given two strings s and t, determine if they are isomorphic.\n",
        "\n",
        "  Two strings s and t are isomorphic if the characters in s can be replaced to get t.\n",
        "\n",
        "  All occurrences of a character must be replaced with another character while preserving the order of characters. No two characters may map to the same character, but a character may map to itself."
      ],
      "metadata": {
        "id": "-BfG55IerI-y"
      }
    },
    {
      "cell_type": "code",
      "source": [
        "class Solution:\n",
        "    def isIsomorphic(self, s: str, t: str) -> bool:\n",
        "        if len(s) != len(t):\n",
        "            return False\n",
        "        s_to_t = {}\n",
        "        t_to_s = {}\n",
        "        for i in range(len(s)):\n",
        "          if s[i] not in s_to_t:\n",
        "            s_to_t[s[i]] = t[i]\n",
        "          if t[i] not in t_to_s:\n",
        "            t_to_s[t[i]] = s[i]\n",
        "          if s_to_t[s[i]] != t[i] or t_to_s[t[i]] != s[i]:\n",
        "            return False\n",
        "        return True"
      ],
      "metadata": {
        "id": "I5VcPwwxocak"
      },
      "execution_count": 74,
      "outputs": []
    },
    {
      "cell_type": "code",
      "source": [
        "Solution.isIsomorphic(1,\"egg\",\"add\")"
      ],
      "metadata": {
        "id": "RAlVo_RFocX2",
        "colab": {
          "base_uri": "https://localhost:8080/"
        },
        "outputId": "ec82bee4-625a-44d3-97c1-48475f37e25b"
      },
      "execution_count": 75,
      "outputs": [
        {
          "output_type": "execute_result",
          "data": {
            "text/plain": [
              "True"
            ]
          },
          "metadata": {},
          "execution_count": 75
        }
      ]
    },
    {
      "cell_type": "markdown",
      "source": [
        "41. Given a pattern and a string s, find if s follows the same pattern.\n",
        "\n",
        "  Here follow means a full match, such that there is a bijection between a letter in pattern and a non-empty word in s. Specifically:\n",
        "\n",
        "  Each letter in pattern maps to exactly one unique word in s.\n",
        "  Each unique word in s maps to exactly one letter in pattern.\n",
        "  No two letters map to the same word, and no two words map to the same letter."
      ],
      "metadata": {
        "id": "0pRvgwRr3-OJ"
      }
    },
    {
      "cell_type": "code",
      "source": [
        "from typing import List\n",
        "class Solution:\n",
        "    def wordPattern(self, pattern: str, s: str) -> bool:\n",
        "        words = s.split()\n",
        "        if len(pattern) != len(words):\n",
        "            return False\n",
        "        char_to_word = {}\n",
        "        word_to_char = {}\n",
        "        for i in range(len(pattern)):\n",
        "            char = pattern[i]\n",
        "            word = words[i]\n",
        "            if char not in char_to_word:\n",
        "                char_to_word[char] = word\n",
        "            if word not in word_to_char:\n",
        "                word_to_char[word] = char\n",
        "            if char_to_word[char] != word or word_to_char[word] != char:\n",
        "                return False\n",
        "        return True"
      ],
      "metadata": {
        "id": "uwMXKVHg394v"
      },
      "execution_count": 76,
      "outputs": []
    },
    {
      "cell_type": "code",
      "source": [
        "Solution.wordPattern(1,\"abba\",\"dog cat cat dog\")"
      ],
      "metadata": {
        "colab": {
          "base_uri": "https://localhost:8080/"
        },
        "id": "2eDonJsj39zN",
        "outputId": "a4ff4b2d-1763-4de9-bcc8-1b324412b688"
      },
      "execution_count": 77,
      "outputs": [
        {
          "output_type": "execute_result",
          "data": {
            "text/plain": [
              "True"
            ]
          },
          "metadata": {},
          "execution_count": 77
        }
      ]
    },
    {
      "cell_type": "markdown",
      "source": [
        "42. Given two strings s and t, return true if t is an\n",
        "anagram\n",
        " of s, and false otherwise."
      ],
      "metadata": {
        "id": "cSmheRJw4uNy"
      }
    },
    {
      "cell_type": "code",
      "source": [
        "class Solution:\n",
        "  def isAnagram(self, s: str, t: str) -> bool:\n",
        "        if len(s) != len(t):\n",
        "            return False\n",
        "        s_count = {}\n",
        "        t_count = {}\n",
        "        for char in s:\n",
        "            s_count[char] = s_count.get(char, 0) + 1\n",
        "        for char in t:\n",
        "            t_count[char] = t_count.get(char, 0) + 1\n",
        "        return s_count == t_count\n"
      ],
      "metadata": {
        "id": "E8qwHbkq39wx"
      },
      "execution_count": 78,
      "outputs": []
    },
    {
      "cell_type": "code",
      "source": [
        "Solution.isAnagram(1,\"anagram\",\"nagaram\")"
      ],
      "metadata": {
        "colab": {
          "base_uri": "https://localhost:8080/"
        },
        "id": "56zi6uWZ4a9E",
        "outputId": "6e7447bc-bbb2-4b05-91e5-d8b06eee6ef5"
      },
      "execution_count": 79,
      "outputs": [
        {
          "output_type": "execute_result",
          "data": {
            "text/plain": [
              "True"
            ]
          },
          "metadata": {},
          "execution_count": 79
        }
      ]
    },
    {
      "cell_type": "markdown",
      "source": [
        "43. Given an array of strings strs, group the\n",
        "anagrams\n",
        " together. You can return the answer in any order."
      ],
      "metadata": {
        "id": "A2FOIxwKsDDZ"
      }
    },
    {
      "cell_type": "code",
      "source": [
        "class Solution:\n",
        "    def groupAnagrams(self, strs: List[str]) -> List[List[str]]:\n",
        "        d = {}\n",
        "        for word in strs:\n",
        "          sorted_word = ''.join(sorted(word))\n",
        "          if sorted_word not in d:\n",
        "            d[sorted_word]= [word]\n",
        "          else:\n",
        "            d[sorted_word].append(word)\n",
        "        return d.values()\n"
      ],
      "metadata": {
        "id": "7zl9izKC4a6M"
      },
      "execution_count": 80,
      "outputs": []
    },
    {
      "cell_type": "markdown",
      "source": [
        "44. Given an array of integers nums and an integer target, return indices of the two numbers such that they add up to target.\n",
        "\n",
        "  You may assume that each input would have exactly one solution, and you may not use the same element twice.\n",
        "\n",
        "  You can return the answer in any order."
      ],
      "metadata": {
        "id": "eI5RHDYzsXXg"
      }
    },
    {
      "cell_type": "code",
      "source": [
        "class Solution:\n",
        "    def twoSum(self, nums: List[int], target: int) -> List[int]:\n",
        "        d = {}\n",
        "        for i, j in enumerate(nums):\n",
        "            r = target - j\n",
        "            if r in d: return [d[r], i]\n",
        "            d[j] = i\n",
        "\n"
      ],
      "metadata": {
        "id": "wmaQMO9z4a3V"
      },
      "execution_count": 81,
      "outputs": []
    },
    {
      "cell_type": "markdown",
      "source": [
        "45. Write an algorithm to determine if a number n is happy.\n",
        "\n",
        "  A happy number is a number defined by the following process:\n",
        "\n",
        "  Starting with any positive integer, replace the number by the sum of the squares of its digits.\n",
        "  Repeat the process until the number equals 1 (where it will stay), or it loops endlessly in a cycle which does not include 1.\n",
        "  Those numbers for which this process ends in 1 are happy.\n",
        "  Return true if n is a happy number, and false if not."
      ],
      "metadata": {
        "id": "t7uugdoWffuR"
      }
    },
    {
      "cell_type": "code",
      "source": [
        "class Solution:\n",
        "    def isHappy(self, n: int) -> bool:\n",
        "        seen = set()\n",
        "        while n != 1 and n not in seen:\n",
        "            seen.add(n)\n",
        "            n = sum(int(i) ** 2 for i in str(n))\n",
        "        return n == 1"
      ],
      "metadata": {
        "id": "19mYUeeS4a0Z"
      },
      "execution_count": 82,
      "outputs": []
    },
    {
      "cell_type": "markdown",
      "source": [
        "46. Given an integer array nums and an integer k, return true if there are two distinct indices i and j in the array such that nums[i] == nums[j] and abs(i - j) <= k."
      ],
      "metadata": {
        "id": "clZzkl0RfuOI"
      }
    },
    {
      "cell_type": "code",
      "source": [
        "class Solution:\n",
        "    def containsNearbyDuplicate(self, nums: List[int], k: int) -> bool:\n",
        "        seen = set()\n",
        "        for i, num in enumerate(nums):\n",
        "            if num in seen:\n",
        "                return True\n",
        "            seen.add(num)\n",
        "            if i >= k:\n",
        "                seen.remove(nums[i - k])\n",
        "        return False\n"
      ],
      "metadata": {
        "id": "NZH2l_L84axY"
      },
      "execution_count": 83,
      "outputs": []
    },
    {
      "cell_type": "markdown",
      "source": [
        "47. Given an unsorted array of integers nums, return the length of the longest consecutive elements sequence.\n",
        "\n",
        "  You must write an algorithm that runs in O(n) time."
      ],
      "metadata": {
        "id": "4Jo_R7QCjpx-"
      }
    },
    {
      "cell_type": "code",
      "source": [
        "class Solution:\n",
        "    def longestConsecutive(self, nums: List[int]) -> int:\n",
        "        nums = set(nums)\n",
        "        longest = 0\n",
        "        for num in nums:\n",
        "            if num - 1 not in nums:\n",
        "                current = num\n",
        "                current_longest = 1\n",
        "                while current + 1 in nums:\n",
        "                    current += 1\n",
        "                    current_longest += 1\n",
        "                longest = max(longest, current_longest)\n",
        "\n",
        "        return longest"
      ],
      "metadata": {
        "id": "wj6nYlHE4auq"
      },
      "execution_count": 84,
      "outputs": []
    },
    {
      "cell_type": "code",
      "source": [
        "Solution.longestConsecutive(1,[100,4,200,1,3,2])"
      ],
      "metadata": {
        "colab": {
          "base_uri": "https://localhost:8080/"
        },
        "id": "3B8Jt6_CjqdO",
        "outputId": "98b4b1cb-5414-4a4e-fce3-78753772e8a3"
      },
      "execution_count": 85,
      "outputs": [
        {
          "output_type": "execute_result",
          "data": {
            "text/plain": [
              "4"
            ]
          },
          "metadata": {},
          "execution_count": 85
        }
      ]
    },
    {
      "cell_type": "markdown",
      "source": [
        "48. You are given a sorted unique integer array nums.\n",
        "\n",
        "  A range [a,b] is the set of all integers from a to b (inclusive).\n",
        "\n",
        "  Return the smallest sorted list of ranges that cover all the numbers in the array exactly. That is, each element of nums is covered by exactly one of the ranges, and there is no integer x such that x is in one of the ranges but not in nums.\n",
        "\n",
        "  Each range [a,b] in the list should be output as:\n",
        "\n",
        "  \"a->b\" if a != b\n",
        "  \"a\" if a == b"
      ],
      "metadata": {
        "id": "McX7g1itkX2b"
      }
    },
    {
      "cell_type": "code",
      "source": [
        "from typing import List\n",
        "class Solution:\n",
        "    def summaryRanges(self, nums: List[int]) -> List[str]:\n",
        "        if not nums:\n",
        "            return []\n",
        "        result = []\n",
        "        start = nums[0]\n",
        "        for i in range(1, len(nums)):\n",
        "            if nums[i] == nums[i - 1] + 1:\n",
        "                continue\n",
        "            else:\n",
        "                if start == nums[i - 1]:\n",
        "                    result.append(str(start))\n",
        "                else:\n",
        "                    result.append(str(start) + \"->\" + str(nums[i - 1]))\n",
        "                start = nums[i]\n",
        "        if start == nums[-1]:\n",
        "            result.append(str(start))\n",
        "        else:\n",
        "            result.append(str(start) + \"->\" + str(nums[-1]))\n",
        "        return result"
      ],
      "metadata": {
        "id": "438ZyJZYjrU_"
      },
      "execution_count": 86,
      "outputs": []
    },
    {
      "cell_type": "code",
      "source": [
        "Solution.summaryRanges(1,[0,1,2,4,5,7])"
      ],
      "metadata": {
        "colab": {
          "base_uri": "https://localhost:8080/"
        },
        "id": "RF6X5gx5jrPN",
        "outputId": "edd7d264-fd97-4f1d-8b0b-6290c9f07cd7"
      },
      "execution_count": 87,
      "outputs": [
        {
          "output_type": "execute_result",
          "data": {
            "text/plain": [
              "['0->2', '4->5', '7']"
            ]
          },
          "metadata": {},
          "execution_count": 87
        }
      ]
    },
    {
      "cell_type": "markdown",
      "source": [
        "49. Given an array of intervals where intervals[i] = [starti, endi], merge all overlapping intervals, and return an array of the non-overlapping intervals that cover all the intervals in the input."
      ],
      "metadata": {
        "id": "inl2z47yvfWY"
      }
    },
    {
      "cell_type": "code",
      "source": [
        "class Solution:\n",
        "    def merge(self, intervals: List[List[int]]) -> List[List[int]]:\n",
        "      intervals.sort(key=lambda x: x[0])\n",
        "      merged = []\n",
        "      for interval in intervals:\n",
        "                if not merged or merged[-1][1] < interval[0]:\n",
        "                    merged.append(interval)\n",
        "                else:\n",
        "                    merged[-1][1] = max(merged[-1][1], interval[1])\n",
        "      return merged"
      ],
      "metadata": {
        "id": "S7eYcmImjrMk"
      },
      "execution_count": 88,
      "outputs": []
    },
    {
      "cell_type": "code",
      "source": [
        "Solution.merge(1,[[1,3],[2,6],[8,10],[15,18]])"
      ],
      "metadata": {
        "colab": {
          "base_uri": "https://localhost:8080/"
        },
        "id": "rBYVDqD9jrGo",
        "outputId": "69a40f4d-3ba8-4e27-a96c-9ca64bee002d"
      },
      "execution_count": 89,
      "outputs": [
        {
          "output_type": "execute_result",
          "data": {
            "text/plain": [
              "[[1, 6], [8, 10], [15, 18]]"
            ]
          },
          "metadata": {},
          "execution_count": 89
        }
      ]
    },
    {
      "cell_type": "markdown",
      "source": [
        "50. You are given an array of non-overlapping intervals intervals where intervals[i] = [starti, endi] represent the start and the end of the ith interval and intervals is sorted in ascending order by starti. You are also given an interval newInterval = [start, end] that represents the start and end of another interval.\n",
        "\n",
        "  Insert newInterval into intervals such that intervals is still sorted in ascending order by starti and intervals still does not have any overlapping intervals (merge overlapping intervals if necessary).\n",
        "\n",
        "  Return intervals after the insertion.\n",
        "\n",
        "  Note that you don't need to modify intervals in-place. You can make a new array and return it."
      ],
      "metadata": {
        "id": "uYrw9KPJx9lv"
      }
    },
    {
      "cell_type": "code",
      "source": [
        "from typing import List\n",
        "class Solution:\n",
        "    def insert(self, intervals: List[List[int]], newInterval: List[int]) -> List[List[int]]:\n",
        "        merged = []\n",
        "        i = 0\n",
        "        while i < len(intervals) and intervals[i][1] < newInterval[0]:\n",
        "            merged.append(intervals[i])\n",
        "            i += 1\n",
        "        while i < len(intervals) and intervals[i][0] <= newInterval[1]:\n",
        "            newInterval[0] = min(newInterval[0], intervals[i][0])\n",
        "            newInterval[1] = max(newInterval[1], intervals[i][1])\n",
        "            i += 1\n",
        "        merged.append(newInterval)\n",
        "        while i < len(intervals):\n",
        "            merged.append(intervals[i])\n",
        "            i += 1\n",
        "        return merged"
      ],
      "metadata": {
        "id": "lp7IxR3DjrD8"
      },
      "execution_count": 90,
      "outputs": []
    },
    {
      "cell_type": "code",
      "source": [
        "Solution.insert(1,[[1,2],[3,5],[6,7],[8,10],[12,16]],[4,8])"
      ],
      "metadata": {
        "colab": {
          "base_uri": "https://localhost:8080/"
        },
        "id": "zKFLUxAKyT7V",
        "outputId": "31ff9762-a1d4-4727-ee1a-d178dd264809"
      },
      "execution_count": 91,
      "outputs": [
        {
          "output_type": "execute_result",
          "data": {
            "text/plain": [
              "[[1, 2], [3, 10], [12, 16]]"
            ]
          },
          "metadata": {},
          "execution_count": 91
        }
      ]
    },
    {
      "cell_type": "markdown",
      "source": [
        "51. There are some spherical balloons taped onto a flat wall that represents the XY-plane. The balloons are represented as a 2D integer array points where points[i] = [xstart, xend] denotes a balloon whose horizontal diameter stretches between xstart and xend. You do not know the exact y-coordinates of the balloons.\n",
        "\n",
        "  Arrows can be shot up directly vertically (in the positive y-direction) from different points along the x-axis. A balloon with xstart and xend is burst by an arrow shot at x if xstart <= x <= xend. There is no limit to the number of arrows that can be shot. A shot arrow keeps traveling up infinitely, bursting any balloons in its path.\n",
        "\n",
        "  Given the array points, return the minimum number of arrows that must be shot to burst all balloons."
      ],
      "metadata": {
        "id": "TgDqDhi-DT8r"
      }
    },
    {
      "cell_type": "code",
      "source": [
        "class Solution:\n",
        "    def findMinArrowShots(self, points: List[List[int]]) -> int:\n",
        "        if not points:\n",
        "            return 0\n",
        "        points.sort(key=lambda x:x[1])\n",
        "\n",
        "        count = 1\n",
        "        end = points[0][1]\n",
        "\n",
        "        for i in range(1, len(points)):\n",
        "            if points[i][0]>end:\n",
        "                count +=1\n",
        "                end = points[i][1]\n",
        "        return count\n"
      ],
      "metadata": {
        "id": "8D2OyTNnyT40"
      },
      "execution_count": 92,
      "outputs": []
    },
    {
      "cell_type": "code",
      "source": [
        "Solution.findMinArrowShots(1,[[10,16],[2,8],[1,6],[7,12]])"
      ],
      "metadata": {
        "colab": {
          "base_uri": "https://localhost:8080/"
        },
        "id": "3z1z9_zayT2K",
        "outputId": "477232c1-9b64-4572-f696-739940e150fd"
      },
      "execution_count": 93,
      "outputs": [
        {
          "output_type": "execute_result",
          "data": {
            "text/plain": [
              "2"
            ]
          },
          "metadata": {},
          "execution_count": 93
        }
      ]
    },
    {
      "cell_type": "markdown",
      "source": [
        "52. Given a string s containing just the characters '(', ')', '{', '}', '[' and ']', determine if the input string is valid.\n",
        "\n",
        "  An input string is valid if:\n",
        "\n",
        "  Open brackets must be closed by the same type of brackets.\n",
        "  Open brackets must be closed in the correct order.\n",
        "  Every close bracket has a corresponding open bracket of the same type."
      ],
      "metadata": {
        "id": "a0GtrBf-DoA4"
      }
    },
    {
      "cell_type": "code",
      "source": [
        "class Solution:\n",
        "    def isValid(self, s: str) -> bool:\n",
        "      stack = []\n",
        "      mapping = {\")\": \"(\", \"}\": \"{\", \"]\": \"[\"}\n",
        "      for char in s:\n",
        "          if char in mapping:\n",
        "              top_element = stack.pop() if stack else '#'\n",
        "              if mapping[char] != top_element:\n",
        "                  return False\n",
        "          else:\n",
        "              stack.append(char)\n",
        "      return not stack\n"
      ],
      "metadata": {
        "id": "XEIYcvlPyTzy"
      },
      "execution_count": 94,
      "outputs": []
    },
    {
      "cell_type": "code",
      "source": [
        "Solution.isValid(1,\"()\")"
      ],
      "metadata": {
        "colab": {
          "base_uri": "https://localhost:8080/"
        },
        "id": "HpsOjXsjD4EX",
        "outputId": "c7e8244c-9286-40ce-e76c-54eb23870bbb"
      },
      "execution_count": 95,
      "outputs": [
        {
          "output_type": "execute_result",
          "data": {
            "text/plain": [
              "True"
            ]
          },
          "metadata": {},
          "execution_count": 95
        }
      ]
    },
    {
      "cell_type": "markdown",
      "source": [
        "53. ou are given an absolute path for a Unix-style file system, which always begins with a slash '/'. Your task is to transform this absolute path into its simplified canonical path.\n",
        "\n",
        "  The rules of a Unix-style file system are as follows:\n",
        "\n",
        "  A single period '.' represents the current directory.\n",
        "  A double period '..' represents the previous/parent directory.\n",
        "  Multiple consecutive slashes such as '//' and '///' are treated as a single slash '/'.\n",
        "  Any sequence of periods that does not match the rules above should be treated as a valid directory or file name. For example, '...' and '....' are valid directory or file names.\n",
        "  The simplified canonical path should follow these rules:\n",
        "\n",
        "  The path must start with a single slash '/'.\n",
        "  Directories within the path must be separated by exactly one slash '/'.\n",
        "  The path must not end with a slash '/', unless it is the root directory.\n",
        "  The path must not have any single or double periods ('.' and '..') used to denote current or parent directories.\n",
        "  Return the simplified canonical path."
      ],
      "metadata": {
        "id": "417ENWNI4A67"
      }
    },
    {
      "cell_type": "code",
      "source": [
        "class Solution:\n",
        "    def simplifyPath(self, path: str) -> str:\n",
        "        stack = []\n",
        "        for dir in path.split('/'):\n",
        "            if dir == '..':\n",
        "                if stack:\n",
        "                    stack.pop()\n",
        "            elif dir and dir != '.':\n",
        "                stack.append(dir)\n",
        "        return '/' + '/'.join(stack)"
      ],
      "metadata": {
        "id": "4VmqpUH14Ag-"
      },
      "execution_count": 96,
      "outputs": []
    },
    {
      "cell_type": "code",
      "source": [
        "Solution.simplifyPath(1,\"/home//foo/\")"
      ],
      "metadata": {
        "colab": {
          "base_uri": "https://localhost:8080/",
          "height": 35
        },
        "id": "36GDuuVr4Aee",
        "outputId": "2a240f36-0d3d-493f-b4be-55e1e1d0a32d"
      },
      "execution_count": 97,
      "outputs": [
        {
          "output_type": "execute_result",
          "data": {
            "text/plain": [
              "'/home/foo'"
            ],
            "application/vnd.google.colaboratory.intrinsic+json": {
              "type": "string"
            }
          },
          "metadata": {},
          "execution_count": 97
        }
      ]
    },
    {
      "cell_type": "markdown",
      "source": [
        "54. Design a stack that supports push, pop, top, and retrieving the minimum element in constant time.\n",
        "\n",
        "  Implement the MinStack class:\n",
        "\n",
        "  MinStack() initializes the stack object.\n",
        "  void push(int val) pushes the element val onto the stack.\n",
        "  void pop() removes the element on the top of the stack.\n",
        "  int top() gets the top element of the stack.\n",
        "  int getMin() retrieves the minimum element in the stack.\n",
        "  You must implement a solution with O(1) time complexity for each function."
      ],
      "metadata": {
        "id": "C12BVp0f4s6E"
      }
    },
    {
      "cell_type": "code",
      "source": [
        "class MinStack:\n",
        "\n",
        "    def __init__(self):\n",
        "        self.stack = []\n",
        "        self.min_stack = []\n",
        "    def push(self, val: int) -> None:\n",
        "        self.stack.append(val)\n",
        "        if not self.min_stack or val <= self.min_stack[-1]:\n",
        "            self.min_stack.append(val)\n",
        "    def pop(self) -> None:\n",
        "        if self.stack[-1] == self.min_stack[-1]:\n",
        "            self.min_stack.pop()\n",
        "        self.stack.pop()\n",
        "    def top(self) -> int:\n",
        "        return self.stack[-1]\n",
        "    def getMin(self) -> int:\n",
        "        return self.min_stack[-1]"
      ],
      "metadata": {
        "id": "K0yQkzLj4AcM"
      },
      "execution_count": 98,
      "outputs": []
    },
    {
      "cell_type": "markdown",
      "source": [
        "55. You are given an array of strings tokens that represents an arithmetic expression in a Reverse Polish Notation.\n",
        "\n",
        "  Evaluate the expression. Return an integer that represents the value of the expression.\n",
        "\n",
        "  Note that:\n",
        "\n",
        "  The valid operators are '+', '-', '*', and '/'.\n",
        "  Each operand may be an integer or another expression.\n",
        "  The division between two integers always truncates toward zero.\n",
        "  There will not be any division by zero.\n",
        "  The input represents a valid arithmetic expression in a reverse polish notation.\n",
        "  The answer and all the intermediate calculations can be represented in a 32-bit integer."
      ],
      "metadata": {
        "id": "tH0IjMnpidw-"
      }
    },
    {
      "cell_type": "code",
      "source": [
        "class Solution:\n",
        "    def evalRPN(self, tokens: List[str]) -> int:\n",
        "        stack = []\n",
        "        for token in tokens:\n",
        "            if token == '+':\n",
        "                stack.append(stack.pop() + stack.pop())\n",
        "            elif token == '-':\n",
        "                a, b = stack.pop(), stack.pop()\n",
        "                stack.append(b - a)\n",
        "\n",
        "            elif token == '*':\n",
        "                stack.append(stack.pop() * stack.pop())\n",
        "            elif token == '/':\n",
        "                a, b = stack.pop(), stack.pop()\n",
        "                stack.append(int(b / a))\n",
        "\n",
        "            else:\n",
        "                stack.append(int(token))\n",
        "        return stack[0]"
      ],
      "metadata": {
        "id": "j9RYnz9h4AZU"
      },
      "execution_count": 99,
      "outputs": []
    },
    {
      "cell_type": "code",
      "source": [
        "Solution.evalRPN(1,[\"2\",\"1\",\"+\",\"3\",\"*\"])"
      ],
      "metadata": {
        "colab": {
          "base_uri": "https://localhost:8080/"
        },
        "id": "Qu18_kE64AWh",
        "outputId": "90abcaf6-389e-4fef-d80b-fbc0bebb912f"
      },
      "execution_count": 100,
      "outputs": [
        {
          "output_type": "execute_result",
          "data": {
            "text/plain": [
              "9"
            ]
          },
          "metadata": {},
          "execution_count": 100
        }
      ]
    },
    {
      "cell_type": "markdown",
      "source": [
        "56. Given a string s representing a valid expression, implement a basic calculator to evaluate it, and return the result of the evaluation.\n",
        "\n",
        "  Note: You are not allowed to use any built-in function which evaluates strings as mathematical expressions, such as eval().\n"
      ],
      "metadata": {
        "id": "OODM68oMjHR7"
      }
    },
    {
      "cell_type": "code",
      "source": [
        "class Solution:\n",
        "    def calculate(self, s):\n",
        "        def evaluate(i):\n",
        "            res, digit, sign = 0, 0, 1\n",
        "\n",
        "            while i < len(s):\n",
        "                if s[i].isdigit():\n",
        "                    digit = digit * 10 + int(s[i])\n",
        "                elif s[i] in '+-':\n",
        "                    res += digit * sign\n",
        "                    digit = 0\n",
        "                    sign = 1 if s[i] == '+' else -1\n",
        "                elif s[i] == '(':\n",
        "                    subres, i = evaluate(i+1)\n",
        "                    res += sign * subres\n",
        "                elif s[i] == ')':\n",
        "                    res += digit * sign\n",
        "                    return res, i\n",
        "                i += 1\n",
        "\n",
        "            return res + digit * sign\n",
        "\n",
        "        return evaluate(0)"
      ],
      "metadata": {
        "id": "2HI_Vcli4AT2"
      },
      "execution_count": 101,
      "outputs": []
    },
    {
      "cell_type": "code",
      "source": [
        "Solution.calculate(1,\"3+2*2\")"
      ],
      "metadata": {
        "colab": {
          "base_uri": "https://localhost:8080/"
        },
        "id": "ww7QkSXd4ARV",
        "outputId": "02f26094-8e85-42a1-ac43-f73e718e96d9"
      },
      "execution_count": 102,
      "outputs": [
        {
          "output_type": "execute_result",
          "data": {
            "text/plain": [
              "25"
            ]
          },
          "metadata": {},
          "execution_count": 102
        }
      ]
    },
    {
      "cell_type": "markdown",
      "source": [
        "57. Given head, the head of a linked list, determine if the linked list has a cycle in it.\n",
        "\n",
        "  There is a cycle in a linked list if there is some node in the list that can be reached again by continuously following the next pointer. Internally, pos is used to denote the index of the node that tail's next pointer is connected to. Note that pos is not passed as a parameter.\n",
        "\n",
        "  Return true if there is a cycle in the linked list. Otherwise, return false."
      ],
      "metadata": {
        "id": "4DhaZp6EzKbl"
      }
    },
    {
      "cell_type": "code",
      "source": [
        "class ListNode:\n",
        "    def __init__(self, x):\n",
        "        self.val = x\n",
        "        self.next = None\n",
        "\n",
        "class Solution:\n",
        "    def hasCycle(self, head: ListNode) -> bool:\n",
        "        slow = fast = head\n",
        "        while fast and fast.next:\n",
        "            slow = slow.next\n",
        "            fast = fast.next.next\n",
        "            if slow == fast:\n",
        "                return True"
      ],
      "metadata": {
        "id": "ekIDw6i9zKF6"
      },
      "execution_count": 103,
      "outputs": []
    },
    {
      "cell_type": "markdown",
      "source": [
        "58. You are given two non-empty linked lists representing two non-negative integers. The digits are stored in reverse order, and each of their nodes contains a single digit. Add the two numbers and return the sum as a linked list.\n",
        "\n",
        "You may assume the two numbers do not contain any leading zero, except the number 0 itself."
      ],
      "metadata": {
        "id": "Sf7Y4kfYzyET"
      }
    },
    {
      "cell_type": "code",
      "source": [
        "class ListNode:\n",
        "    def __init__(self, val=0, next=None):\n",
        "        self.val = val\n",
        "        self.next = next\n",
        "class Solution:\n",
        "    def addTwoNumbers(self, l1: ListNode, l2: ListNode) -> ListNode:\n",
        "        dummy = ListNode()\n",
        "        curr = dummy\n",
        "        carry = 0\n",
        "        while l1 or l2 or carry:\n",
        "            v1 = l1.val if l1 else 0\n",
        "            v2 = l2.val if l2 else 0\n",
        "            val = v1 + v2 + carry\n",
        "            carry = val // 10\n",
        "            val = val % 10\n",
        "            curr.next = ListNode(val)\n",
        "            curr = curr.next\n",
        "            l1 = l1.next if l1 else None\n",
        "            l2 = l2.next if l2 else None\n",
        "        return dummy.next"
      ],
      "metadata": {
        "id": "qseswxTV4AMN"
      },
      "execution_count": 104,
      "outputs": []
    },
    {
      "cell_type": "markdown",
      "source": [
        "59. You are given the heads of two sorted linked lists list1 and list2.\n",
        "\n",
        "  Merge the two lists into one sorted list. The list should be made by splicing together the nodes of the first two lists.\n",
        "\n",
        "  Return the head of the merged linked list."
      ],
      "metadata": {
        "id": "IbCmV-aFEMm9"
      }
    },
    {
      "cell_type": "code",
      "source": [
        "class ListNode:\n",
        "    def __init__(self, val=0, next=None):\n",
        "        self.val = val\n",
        "        self.next = next\n",
        "class Solution:\n",
        "    def mergeTwoLists(self, list1: ListNode, list2: ListNode) -> ListNode:\n",
        "        dummy = ListNode()\n",
        "        curr = dummy\n",
        "        while list1 and list2:\n",
        "            if list1.val < list2.val:\n",
        "                curr.next = list1\n",
        "                list1 = list1.next\n",
        "            else:\n",
        "                curr.next = list2\n",
        "                list2 = list2.next\n",
        "            curr = curr.next\n",
        "        curr.next = list1 or list2\n",
        "        return dummy.next"
      ],
      "metadata": {
        "id": "TJBO57Wu4AJf"
      },
      "execution_count": 105,
      "outputs": []
    },
    {
      "cell_type": "markdown",
      "source": [
        "60. A linked list of length n is given such that each node contains an additional random pointer, which could point to any node in the list, or null.\n",
        "\n",
        "  Construct a deep copy of the list. The deep copy should consist of exactly n brand new nodes, where each new node has its value set to the value of its corresponding original node. Both the next and random pointer of the new nodes should point to new nodes in the copied list such that the pointers in the original list and copied list represent the same list state. None of the pointers in the new list should point to nodes in the original list.\n",
        "\n",
        "  For example, if there are two nodes X and Y in the original list, where X.random --> Y, then for the corresponding two nodes x and y in the copied list, x.random --> y.\n",
        "\n",
        "  Return the head of the copied linked list.\n",
        "\n",
        "  The linked list is represented in the input/output as a list of n nodes. Each node is represented as a pair of [val, random_index] where:\n",
        "\n",
        "  val: an integer representing Node.val\n",
        "  random_index: the index of the node (range from 0 to n-1) that the random pointer points to, or null if it does not point to any node.\n",
        "  Your code will only be given the head of the original linked list."
      ],
      "metadata": {
        "id": "Nq8MixYNEnmM"
      }
    },
    {
      "cell_type": "code",
      "source": [
        "class Node:\n",
        "    def __init__(self, x: int, next: 'Node' = None, random: 'Node' = None):\n",
        "        self.val = int(x)\n",
        "        self.next = next\n",
        "        self.random = random\n",
        "class Solution:\n",
        "    def copyRandomList(self, head: 'Node') -> 'Node':\n",
        "        oldToCopy = {None: None}\n",
        "        curr = head\n",
        "        while curr:\n",
        "            copy = Node(curr.val)\n",
        "            oldToCopy[curr] = copy\n",
        "            curr = curr.next\n",
        "        curr = head\n",
        "        while curr:\n",
        "            copy = oldToCopy[curr]\n",
        "            copy.next = oldToCopy[curr.next]\n",
        "            copy.random = oldToCopy[curr.random]\n",
        "            curr = curr.next\n",
        "        return oldToCopy[head]"
      ],
      "metadata": {
        "id": "LrxgtDk2zHKs"
      },
      "execution_count": 106,
      "outputs": []
    },
    {
      "cell_type": "markdown",
      "source": [
        "61. Given the head of a singly linked list and two integers left and right where left <= right, reverse the nodes of the list from position left to position right, and return the reversed list."
      ],
      "metadata": {
        "id": "ToiW-uiDVc4Y"
      }
    },
    {
      "cell_type": "code",
      "source": [
        "class Solution:\n",
        "    def reverseBetween(self, head: ListNode, left: int, right: int) -> ListNode:\n",
        "        if not head or not head.next or left == right:\n",
        "            return head\n",
        "        dummy = ListNode(0)\n",
        "        dummy.next = head\n",
        "        prev = dummy\n",
        "        for i in range(left - 1):\n",
        "            prev = prev.next\n",
        "        curr = prev.next\n",
        "        for i in range(right - left):\n",
        "            temp = curr.next\n",
        "            curr.next = temp.next\n",
        "            temp.next = prev.next\n",
        "            prev.next = temp\n",
        "        return dummy.next"
      ],
      "metadata": {
        "id": "nb2UMJQEVcti"
      },
      "execution_count": 107,
      "outputs": []
    },
    {
      "cell_type": "markdown",
      "source": [
        "62. Given the head of a linked list, reverse the nodes of the list k at a time, and return the modified list.\n",
        "\n",
        "  k is a positive integer and is less than or equal to the length of the linked list. If the number of nodes is not a multiple of k then left-out nodes, in the end, should remain as it is.\n",
        "\n",
        "  You may not alter the values in the list's nodes, only nodes themselves may be changed."
      ],
      "metadata": {
        "id": "kHcBl1QBWcnz"
      }
    },
    {
      "cell_type": "code",
      "source": [
        "class ListNode:\n",
        "    def __init__(self, val=0, next=None):\n",
        "        self.val = val\n",
        "        self.next = next\n",
        "class Solution:\n",
        "    def reverseKGroup(self, head: ListNode, k: int) -> ListNode:\n",
        "        dummy = ListNode(0)\n",
        "        dummy.next = head\n",
        "        prev = dummy\n",
        "        curr = head\n",
        "        count = 0\n",
        "        while curr:\n",
        "            count += 1\n",
        "            if count % k == 0:\n",
        "                prev = self.reverse(prev, curr.next)\n",
        "                curr = prev.next\n",
        "            else:\n",
        "                curr = curr.next\n",
        "        return dummy.next\n",
        "\n",
        "    def reverse(self, start, end):\n",
        "        prev = start\n",
        "        curr = start.next\n",
        "        first = curr\n",
        "        while curr != end:\n",
        "            temp = curr.next\n",
        "            curr.next = prev\n",
        "            prev = curr\n",
        "            curr = temp\n",
        "        start.next = prev\n",
        "        first.next = curr\n",
        "        return first"
      ],
      "metadata": {
        "id": "RKlRJCZ9Vcox"
      },
      "execution_count": 108,
      "outputs": []
    },
    {
      "cell_type": "markdown",
      "source": [
        "63. Given the head of a linked list, remove the nth node from the end of the list and return its head."
      ],
      "metadata": {
        "id": "PttoyQaBa6zQ"
      }
    },
    {
      "cell_type": "code",
      "source": [
        "class ListNode:\n",
        "    def __init__(self, val=0, next=None):\n",
        "        self.val = val\n",
        "        self.next = next\n",
        "\n",
        "class Solution:\n",
        "    def removeNthFromEnd(self, head: ListNode, n: int) -> ListNode:\n",
        "        dummy = ListNode(0)\n",
        "        dummy.next = head\n",
        "        first = dummy\n",
        "        second = dummy\n",
        "        for i in range(n + 1):\n",
        "            first = first.next\n",
        "        while first:\n",
        "            first = first.next\n",
        "            second = second.next\n",
        "        second.next = second.next.next\n",
        "        return dummy.next"
      ],
      "metadata": {
        "id": "nHWBEtAYVcg3"
      },
      "execution_count": 109,
      "outputs": []
    },
    {
      "cell_type": "markdown",
      "source": [
        "64. Given the head of a sorted linked list, delete all nodes that have duplicate numbers, leaving only distinct numbers from the original list. Return the linked list sorted as well."
      ],
      "metadata": {
        "id": "kacYuqxobyNV"
      }
    },
    {
      "cell_type": "code",
      "source": [
        "class ListNode:\n",
        "    def __init__(self, val=0, next=None):\n",
        "        self.val = val\n",
        "        self.next = next\n",
        "class Solution:\n",
        "    def deleteDuplicates(self, head: ListNode) -> ListNode:\n",
        "        dummy = ListNode(0)\n",
        "        dummy.next = head\n",
        "        prev = dummy\n",
        "        curr = head\n",
        "        while curr:\n",
        "            if curr.next and curr.val == curr.next.val:\n",
        "                while curr.next and curr.val == curr.next.val:\n",
        "                    curr = curr.next\n",
        "                prev.next = curr.next\n",
        "                curr = curr.next\n",
        "            else:\n",
        "                prev = prev.next\n",
        "                curr = curr.next\n",
        "        return dummy.next"
      ],
      "metadata": {
        "id": "4acDwAa9bx_Y"
      },
      "execution_count": 110,
      "outputs": []
    },
    {
      "cell_type": "markdown",
      "source": [
        "65. Given the head of a linked list, rotate the list to the right by k places."
      ],
      "metadata": {
        "id": "WZQleTqbhVwu"
      }
    },
    {
      "cell_type": "code",
      "source": [
        "class ListNode:\n",
        "    def __init__(self, val=0, next=None):\n",
        "        self.val = val\n",
        "        self.next = next\n",
        "class Solution:\n",
        "    def rotateRight(self, head: ListNode, k: int) -> ListNode:\n",
        "        if not head or not head.next or k == 0:\n",
        "            return head\n",
        "        length = 1\n",
        "        curr = head\n",
        "        while curr.next:\n",
        "            length += 1\n",
        "            curr = curr.next\n",
        "        curr.next = head\n",
        "        k = length - k % length\n",
        "        for i in range(k):\n",
        "            curr = curr.next\n",
        "        head = curr.next\n",
        "        curr.next = None\n",
        "        return head"
      ],
      "metadata": {
        "id": "2NkZALRKbx8h"
      },
      "execution_count": 111,
      "outputs": []
    },
    {
      "cell_type": "markdown",
      "source": [
        "66. Given the head of a linked list and a value x, partition it such that all nodes less than x come before nodes greater than or equal to x.\n",
        "\n",
        "  You should preserve the original relative order of the nodes in each of the two partitions.\n",
        "\n"
      ],
      "metadata": {
        "id": "Q_u6ViMniCN_"
      }
    },
    {
      "cell_type": "code",
      "source": [
        "class ListNode:\n",
        "    def __init__(self, val=0, next=None):\n",
        "        self.val = val\n",
        "        self.next = next\n",
        "class Solution:\n",
        "    def partition(self, head: ListNode, x: int) -> ListNode:\n",
        "        dummy1 = ListNode(0)\n",
        "        dummy2 = ListNode(0)\n",
        "        curr1 = dummy1\n",
        "        curr2 = dummy2\n",
        "        curr = head\n",
        "        while curr:\n",
        "            if curr.val < x:\n",
        "                curr1.next = curr\n",
        "                curr1 = curr1.next\n",
        "            else:\n",
        "                curr2.next = curr\n",
        "                curr2 = curr2.next\n",
        "            curr = curr.next\n",
        "        curr1.next = dummy2.next\n",
        "        curr2.next = None\n",
        "        return dummy1.next"
      ],
      "metadata": {
        "id": "atEyNxi-bx50"
      },
      "execution_count": 112,
      "outputs": []
    },
    {
      "cell_type": "markdown",
      "source": [
        "67. Design a data structure that follows the constraints of a Least Recently Used (LRU) cache.\n",
        "\n",
        "  Implement the LRUCache class:\n",
        "\n",
        "  LRUCache(int capacity) Initialize the LRU cache with positive size capacity.\n",
        "  int get(int key) Return the value of the key if the key exists, otherwise return -1.\n",
        "  void put(int key, int value) Update the value of the key if the key exists. Otherwise, add the key-value pair to the cache. If the number of keys exceeds the capacity from this operation, evict the least recently used key.\n",
        "  The functions get and put must each run in O(1) average time complexity."
      ],
      "metadata": {
        "id": "vb27GLgcoEUF"
      }
    },
    {
      "cell_type": "code",
      "source": [
        "class LRUCache:\n",
        "\n",
        "    def __init__(self, capacity: int):\n",
        "        self.capacity = capacity\n",
        "        self.cache = {}\n",
        "        self.queue = []\n",
        "\n",
        "    def get(self, key: int) -> int:\n",
        "        if key in self.cache:\n",
        "            self.queue.remove(key)\n",
        "            self.queue.append(key)\n",
        "            return self.cache[key]\n",
        "        return -1\n",
        "\n",
        "    def put(self, key: int, value: int) -> None:\n",
        "        if key in self.cache:\n",
        "            self.queue.remove(key)\n",
        "            self.cache[key] = value\n",
        "            self.queue.append(key)\n",
        "            return\n",
        "        if len(self.cache) == self.capacity:\n",
        "            lru_key = self.queue.pop(0)\n",
        "            del self.cache[lru_key]\n",
        "        self.cache[key] = value\n",
        "        self.queue.append(key)\n"
      ],
      "metadata": {
        "id": "PqDgNIJgoEBr"
      },
      "execution_count": 113,
      "outputs": []
    },
    {
      "cell_type": "markdown",
      "source": [
        "68. Given the root of a binary tree, return its maximum depth.\n",
        "\n",
        "  A binary tree's maximum depth is the number of nodes along the longest path from the root node down to the farthest leaf node."
      ],
      "metadata": {
        "id": "vk_McfPKsWM5"
      }
    },
    {
      "cell_type": "code",
      "source": [
        "class TreeNode:\n",
        "    def __init__(self, val=0, left=None, right=None):\n",
        "        self.val = val\n",
        "        self.left = left\n",
        "        self.right = right\n",
        "class Solution:\n",
        "    def maxDepth(self, root: TreeNode) -> int:\n",
        "        if not root:\n",
        "            return 0\n",
        "        return 1 + max(self.maxDepth(root.left), self.maxDepth(root.right))"
      ],
      "metadata": {
        "id": "1SrX7a_Obx3P"
      },
      "execution_count": 114,
      "outputs": []
    },
    {
      "cell_type": "markdown",
      "source": [
        "69. Given the roots of two binary trees p and q, write a function to check if they are the same or not.\n",
        "\n",
        "  Two binary trees are considered the same if they are structurally identical, and the nodes have the same value."
      ],
      "metadata": {
        "id": "KJ52HfTK8h3t"
      }
    },
    {
      "cell_type": "code",
      "source": [
        "class TreeNode:\n",
        "    def __init__(self, val=0, left=None, right=None):\n",
        "        self.val = val\n",
        "        self.left = left\n",
        "        self.right = right\n",
        "class Solution:\n",
        "    def isSameTree(self, p: TreeNode, q: TreeNode) -> bool:\n",
        "        if not p and not q:\n",
        "            return True\n",
        "        if not p or not q:\n",
        "            return False\n",
        "        if p.val != q.val:\n",
        "            return False\n",
        "        return self.isSameTree(p.left, q.left) and self.isSameTree(p.right, q.right)"
      ],
      "metadata": {
        "id": "32HyP7LkzHC5"
      },
      "execution_count": 115,
      "outputs": []
    },
    {
      "cell_type": "markdown",
      "source": [
        "70. Given the root of a binary tree, invert the tree, and return its root."
      ],
      "metadata": {
        "id": "WUaXyewY9FDK"
      }
    },
    {
      "cell_type": "code",
      "source": [
        "class TreeNode:\n",
        "    def __init__(self, val=0, left=None, right=None):\n",
        "        self.val = val\n",
        "        self.left = left\n",
        "        self.right = right\n",
        "\n",
        "class Solution:\n",
        "    def invertTree(self, root: TreeNode) -> TreeNode:\n",
        "        if not root:\n",
        "            return None\n",
        "        left = self.invertTree(root.left)\n",
        "        right = self.invertTree(root.right)\n",
        "        root.left = right\n",
        "        root.right = left\n",
        "        return root"
      ],
      "metadata": {
        "id": "PVbC4nkczHAP"
      },
      "execution_count": 116,
      "outputs": []
    },
    {
      "cell_type": "markdown",
      "source": [
        "71. Given the root of a binary tree, check whether it is a mirror of itself (i.e., symmetric around its center)."
      ],
      "metadata": {
        "id": "fQo83ImSfck1"
      }
    },
    {
      "cell_type": "code",
      "source": [
        "class TreeNode:\n",
        "    def __init__(self, val=0, left=None, right=None):\n",
        "        self.val = val\n",
        "        self.left = left\n",
        "        self.right = right\n",
        "class Solution:\n",
        "    def isSymmetric(self, root: TreeNode) -> bool:\n",
        "        if not root:\n",
        "            return True\n",
        "        return self.isMirror(root.left, root.right)\n",
        "\n",
        "    def isMirror(self, left: TreeNode, right: TreeNode) -> bool:\n",
        "        if not left and not right:\n",
        "            return True\n",
        "        if not left or not right:\n",
        "            return False\n",
        "        if left.val != right.val:\n",
        "            return False\n",
        "        return self.isMirror(left.left, right.right) and self.isMirror(left.right, right.left)"
      ],
      "metadata": {
        "id": "a7-L0z3RzG9g"
      },
      "execution_count": 117,
      "outputs": []
    },
    {
      "cell_type": "markdown",
      "source": [
        "72. Given two integer arrays preorder and inorder where preorder is the preorder traversal of a binary tree and inorder is the inorder traversal of the same tree, construct and return the binary tree."
      ],
      "metadata": {
        "id": "3l1YqdJBgFAv"
      }
    },
    {
      "cell_type": "code",
      "source": [
        "class TreeNode:\n",
        "    def __init__(self, val=0, left=None, right=None):\n",
        "        self.val = val\n",
        "        self.left = left\n",
        "        self.right = right\n",
        "class Solution:\n",
        "    def buildTree(self, preorder: List[int], inorder: List[int]) -> TreeNode:\n",
        "        if not preorder or not inorder:\n",
        "            return None\n",
        "        root = TreeNode(preorder[0])\n",
        "        mid = inorder.index(preorder[0])\n",
        "        root.left = self.buildTree(preorder[1:mid+1], inorder[:mid])\n",
        "        root.right = self.buildTree(preorder[mid+1:], inorder[mid+1:])\n",
        "        return root"
      ],
      "metadata": {
        "id": "aaOmSBEH8g8x"
      },
      "execution_count": 118,
      "outputs": []
    },
    {
      "cell_type": "markdown",
      "source": [
        "73. Given two integer arrays inorder and postorder where inorder is the inorder traversal of a binary tree and postorder is the postorder traversal of the same tree, construct and return the binary tree."
      ],
      "metadata": {
        "id": "dijeEuYn4dxp"
      }
    },
    {
      "cell_type": "code",
      "source": [
        "class TreeNode:\n",
        "    def __init__(self, val=0, left=None, right=None):\n",
        "        self.val = val\n",
        "        self.left = left\n",
        "        self.right = right\n",
        "\n",
        "class Solution:\n",
        "    def buildTree(self, inorder: List[int], postorder: List[int]) -> TreeNode:\n",
        "        if not inorder or not postorder:\n",
        "            return None\n",
        "        root = TreeNode(postorder[-1])\n",
        "        mid = inorder.index(postorder[-1])\n",
        "        root.left = self.buildTree(inorder[:mid], postorder[:mid])\n",
        "        root.right = self.buildTree(inorder[mid+1:], postorder[mid:-1])\n",
        "        return root"
      ],
      "metadata": {
        "id": "QcnAxYL78g32"
      },
      "execution_count": 119,
      "outputs": []
    },
    {
      "cell_type": "markdown",
      "source": [
        "74. Given a binary tree\n",
        "\n",
        "    struct Node {\n",
        "      int val;\n",
        "      Node *left;\n",
        "      Node *right;\n",
        "      Node *next;\n",
        "    }\n",
        "    Populate each next pointer to point to its next right node. If there is no next right node, the next pointer should be set to NULL.\n",
        "\n",
        "    Initially, all next pointers are set to NULL."
      ],
      "metadata": {
        "id": "Pf-yv4A44xtL"
      }
    },
    {
      "cell_type": "code",
      "source": [
        "class Node:\n",
        "    def __init__(self, val: int = 0, left: 'Node' = None, right: 'Node' = None, next: 'Node' = None):\n",
        "        self.val = val\n",
        "        self.left = left\n",
        "        self.right = right\n",
        "        self.next = next\n",
        "\n",
        "class Solution:\n",
        "    def connect(self, root: 'Optional[Node]') -> 'Optional[Node]':\n",
        "        if not root:\n",
        "            return root\n",
        "\n",
        "        # Initialize a queue for level order traversal\n",
        "        queue = [(root, 0)]  # (node, level)\n",
        "\n",
        "        while queue:\n",
        "            curr_node, curr_level = queue.pop(0)\n",
        "\n",
        "            # Connect to the next node at the same level\n",
        "            if queue and queue[0][1] == curr_level:\n",
        "                curr_node.next = queue[0][0]\n",
        "\n",
        "            # Add children to the queue\n",
        "            if curr_node.left:\n",
        "                queue.append((curr_node.left, curr_level + 1))\n",
        "            if curr_node.right:\n",
        "                queue.append((curr_node.right, curr_level + 1))\n",
        "\n",
        "        return root\n"
      ],
      "metadata": {
        "id": "WGOM8wI38gyU"
      },
      "execution_count": 120,
      "outputs": []
    },
    {
      "cell_type": "markdown",
      "source": [
        "75. Given the root of a binary tree, flatten the tree into a \"linked list\":\n",
        "\n",
        "  The \"linked list\" should use the same TreeNode class where the right child pointer points to the next node in the list and the left child pointer is always null.\n",
        "  The \"linked list\" should be in the same order as a pre-order traversal of the binary tree."
      ],
      "metadata": {
        "id": "c-bz7m2QDm1x"
      }
    },
    {
      "cell_type": "code",
      "source": [
        "class TreeNode:\n",
        "    def __init__(self, val=0, left=None, right=None):\n",
        "        self.val = val\n",
        "        self.left = left\n",
        "        self.right = right\n",
        "class Solution:\n",
        "    def flatten(self, root: TreeNode) -> None:\n",
        "        \"\"\"\n",
        "        Do not return anything, modify root in-place instead.\n",
        "        \"\"\"\n",
        "        if not root:\n",
        "            return None\n",
        "        self.flatten(root.left)\n",
        "        self.flatten(root.right)\n",
        "        if root.left:\n",
        "            curr = root.left\n",
        "            while curr.right:\n",
        "                curr = curr.right\n",
        "            curr.right = root.right\n",
        "            root.right = root.left\n",
        "            root.left = None\n",
        "        return root"
      ],
      "metadata": {
        "id": "gPMGJ-518gnC"
      },
      "execution_count": 121,
      "outputs": []
    },
    {
      "cell_type": "markdown",
      "source": [
        "76. Given the root of a binary tree and an integer targetSum, return true if the tree has a root-to-leaf path such that adding up all the values along the path equals targetSum.\n",
        "\n",
        "  A leaf is a node with no children."
      ],
      "metadata": {
        "id": "PUG2QLDjEMjh"
      }
    },
    {
      "cell_type": "code",
      "source": [
        "class TreeNode:\n",
        "    def __init__(self, val=0, left=None, right=None):\n",
        "        self.val = val\n",
        "        self.left = left\n",
        "        self.right = right\n",
        "class Solution:\n",
        "    def hasPathSum(self, root: TreeNode, targetSum: int) -> bool:\n",
        "        if not root:\n",
        "            return False\n",
        "        if not root.left and not root.right:\n",
        "            return root.val == targetSum\n",
        "        targetSum -= root.val\n",
        "        return self.hasPathSum(root.left, targetSum) or self.hasPathSum(root.right, targetSum)"
      ],
      "metadata": {
        "id": "Lur43tzt8gaJ"
      },
      "execution_count": 122,
      "outputs": []
    },
    {
      "cell_type": "markdown",
      "source": [
        "77. You are given the root of a binary tree containing digits from 0 to 9 only.\n",
        "\n",
        "  Each root-to-leaf path in the tree represents a number.\n",
        "\n",
        "  For example, the root-to-leaf path 1 -> 2 -> 3 represents the number 123.\n",
        "  Return the total sum of all root-to-leaf numbers. Test cases are generated so that the answer will fit in a 32-bit integer.\n",
        "\n",
        "  A leaf node is a node with no children."
      ],
      "metadata": {
        "id": "uc8lwPvS010V"
      }
    },
    {
      "cell_type": "code",
      "source": [
        "class TreeNode:\n",
        "    def __init__(self, val=0, left=None, right=None):\n",
        "        self.val = val\n",
        "        self.left = left\n",
        "        self.right = right\n",
        "class Solution:\n",
        "    def sumNumbers(self, root: TreeNode) -> int:\n",
        "        return self.dfs(root, 0)\n",
        "\n",
        "    def dfs(self, root, curr):\n",
        "        if not root:\n",
        "            return 0\n",
        "        curr = curr * 10 + root.val\n",
        "        if not root.left and not root.right:\n",
        "            return curr\n",
        "        return self.dfs(root.left, curr) + self.dfs(root.right, curr)"
      ],
      "metadata": {
        "id": "UqUnnRpw8gUW"
      },
      "execution_count": 123,
      "outputs": []
    },
    {
      "cell_type": "markdown",
      "source": [
        "78. A path in a binary tree is a sequence of nodes where each pair of adjacent nodes in the sequence has an edge connecting them. A node can only appear in the sequence at most once. Note that the path does not need to pass through the root.\n",
        "\n",
        "  The path sum of a path is the sum of the node's values in the path.\n",
        "\n",
        "  Given the root of a binary tree, return the maximum path sum of any non-empty path."
      ],
      "metadata": {
        "id": "8kvZzKTT1QK5"
      }
    },
    {
      "cell_type": "code",
      "source": [
        "class TreeNode:\n",
        "    def __init__(self, val=0, left=None, right=None):\n",
        "        self.val = val\n",
        "        self.left = left\n",
        "        self.right = right\n",
        "\n",
        "class Solution:\n",
        "    def maxPathSum(self, root: TreeNode) -> int:\n",
        "        self.max_sum = float('-inf')\n",
        "        self.dfs(root)\n",
        "        return self.max_sum\n",
        "    def dfs(self, root):\n",
        "        if not root:\n",
        "            return 0\n",
        "\n",
        "        left_max = max(0, self.dfs(root.left))\n",
        "        right_max = max(0, self.dfs(root.right))\n",
        "\n",
        "        self.max_sum = max(self.max_sum, left_max + right_max + root.val)\n",
        "\n",
        "        return max(left_max, right_max) + root.val\n"
      ],
      "metadata": {
        "id": "qWo8cMYv8gOw"
      },
      "execution_count": 124,
      "outputs": []
    },
    {
      "cell_type": "markdown",
      "source": [
        "79. Implement the BSTIterator class that represents an iterator over the in-order traversal of a binary search tree (BST):\n",
        "\n",
        "  BSTIterator(TreeNode root) Initializes an object of the BSTIterator class. The root of the BST is given as part of the constructor. The pointer should be initialized to a non-existent number smaller than any element in the BST.\n",
        "  boolean hasNext() Returns true if there exists a number in the traversal to the right of the pointer, otherwise returns false.\n",
        "  int next() Moves the pointer to the right, then returns the number at the pointer.\n",
        "  Notice that by initializing the pointer to a non-existent smallest number, the first call to next() will return the smallest element in the BST.\n",
        "\n",
        "  You may assume that next() calls will always be valid. That is, there will be at least a next number in the in-order traversal when next() is called."
      ],
      "metadata": {
        "id": "Bh5tk3_dOsqF"
      }
    },
    {
      "cell_type": "code",
      "source": [
        "class TreeNode:\n",
        "    def __init__(self, val=0, left=None, right=None):\n",
        "        self.val = val\n",
        "        self.left = left\n",
        "        self.right = right\n",
        "\n",
        "class BSTIterator:\n",
        "\n",
        "    def __init__(self, root: TreeNode):\n",
        "        self.stack = []\n",
        "        self.pushAll(root)\n",
        "\n",
        "    def pushAll(self, node):\n",
        "        while node:\n",
        "            self.stack.append(node)\n",
        "            node = node.left\n",
        "\n",
        "    def next(self) -> int:\n",
        "        node = self.stack.pop()\n",
        "        self.pushAll(node.right)\n",
        "        return node.val\n",
        "\n",
        "    def hasNext(self) -> bool:\n",
        "        return len(self.stack) > 0\n"
      ],
      "metadata": {
        "id": "pXFIRMyZDcPw"
      },
      "execution_count": 125,
      "outputs": []
    },
    {
      "cell_type": "markdown",
      "source": [
        "80. Given the root of a complete binary tree, return the number of the nodes in the tree.\n",
        "\n",
        "  According to Wikipedia, every level, except possibly the last, is completely filled in a complete binary tree, and all nodes in the last level are as far left as possible. It can have between 1 and 2h nodes inclusive at the last level h.\n",
        "\n",
        "  Design an algorithm that runs in less than O(n) time complexity."
      ],
      "metadata": {
        "id": "ap57nNYiPJzR"
      }
    },
    {
      "cell_type": "code",
      "source": [
        "class TreeNode:\n",
        "  def __init__(self, val=0, left=None, right=None):\n",
        "    self.val = val\n",
        "    self.left = left\n",
        "    self.right = right\n",
        "class Solution:\n",
        "  def countNodes(self, root: TreeNode) -> int:\n",
        "    if not root:\n",
        "      return 0\n",
        "    left_height = self.getHeight(root.left)\n",
        "    right_height = self.getHeight(root.right)\n",
        "    if left_height == right_height:\n",
        "      return 2**left_height + self.countNodes(root.right)\n",
        "    else:\n",
        "      return 2**right_height + self.countNodes(root.left)\n",
        "\n",
        "  def getHeight(self, root):\n",
        "    height = 0\n",
        "    while root:\n",
        "      height += 1\n",
        "      root = root.left\n",
        "    return height"
      ],
      "metadata": {
        "id": "lqI-VbePDcNJ"
      },
      "execution_count": 126,
      "outputs": []
    },
    {
      "cell_type": "markdown",
      "source": [
        "81. Given a binary tree, find the lowest common ancestor (LCA) of two given nodes in the tree.\n",
        "\n",
        "  According to the definition of LCA on Wikipedia: “The lowest common ancestor is defined between two nodes p and q as the lowest node in T that has both p and q as descendants (where we allow a node to be a descendant of itself).”"
      ],
      "metadata": {
        "id": "5nlHvnHYEU1A"
      }
    },
    {
      "cell_type": "code",
      "source": [
        "class TreeNode:\n",
        "    def __init__(self, x):\n",
        "        self.val = x\n",
        "        self.left = None\n",
        "        self.right = None\n",
        "\n",
        "class Solution:\n",
        "    def lowestCommonAncestor(self, root: 'TreeNode', p: 'TreeNode', q: 'TreeNode') -> 'TreeNode':\n",
        "        if not root or root == p or root == q:\n",
        "            return root\n",
        "        left = self.lowestCommonAncestor(root.left, p, q)\n",
        "        right = self.lowestCommonAncestor(root.right, p, q)\n",
        "        if not left:\n",
        "            return right\n",
        "        if not right:\n",
        "            return left\n",
        "        return root"
      ],
      "metadata": {
        "id": "Y5WgOGvRDcIE"
      },
      "execution_count": 127,
      "outputs": []
    },
    {
      "cell_type": "markdown",
      "source": [
        "82. Given the root of a binary tree, imagine yourself standing on the right side of it, return the values of the nodes you can see ordered from top to bottom."
      ],
      "metadata": {
        "id": "vXaQ9LlFEnOt"
      }
    },
    {
      "cell_type": "code",
      "source": [
        "class TreeNode:\n",
        "    def __init__(self, val=0, left=None, right=None):\n",
        "        self.val = val\n",
        "        self.left = left\n",
        "        self.right = right\n",
        "class Solution:\n",
        "    def rightSideView(self, root: TreeNode) -> List[int]:\n",
        "        if not root:\n",
        "            return []\n",
        "        queue = [root]\n",
        "        result = []\n",
        "        while queue:\n",
        "            size = len(queue)\n",
        "            for i in range(size):\n",
        "                node = queue.pop(0)\n",
        "                if i == size - 1:\n",
        "                    result.append(node.val)\n",
        "                if node.left:\n",
        "                    queue.append(node.left)\n",
        "                if node.right:\n",
        "                    queue.append(node.right)\n",
        "        return result"
      ],
      "metadata": {
        "id": "mQsqemc8EQSQ"
      },
      "execution_count": 128,
      "outputs": []
    },
    {
      "cell_type": "markdown",
      "source": [
        "83. Given the root of a binary tree, return the average value of the nodes on each level in the form of an array. Answers within 10-5 of the actual answer will be accepted."
      ],
      "metadata": {
        "id": "r4sBhd46O5TZ"
      }
    },
    {
      "cell_type": "code",
      "source": [
        "class TreeNode:\n",
        "    def __init__(self, val=0, left=None, right=None):\n",
        "        self.val = val\n",
        "        self.left = left\n",
        "        self.right = right\n",
        "class Solution:\n",
        "    def averageOfLevels(self, root: TreeNode) -> List[float]:\n",
        "        if not root:\n",
        "            return []\n",
        "        queue = [root]\n",
        "        result = []\n",
        "        while queue:\n",
        "            size = len(queue)\n",
        "            level_sum = 0\n",
        "            for i in range(size):\n",
        "                node = queue.pop(0)\n",
        "                level_sum += node.val\n",
        "                if node.left:\n",
        "                    queue.append(node.left)\n",
        "                if node.right:\n",
        "                    queue.append(node.right)\n",
        "            result.append(level_sum / size)\n",
        "        return result"
      ],
      "metadata": {
        "id": "k-CEOB8zEQPn"
      },
      "execution_count": 129,
      "outputs": []
    },
    {
      "cell_type": "markdown",
      "source": [
        "84. Given the root of a binary tree, return the level order traversal of its nodes' values. (i.e., from left to right, level by level)."
      ],
      "metadata": {
        "id": "Y7mDAILSPTfc"
      }
    },
    {
      "cell_type": "code",
      "source": [
        "class TreeNode:\n",
        "    def __init__(self, val=0, left=None, right=None):\n",
        "        self.val = val\n",
        "        self.left = left\n",
        "        self.right = right\n",
        "class Solution:\n",
        "    def levelOrder(self, root: TreeNode) -> List[List[int]]:\n",
        "        if not root:\n",
        "            return []\n",
        "        queue = [root]\n",
        "        result = []\n",
        "        while queue:\n",
        "            size = len(queue)\n",
        "            level = []\n",
        "            for i in range(size):\n",
        "                node = queue.pop(0)\n",
        "                level.append(node.val)\n",
        "                if node.left:\n",
        "                    queue.append(node.left)\n",
        "                if node.right:\n",
        "                    queue.append(node.right)\n",
        "            result.append(level)\n",
        "        return result"
      ],
      "metadata": {
        "id": "REPirr2JPIwB"
      },
      "execution_count": 130,
      "outputs": []
    },
    {
      "cell_type": "code",
      "source": [],
      "metadata": {
        "id": "OOe3B5-ePItI"
      },
      "execution_count": null,
      "outputs": []
    },
    {
      "cell_type": "code",
      "source": [],
      "metadata": {
        "id": "9YISRQxvPIqa"
      },
      "execution_count": null,
      "outputs": []
    },
    {
      "cell_type": "code",
      "source": [],
      "metadata": {
        "id": "mvAxiqafPInc"
      },
      "execution_count": null,
      "outputs": []
    },
    {
      "cell_type": "code",
      "source": [],
      "metadata": {
        "id": "OZihN82zPIkt"
      },
      "execution_count": null,
      "outputs": []
    },
    {
      "cell_type": "code",
      "source": [],
      "metadata": {
        "id": "VuLQmAnfPIh6"
      },
      "execution_count": null,
      "outputs": []
    },
    {
      "cell_type": "code",
      "source": [],
      "metadata": {
        "id": "ztgxxk5YEQM2"
      },
      "execution_count": 128,
      "outputs": []
    },
    {
      "cell_type": "code",
      "source": [],
      "metadata": {
        "id": "aIj4pklvEQKE"
      },
      "execution_count": 128,
      "outputs": []
    },
    {
      "cell_type": "code",
      "source": [],
      "metadata": {
        "id": "njc_VjsFEQHc"
      },
      "execution_count": 128,
      "outputs": []
    },
    {
      "cell_type": "code",
      "source": [],
      "metadata": {
        "id": "c6aRdfNpEQEq"
      },
      "execution_count": 128,
      "outputs": []
    },
    {
      "cell_type": "code",
      "source": [],
      "metadata": {
        "id": "CKIMg_zqEQB7"
      },
      "execution_count": 128,
      "outputs": []
    },
    {
      "cell_type": "code",
      "source": [],
      "metadata": {
        "id": "JZckrrgWEP_J"
      },
      "execution_count": 128,
      "outputs": []
    },
    {
      "cell_type": "code",
      "source": [],
      "metadata": {
        "id": "Q_k8hNf9EP8X"
      },
      "execution_count": 128,
      "outputs": []
    },
    {
      "cell_type": "code",
      "source": [],
      "metadata": {
        "id": "vZwDi8J8EP5p"
      },
      "execution_count": 128,
      "outputs": []
    }
  ]
}