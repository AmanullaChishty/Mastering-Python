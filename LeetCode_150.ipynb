{
  "nbformat": 4,
  "nbformat_minor": 0,
  "metadata": {
    "colab": {
      "provenance": [],
      "authorship_tag": "ABX9TyMCiN5IizjqAQvmcfLyXfw0",
      "include_colab_link": true
    },
    "kernelspec": {
      "name": "python3",
      "display_name": "Python 3"
    },
    "language_info": {
      "name": "python"
    }
  },
  "cells": [
    {
      "cell_type": "markdown",
      "metadata": {
        "id": "view-in-github",
        "colab_type": "text"
      },
      "source": [
        "<a href=\"https://colab.research.google.com/github/AmanullaChishty/Mastering-Python/blob/main/LeetCode_150.ipynb\" target=\"_parent\"><img src=\"https://colab.research.google.com/assets/colab-badge.svg\" alt=\"Open In Colab\"/></a>"
      ]
    },
    {
      "cell_type": "markdown",
      "source": [
        "1. You are given two integer arrays nums1 and nums2, sorted in non-decreasing order, and two integers m and n, representing the number of elements in nums1 and nums2 respectively.\n",
        "\n",
        "  Merge nums1 and nums2 into a single array sorted in non-decreasing order.\n",
        "\n",
        "  The final sorted array should not be returned by the function, but instead be stored inside the array nums1. To accommodate this, nums1 has a length of m + n, where the first m elements denote the elements that should be merged, and the last n elements are set to 0 and should be ignored. nums2 has a length of n."
      ],
      "metadata": {
        "id": "rPQC36QuPUqU"
      }
    },
    {
      "cell_type": "code",
      "execution_count": 1,
      "metadata": {
        "id": "UfjXqVy4PApq"
      },
      "outputs": [],
      "source": [
        "from typing import List\n",
        "class Solution:\n",
        "    def merge(self, nums1: List[int], m: int, nums2: List[int], n: int) -> None:\n",
        "        nums1[:] = sorted(nums1[:m] + nums2)\n",
        "\n",
        "        return nums1"
      ]
    },
    {
      "cell_type": "code",
      "source": [
        "Solution.merge(1,[1,2,3,0,0,0],3,[2,5,6],3)"
      ],
      "metadata": {
        "colab": {
          "base_uri": "https://localhost:8080/"
        },
        "id": "w6ciduA3P4po",
        "outputId": "09768b13-efec-4fc6-8863-b8b8ec710362"
      },
      "execution_count": 2,
      "outputs": [
        {
          "output_type": "execute_result",
          "data": {
            "text/plain": [
              "[1, 2, 2, 3, 5, 6]"
            ]
          },
          "metadata": {},
          "execution_count": 2
        }
      ]
    },
    {
      "cell_type": "markdown",
      "source": [
        "2. Given an integer array nums and an integer val, remove all occurrences of val in nums in-place. The order of the elements may be changed. Then return the number of elements in nums which are not equal to val.\n",
        "\n",
        "  Consider the number of elements in nums which are not equal to val be k, to get accepted, you need to do the following things:\n",
        "\n",
        "  Change the array nums such that the first k elements of nums contain the elements which are not equal to val. The remaining elements of nums are not important as well as the size of nums."
      ],
      "metadata": {
        "id": "8PdpcPi4QT3F"
      }
    },
    {
      "cell_type": "code",
      "source": [
        "class Solution:\n",
        "    def removeElement(self, nums: List[int], val: int) -> int:\n",
        "        while val in nums:\n",
        "            nums.remove(val)\n",
        "        return len(nums)"
      ],
      "metadata": {
        "id": "pxnrhEkVQS-N"
      },
      "execution_count": 3,
      "outputs": []
    },
    {
      "cell_type": "code",
      "source": [
        "Solution.removeElement(1,[3,2,2,3],3)"
      ],
      "metadata": {
        "colab": {
          "base_uri": "https://localhost:8080/"
        },
        "id": "OhPkGR-eQ15M",
        "outputId": "cade3c28-4301-4a9d-e4bd-70c625c256d1"
      },
      "execution_count": 4,
      "outputs": [
        {
          "output_type": "execute_result",
          "data": {
            "text/plain": [
              "2"
            ]
          },
          "metadata": {},
          "execution_count": 4
        }
      ]
    },
    {
      "cell_type": "markdown",
      "source": [
        "3. Given an integer array nums sorted in non-decreasing order, remove the duplicates in-place such that each unique element appears only once. The relative order of the elements should be kept the same. Then return the number of unique elements in nums.\n",
        "\n",
        "  Consider the number of unique elements of nums to be k, to get accepted, you need to do the following things:\n",
        "\n",
        "  Change the array nums such that the first k elements of nums contain the unique elements in the order they were present in nums initially. The remaining elements of nums are not important as well as the size of nums.\n",
        "  Return k."
      ],
      "metadata": {
        "id": "cTCdsjW7U1Nm"
      }
    },
    {
      "cell_type": "code",
      "source": [
        "class Solution:\n",
        "    def removeDuplicates(self, nums: List[int]) -> int:\n",
        "        nums[:] = sorted(set(nums))\n",
        "        return len(nums)"
      ],
      "metadata": {
        "id": "48SuVacCU0ys"
      },
      "execution_count": 5,
      "outputs": []
    },
    {
      "cell_type": "code",
      "source": [
        "Solution.removeDuplicates(1,[1,1,2])"
      ],
      "metadata": {
        "colab": {
          "base_uri": "https://localhost:8080/"
        },
        "id": "xuMLS26LVi2p",
        "outputId": "62bedff1-455b-4f84-e7cd-fb0d78efe344"
      },
      "execution_count": 6,
      "outputs": [
        {
          "output_type": "execute_result",
          "data": {
            "text/plain": [
              "2"
            ]
          },
          "metadata": {},
          "execution_count": 6
        }
      ]
    },
    {
      "cell_type": "markdown",
      "source": [
        "4.Given an integer array nums sorted in non-decreasing order, remove some duplicates in-place such that each unique element appears at most twice. The relative order of the elements should be kept the same.\n",
        "\n",
        "  Since it is impossible to change the length of the array in some languages, you must instead have the result be placed in the first part of the array nums. More formally, if there are k elements after removing the duplicates, then the first k elements of nums should hold the final result. It does not matter what you leave beyond the first k elements.\n",
        "\n",
        "  Return k after placing the final result in the first k slots of nums.\n",
        "\n",
        "  Do not allocate extra space for another array. You must do this by modifying the input array in-place with O(1) extra memory."
      ],
      "metadata": {
        "id": "d3EaGlKRV3Oc"
      }
    },
    {
      "cell_type": "code",
      "source": [
        "class Solution:\n",
        "    def removeDuplicates(self, nums: List[int]) -> int:\n",
        "        i = 1\n",
        "        count = 1\n",
        "        for j in range(1, len(nums)):\n",
        "            if nums[j] == nums[j - 1]:\n",
        "                count += 1\n",
        "            else:\n",
        "                count = 1\n",
        "            if count <= 2:\n",
        "                nums[i] = nums[j]\n",
        "                i += 1\n",
        "        return i"
      ],
      "metadata": {
        "id": "IjHqdhyGV82g"
      },
      "execution_count": 7,
      "outputs": []
    },
    {
      "cell_type": "code",
      "source": [
        "Solution.removeDuplicates(1,[1,1,1,2,2,3])"
      ],
      "metadata": {
        "colab": {
          "base_uri": "https://localhost:8080/"
        },
        "id": "FG9PUIC8V9tb",
        "outputId": "bc176dc5-e820-4c17-ab8a-34b7d94f3554"
      },
      "execution_count": 8,
      "outputs": [
        {
          "output_type": "execute_result",
          "data": {
            "text/plain": [
              "5"
            ]
          },
          "metadata": {},
          "execution_count": 8
        }
      ]
    },
    {
      "cell_type": "markdown",
      "source": [
        "5. Given an array nums of size n, return the majority element.\n",
        "\n",
        "  The majority element is the element that appears more than ⌊n / 2⌋ times. You may assume that the majority element always exists in the array."
      ],
      "metadata": {
        "id": "K4Dy27wQkY-m"
      }
    },
    {
      "cell_type": "code",
      "source": [
        "class Solution:\n",
        "    def majorityElement(self, nums: List[int]) -> int:\n",
        "        nums.sort()\n",
        "        return nums[len(nums)//2]"
      ],
      "metadata": {
        "id": "7N6muZc2kT9W"
      },
      "execution_count": 9,
      "outputs": []
    },
    {
      "cell_type": "code",
      "source": [
        "Solution.majorityElement(1,[3,2,3])"
      ],
      "metadata": {
        "colab": {
          "base_uri": "https://localhost:8080/"
        },
        "id": "CkcOOoeakT6d",
        "outputId": "8a36ffc5-845c-4411-f15f-a6e3912e9a7d"
      },
      "execution_count": 10,
      "outputs": [
        {
          "output_type": "execute_result",
          "data": {
            "text/plain": [
              "3"
            ]
          },
          "metadata": {},
          "execution_count": 10
        }
      ]
    },
    {
      "cell_type": "markdown",
      "source": [
        "6. Given an integer array nums, rotate the array to the right by k steps, where k is non-negative."
      ],
      "metadata": {
        "id": "IZzayI4Ttmfb"
      }
    },
    {
      "cell_type": "code",
      "source": [
        "class Solution:\n",
        "    def rotate(self, nums: List[int], k: int) -> None:\n",
        "        k %= len(nums)\n",
        "        nums[:] = nums[-k:] + nums[:-k]"
      ],
      "metadata": {
        "id": "4lI9pFapkT3r"
      },
      "execution_count": 11,
      "outputs": []
    },
    {
      "cell_type": "code",
      "source": [
        "Solution.rotate(1,[1,2,3,4,5,6,7],3)"
      ],
      "metadata": {
        "id": "GhtO_AJTkT0L"
      },
      "execution_count": 12,
      "outputs": []
    },
    {
      "cell_type": "markdown",
      "source": [
        "7. You are given an array prices where prices[i] is the price of a given stock on the ith day.\n",
        "\n",
        "  You want to maximize your profit by choosing a single day to buy one stock and choosing a different day in the future to sell that stock.\n",
        "\n",
        "  Return the maximum profit you can achieve from this transaction. If you cannot achieve any profit, return 0."
      ],
      "metadata": {
        "id": "rt5Bf4jiySiY"
      }
    },
    {
      "cell_type": "code",
      "source": [
        "class Solution:\n",
        "    def maxProfit(self, prices: List[int]) -> int:\n",
        "        min_price = float('inf')\n",
        "        max_profit = 0\n",
        "        for price in prices:\n",
        "            if price < min_price:\n",
        "                min_price = price\n",
        "            elif price - min_price > max_profit:\n",
        "                max_profit = price - min_price\n",
        "        return max_profit"
      ],
      "metadata": {
        "id": "BJH2C2NmkTxN"
      },
      "execution_count": 13,
      "outputs": []
    },
    {
      "cell_type": "code",
      "source": [
        "Solution.maxProfit(1,[7,1,5,3,6,4])"
      ],
      "metadata": {
        "colab": {
          "base_uri": "https://localhost:8080/"
        },
        "id": "B9EGCv_2kTsF",
        "outputId": "944cbe59-86c0-49d1-bd98-40740b291204"
      },
      "execution_count": 14,
      "outputs": [
        {
          "output_type": "execute_result",
          "data": {
            "text/plain": [
              "5"
            ]
          },
          "metadata": {},
          "execution_count": 14
        }
      ]
    },
    {
      "cell_type": "markdown",
      "source": [
        "8. You are given an integer array prices where prices[i] is the price of a given stock on the ith day.\n",
        "\n",
        "  On each day, you may decide to buy and/or sell the stock. You can only hold at most one share of the stock at any time. However, you can buy it then immediately sell it on the same day.\n",
        "\n",
        "  Find and return the maximum profit you can achieve."
      ],
      "metadata": {
        "id": "5dvsf1wazlZS"
      }
    },
    {
      "cell_type": "code",
      "source": [
        "class Solution:\n",
        "    def maxProfit(self, prices: List[int]) -> int:\n",
        "        max_profit = 0\n",
        "        for i in range(1, len(prices)):\n",
        "            if prices[i] > prices[i - 1]:\n",
        "                max_profit += prices[i] - prices[i - 1]\n",
        "        return max_profit"
      ],
      "metadata": {
        "id": "CvFkgiXJkTo8"
      },
      "execution_count": 15,
      "outputs": []
    },
    {
      "cell_type": "code",
      "source": [
        "Solution.maxProfit(1,[7,6,4,3,1])"
      ],
      "metadata": {
        "colab": {
          "base_uri": "https://localhost:8080/"
        },
        "id": "VacrLdIukTlk",
        "outputId": "f372b688-e7e1-42d6-ee22-c774cb49c5a5"
      },
      "execution_count": 16,
      "outputs": [
        {
          "output_type": "execute_result",
          "data": {
            "text/plain": [
              "0"
            ]
          },
          "metadata": {},
          "execution_count": 16
        }
      ]
    },
    {
      "cell_type": "markdown",
      "source": [
        "9. You are given an integer array nums. You are initially positioned at the array's first index, and each element in the array represents your maximum jump length at that position.\n",
        "\n",
        "  Return true if you can reach the last index, or false otherwise."
      ],
      "metadata": {
        "id": "TaxRI5e2gN8V"
      }
    },
    {
      "cell_type": "code",
      "source": [
        "class Solution:\n",
        "    def canJump(self, nums: List[int]) -> bool:\n",
        "        n = len(nums)\n",
        "        max_reach = 0\n",
        "        for i in range(n):\n",
        "            if i > max_reach:\n",
        "                return False\n",
        "            max_reach = max(max_reach, i + nums[i])\n",
        "            if max_reach >= n - 1:\n",
        "                return True\n",
        "        return False"
      ],
      "metadata": {
        "id": "AtKi93eGkThm"
      },
      "execution_count": 17,
      "outputs": []
    },
    {
      "cell_type": "code",
      "source": [
        "Solution.canJump(1,[2,3,1,1,4])"
      ],
      "metadata": {
        "colab": {
          "base_uri": "https://localhost:8080/"
        },
        "id": "6vi3FE4ZkTeN",
        "outputId": "f9b68761-58e0-4bd9-b7e5-e6e42e568743"
      },
      "execution_count": 18,
      "outputs": [
        {
          "output_type": "execute_result",
          "data": {
            "text/plain": [
              "True"
            ]
          },
          "metadata": {},
          "execution_count": 18
        }
      ]
    },
    {
      "cell_type": "markdown",
      "source": [
        "10. You are given a 0-indexed array of integers nums of length n. You are initially positioned at nums[0].\n",
        "\n",
        "  Each element nums[i] represents the maximum length of a forward jump from index i. In other words, if you are at nums[i], you can jump to any nums[i + j] where:\n",
        "\n",
        "  0 <= j <= nums[i] and\n",
        "  i + j < n\n",
        "  Return the minimum number of jumps to reach nums[n - 1]. The test cases are generated such that you can reach nums[n - 1]."
      ],
      "metadata": {
        "id": "G4LKKJOVhYKJ"
      }
    },
    {
      "cell_type": "code",
      "source": [
        "class Solution:\n",
        "    def jump(self, nums: List[int]) -> int:\n",
        "      n = len(nums)\n",
        "      jumps = 0\n",
        "      current_jump_end = 0\n",
        "      farthest = 0\n",
        "      for i in range(n - 1):\n",
        "        farthest = max(farthest, i + nums[i])\n",
        "        if i == current_jump_end:\n",
        "          jumps += 1\n",
        "          current_jump_end = farthest\n",
        "      return jumps"
      ],
      "metadata": {
        "id": "PC9PBWQCkTaT"
      },
      "execution_count": 19,
      "outputs": []
    },
    {
      "cell_type": "code",
      "source": [
        "Solution.jump(1,[2,3,1,1,4])"
      ],
      "metadata": {
        "colab": {
          "base_uri": "https://localhost:8080/"
        },
        "id": "Bi931zdMkTUa",
        "outputId": "f574a3c0-37fb-4fe9-92c7-e7d89e792517"
      },
      "execution_count": 20,
      "outputs": [
        {
          "output_type": "execute_result",
          "data": {
            "text/plain": [
              "2"
            ]
          },
          "metadata": {},
          "execution_count": 20
        }
      ]
    },
    {
      "cell_type": "markdown",
      "source": [
        "11. Given an array of integers citations where citations[i] is the number of citations a researcher received for their ith paper, return the researcher's h-index.\n",
        "\n",
        "  According to the definition of h-index on Wikipedia: The h-index is defined as the maximum value of h such that the given researcher has published at least h papers that have each been cited at least h times."
      ],
      "metadata": {
        "id": "v3UQ-BNyQe5m"
      }
    },
    {
      "cell_type": "code",
      "source": [
        "class Solution:\n",
        "    def hIndex(self, citations: List[int]) -> int:\n",
        "        citations.sort()\n",
        "        n = len(citations)\n",
        "        for i in range(n):\n",
        "            if citations[i] >= n - i:\n",
        "                return n - i\n",
        "        return 0"
      ],
      "metadata": {
        "id": "-1JSf8bOQV5q"
      },
      "execution_count": 21,
      "outputs": []
    },
    {
      "cell_type": "code",
      "source": [
        "Solution.hIndex(1,[3,0,6,1,5])"
      ],
      "metadata": {
        "colab": {
          "base_uri": "https://localhost:8080/"
        },
        "id": "SO1CfdKNQV2x",
        "outputId": "9c31fe84-b9ac-4d61-8a46-78923e44e041"
      },
      "execution_count": 22,
      "outputs": [
        {
          "output_type": "execute_result",
          "data": {
            "text/plain": [
              "3"
            ]
          },
          "metadata": {},
          "execution_count": 22
        }
      ]
    },
    {
      "cell_type": "markdown",
      "source": [
        "12. Implement the RandomizedSet class:\n",
        "\n",
        "  RandomizedSet() Initializes the RandomizedSet object.\n",
        "  bool insert(int val) Inserts an item val into the set if not present. Returns true if the item was not present, false otherwise.\n",
        "  bool remove(int val) Removes an item val from the set if present. Returns true if the item was present, false otherwise.\n",
        "  int getRandom() Returns a random element from the current set of elements (it's guaranteed that at least one element exists when this method is called). Each element must have the same probability of being returned.\n",
        "  You must implement the functions of the class such that each function works in average O(1) time complexity."
      ],
      "metadata": {
        "id": "ihJTGhv2Wf5Z"
      }
    },
    {
      "cell_type": "code",
      "source": [
        "class RandomizedSet:\n",
        "\n",
        "    def __init__(self):\n",
        "        self.ran = set()\n",
        "\n",
        "\n",
        "    def insert(self, val: int) -> bool:\n",
        "        if val not in self.ran:\n",
        "            self.ran.add(val)\n",
        "            return True\n",
        "        else:\n",
        "            return False\n",
        "\n",
        "\n",
        "    def remove(self, val: int) -> bool:\n",
        "        if val in self.ran:\n",
        "            self.ran.remove(val)\n",
        "            return True\n",
        "        else:\n",
        "            return False\n",
        "\n",
        "\n",
        "\n",
        "    def getRandom(self) -> int:\n",
        "        return random.choice(list(self.ran))\n",
        "\n",
        "\n",
        "\n",
        "# Your RandomizedSet object will be instantiated and called as such:\n",
        "# obj = RandomizedSet()\n",
        "# param_1 = obj.insert(val)\n",
        "# param_2 = obj.remove(val)\n",
        "# param_3 = obj.getRandom()"
      ],
      "metadata": {
        "id": "U7vStTjPQV0D"
      },
      "execution_count": 23,
      "outputs": []
    },
    {
      "cell_type": "markdown",
      "source": [
        "13. Given an integer array nums, return an array answer such that answer[i] is equal to the product of all the elements of nums except nums[i].\n",
        "\n",
        "  The product of any prefix or suffix of nums is guaranteed to fit in a 32-bit integer.\n",
        "\n",
        "  You must write an algorithm that runs in O(n) time and without using the division operation."
      ],
      "metadata": {
        "id": "V72RtH9Wjwvd"
      }
    },
    {
      "cell_type": "code",
      "source": [
        "from typing import List\n",
        "class Solution:\n",
        "    def productExceptSelf(self, nums: List[int]) -> List[int]:\n",
        "      n = len(nums)\n",
        "      left = [1] * n\n",
        "      right = [1] * n\n",
        "      answer = [1] * n\n",
        "      for i in range(1, n):\n",
        "        left[i] = left[i - 1] * nums[i - 1]\n",
        "      for i in range(n - 2, -1, -1):\n",
        "        right[i] = right[i + 1] * nums[i + 1]\n",
        "      for i in range(n):\n",
        "        answer[i] = left[i] * right[i]\n",
        "      return answer"
      ],
      "metadata": {
        "id": "CMud5OanYldB"
      },
      "execution_count": 24,
      "outputs": []
    },
    {
      "cell_type": "code",
      "source": [
        "Solution.productExceptSelf(1,[1,2,3,4])"
      ],
      "metadata": {
        "colab": {
          "base_uri": "https://localhost:8080/"
        },
        "id": "VzF5c3I2QVrM",
        "outputId": "b1021b64-0887-4975-ea3a-4d61796a297b"
      },
      "execution_count": 25,
      "outputs": [
        {
          "output_type": "execute_result",
          "data": {
            "text/plain": [
              "[24, 12, 8, 6]"
            ]
          },
          "metadata": {},
          "execution_count": 25
        }
      ]
    },
    {
      "cell_type": "markdown",
      "source": [
        "14. There are n gas stations along a circular route, where the amount of gas at the ith station is gas[i].\n",
        "\n",
        "  You have a car with an unlimited gas tank and it costs cost[i] of gas to travel from the ith station to its next (i + 1)th station. You begin the journey with an empty tank at one of the gas stations.\n",
        "\n",
        "  Given two integer arrays gas and cost, return the starting gas station's index if you can travel around the circuit once in the clockwise direction, otherwise return -1. If there exists a solution, it is guaranteed to be unique.\n",
        "\n"
      ],
      "metadata": {
        "id": "_lxfzXH6k1f-"
      }
    },
    {
      "cell_type": "code",
      "source": [
        "class Solution:\n",
        "    def canCompleteCircuit(self, gas: List[int], cost: List[int]) -> int:\n",
        "        n = len(gas)\n",
        "        total_tank = 0\n",
        "        current_tank = 0\n",
        "        starting_station = 0\n",
        "        for i in range(n):\n",
        "            total_tank += gas[i] - cost[i]\n",
        "            current_tank += gas[i] - cost[i]\n",
        "            if current_tank < 0:\n",
        "                starting_station = i + 1\n",
        "                current_tank = 0\n",
        "        return starting_station if total_tank >= 0 else -1"
      ],
      "metadata": {
        "id": "lbVijO4pQVoY"
      },
      "execution_count": 26,
      "outputs": []
    },
    {
      "cell_type": "code",
      "source": [
        "Solution.canCompleteCircuit(1,[1,2,3,4,5],[3,4,5,1,2])"
      ],
      "metadata": {
        "colab": {
          "base_uri": "https://localhost:8080/"
        },
        "id": "Hr-c6TziQVla",
        "outputId": "003b18c6-ae9d-4c7a-98b8-8e46093b2669"
      },
      "execution_count": 27,
      "outputs": [
        {
          "output_type": "execute_result",
          "data": {
            "text/plain": [
              "3"
            ]
          },
          "metadata": {},
          "execution_count": 27
        }
      ]
    },
    {
      "cell_type": "markdown",
      "source": [
        "15. There are n children standing in a line. Each child is assigned a rating value given in the integer array ratings.\n",
        "\n",
        "  You are giving candies to these children subjected to the following requirements:\n",
        "\n",
        "  Each child must have at least one candy.\n",
        "  Children with a higher rating get more candies than their neighbors.\n",
        "  Return the minimum number of candies you need to have to distribute the candies to the children."
      ],
      "metadata": {
        "id": "k-K3Hhgpiozh"
      }
    },
    {
      "cell_type": "code",
      "source": [
        "class Solution:\n",
        "    def candy(self, ratings: List[int]) -> int:\n",
        "        n = len(ratings)\n",
        "        candies = [1] * n\n",
        "        for i in range(1, n):\n",
        "            if ratings[i] > ratings[i - 1]:\n",
        "                candies[i] = candies[i - 1] + 1\n",
        "        for i in range(n - 2, -1, -1):\n",
        "            if ratings[i] > ratings[i + 1]:\n",
        "                candies[i] = max(candies[i], candies[i + 1] + 1)\n",
        "        return sum(candies)\n"
      ],
      "metadata": {
        "id": "hzMPegwGWbwz"
      },
      "execution_count": 28,
      "outputs": []
    },
    {
      "cell_type": "code",
      "source": [
        "Solution.candy(1,[1,0,2])"
      ],
      "metadata": {
        "id": "SupHX4SyWbrM",
        "colab": {
          "base_uri": "https://localhost:8080/"
        },
        "outputId": "2e0cf6b3-1efd-4b64-d89f-6a05fc8bfbb5"
      },
      "execution_count": 29,
      "outputs": [
        {
          "output_type": "execute_result",
          "data": {
            "text/plain": [
              "5"
            ]
          },
          "metadata": {},
          "execution_count": 29
        }
      ]
    },
    {
      "cell_type": "markdown",
      "source": [
        "16. Given n non-negative integers representing an elevation map where the width of each bar is 1, compute how much water it can trap after raining."
      ],
      "metadata": {
        "id": "gr-5BEefmSJO"
      }
    },
    {
      "cell_type": "code",
      "source": [
        "class Solution:\n",
        "    def trap(self, height: List[int]) -> int:\n",
        "        if not height:\n",
        "            return 0\n",
        "        n = len(height)\n",
        "        left_max = [0] * n\n",
        "        right_max = [0] * n\n",
        "        left_max[0] = height[0]\n",
        "        for i in range(1, n):\n",
        "            left_max[i] = max(left_max[i - 1], height[i])\n",
        "        right_max[n - 1] = height[n - 1]\n",
        "        for i in range(n - 2, -1, -1):\n",
        "            right_max[i] = max(right_max[i + 1], height[i])\n",
        "        water = 0\n",
        "        for i in range(n):\n",
        "            water += min(left_max[i], right_max[i]) - height[i]\n",
        "        return water\n"
      ],
      "metadata": {
        "id": "2WY5Vmj7Wboe"
      },
      "execution_count": 30,
      "outputs": []
    },
    {
      "cell_type": "code",
      "source": [
        "Solution.trap(1,[0,1,0,2,1,0,1,3,2,1,2,1])"
      ],
      "metadata": {
        "id": "5SuzM6CrWbl3",
        "colab": {
          "base_uri": "https://localhost:8080/"
        },
        "outputId": "22a1ac99-2d5b-4e43-dbf0-4b24f24c2365"
      },
      "execution_count": 31,
      "outputs": [
        {
          "output_type": "execute_result",
          "data": {
            "text/plain": [
              "6"
            ]
          },
          "metadata": {},
          "execution_count": 31
        }
      ]
    },
    {
      "cell_type": "markdown",
      "source": [
        "17. Roman numerals are represented by seven different symbols: I, V, X, L, C, D and M.\n",
        "\n",
        "  Symbol       Value\n",
        "  I             1\n",
        "  V             5\n",
        "  X             10\n",
        "  L             50\n",
        "  C             100\n",
        "  D             500\n",
        "  M             1000\n",
        "  For example, 2 is written as II in Roman numeral, just two ones added together. 12 is written as XII, which is simply X + II. The number 27 is written as XXVII, which is XX + V + II.\n",
        "\n",
        "  Roman numerals are usually written largest to smallest from left to right. However, the numeral for four is not IIII. Instead, the number four is written as IV. Because the one is before the five we subtract it making four. The same principle applies to the number nine, which is written as IX. There are six instances where subtraction is used:\n",
        "\n",
        "  I can be placed before V (5) and X (10) to make 4 and 9.\n",
        "  X can be placed before L (50) and C (100) to make 40 and 90.\n",
        "  C can be placed before D (500) and M (1000) to make 400 and 900.\n",
        "  Given a roman numeral, convert it to an integer."
      ],
      "metadata": {
        "id": "z_KYbQno2Js7"
      }
    },
    {
      "cell_type": "code",
      "source": [
        "class Solution:\n",
        "    def romanToInt(self, s: str) -> int:\n",
        "        roman_map = {'I': 1, 'V': 5, 'X': 10, 'L': 50, 'C': 100, 'D': 500, 'M': 1000}\n",
        "        result = 0\n",
        "        i = 0\n",
        "        while i < len(s):\n",
        "            if i + 1 < len(s) and roman_map[s[i]] < roman_map[s[i + 1]]:\n",
        "                result += roman_map[s[i + 1]] - roman_map[s[i]]\n",
        "                i += 2\n",
        "            else:\n",
        "                result += roman_map[s[i]]\n",
        "                i += 1\n",
        "        return result"
      ],
      "metadata": {
        "id": "rcP8c4yx1_LT"
      },
      "execution_count": 32,
      "outputs": []
    },
    {
      "cell_type": "code",
      "source": [
        "Solution.romanToInt(1,\"MCMXCIV\")"
      ],
      "metadata": {
        "colab": {
          "base_uri": "https://localhost:8080/"
        },
        "id": "57bb-W4r1_D7",
        "outputId": "4ff6ff36-1b10-4277-f9fe-60ae44a4c8b0"
      },
      "execution_count": 33,
      "outputs": [
        {
          "output_type": "execute_result",
          "data": {
            "text/plain": [
              "1994"
            ]
          },
          "metadata": {},
          "execution_count": 33
        }
      ]
    },
    {
      "cell_type": "markdown",
      "source": [
        "18. Seven different symbols represent Roman numerals with the following values:\n",
        "\n",
        "  Symbol\tValue\n",
        "  I\t1\n",
        "  V\t5\n",
        "  X\t10\n",
        "  L\t50\n",
        "  C\t100\n",
        "  D\t500\n",
        "  M\t1000\n",
        "  Roman numerals are formed by appending the conversions of decimal place values from highest to lowest. Converting a decimal place value into a Roman numeral has the following rules:\n",
        "\n",
        "  If the value does not start with 4 or 9, select the symbol of the maximal value that can be subtracted from the input, append that symbol to the result, subtract its value, and convert the remainder to a Roman numeral.\n",
        "  If the value starts with 4 or 9 use the subtractive form representing one symbol subtracted from the following symbol, for example, 4 is 1 (I) less than 5 (V): IV and 9 is 1 (I) less than 10 (X): IX. Only the following subtractive forms are used: 4 (IV), 9 (IX), 40 (XL), 90 (XC), 400 (CD) and 900 (CM).\n",
        "  Only powers of 10 (I, X, C, M) can be appended consecutively at most 3 times to represent multiples of 10. You cannot append 5 (V), 50 (L), or 500 (D) multiple times. If you need to append a symbol 4 times use the subtractive form.\n",
        "  Given an integer, convert it to a Roman numeral."
      ],
      "metadata": {
        "id": "OmPJYwGg3ZtU"
      }
    },
    {
      "cell_type": "code",
      "source": [
        "class Solution:\n",
        "    def intToRoman(self, num: int) -> str:\n",
        "        values = [1000, 900, 500, 400, 100, 90, 50, 40, 10, 9, 5, 4, 1]\n",
        "        symbols = [\"M\", \"CM\", \"D\", \"CD\", \"C\", \"XC\", \"L\", \"XL\", \"X\", \"IX\", \"V\", \"IV\", \"I\"]\n",
        "        roman = \"\"\n",
        "        for i in range(len(values)):\n",
        "            while num >= values[i]:\n",
        "                roman += symbols[i]\n",
        "                num -= values[i]\n",
        "        return roman"
      ],
      "metadata": {
        "id": "AnGiAHaw1_A6"
      },
      "execution_count": 34,
      "outputs": []
    },
    {
      "cell_type": "code",
      "source": [
        "Solution.intToRoman(1,58)"
      ],
      "metadata": {
        "colab": {
          "base_uri": "https://localhost:8080/",
          "height": 35
        },
        "id": "kPFQ2wsK1-7D",
        "outputId": "a990251a-a432-487a-bdbe-40aab9d1f82a"
      },
      "execution_count": 35,
      "outputs": [
        {
          "output_type": "execute_result",
          "data": {
            "text/plain": [
              "'LVIII'"
            ],
            "application/vnd.google.colaboratory.intrinsic+json": {
              "type": "string"
            }
          },
          "metadata": {},
          "execution_count": 35
        }
      ]
    },
    {
      "cell_type": "markdown",
      "source": [
        "19. Given a string s consisting of words and spaces, return the length of the last word in the string.\n",
        "\n",
        "  A word is a maximal\n",
        "  substring\n",
        "  consisting of non-space characters only."
      ],
      "metadata": {
        "id": "dqZpRVgcmi0M"
      }
    },
    {
      "cell_type": "code",
      "source": [
        "class Solution:\n",
        "    def lengthOfLastWord(self, s: str) -> int:\n",
        "        words = s.split()\n",
        "        if not words:\n",
        "            return 0\n",
        "        return len(words[-1])"
      ],
      "metadata": {
        "id": "8AdAl2rc1-4B"
      },
      "execution_count": 36,
      "outputs": []
    },
    {
      "cell_type": "code",
      "source": [
        "Solution.lengthOfLastWord(1,\"Hello World\")"
      ],
      "metadata": {
        "id": "as5TsGK81-1O",
        "colab": {
          "base_uri": "https://localhost:8080/"
        },
        "outputId": "dd18e0e5-96cd-412d-db5e-ddcd38597c6d"
      },
      "execution_count": 37,
      "outputs": [
        {
          "output_type": "execute_result",
          "data": {
            "text/plain": [
              "5"
            ]
          },
          "metadata": {},
          "execution_count": 37
        }
      ]
    },
    {
      "cell_type": "markdown",
      "source": [
        "20. Write a function to find the longest common prefix string amongst an array of strings.\n",
        "\n",
        "  If there is no common prefix, return an empty string \"\"."
      ],
      "metadata": {
        "id": "h44E16GknT5K"
      }
    },
    {
      "cell_type": "code",
      "source": [
        "class Solution:\n",
        "    def longestCommonPrefix(self, strs: List[str]) -> str:\n",
        "        if not strs:\n",
        "            return \"\"\n",
        "        prefix = strs[0]\n",
        "        for i in range(1, len(strs)):\n",
        "            while strs[i].find(prefix) != 0:\n",
        "                prefix = prefix[:-1]\n",
        "                if not prefix:\n",
        "                    return \"\"\n",
        "        return prefix"
      ],
      "metadata": {
        "id": "faRMCH1-1-yN"
      },
      "execution_count": 38,
      "outputs": []
    },
    {
      "cell_type": "code",
      "source": [
        "Solution.longestCommonPrefix(1,[\"flower\",\"flow\",\"flight\"])"
      ],
      "metadata": {
        "id": "DOSwkr1Y1-vd",
        "colab": {
          "base_uri": "https://localhost:8080/",
          "height": 35
        },
        "outputId": "25d40b67-35f5-4eb4-de7e-a84686e645b1"
      },
      "execution_count": 39,
      "outputs": [
        {
          "output_type": "execute_result",
          "data": {
            "text/plain": [
              "'fl'"
            ],
            "application/vnd.google.colaboratory.intrinsic+json": {
              "type": "string"
            }
          },
          "metadata": {},
          "execution_count": 39
        }
      ]
    },
    {
      "cell_type": "markdown",
      "source": [
        "21. Given an input string s, reverse the order of the words.\n",
        "\n",
        "  A word is defined as a sequence of non-space characters. The words in s will be separated by at least one space.\n",
        "\n",
        "  Return a string of the words in reverse order concatenated by a single space.\n",
        "\n",
        "  Note that s may contain leading or trailing spaces or multiple spaces between two words. The returned string should only have a single space separating the words. Do not include any extra spaces."
      ],
      "metadata": {
        "id": "NM97QSZ7u1zo"
      }
    },
    {
      "cell_type": "code",
      "source": [
        "class Solution:\n",
        "    def reverseWords(self, s: str) -> str:\n",
        "        words = s.split()\n",
        "        reversed_words = words[::-1]\n",
        "        return \" \".join(reversed_words)"
      ],
      "metadata": {
        "id": "Idc7hm7w1-sf"
      },
      "execution_count": 40,
      "outputs": []
    },
    {
      "cell_type": "code",
      "source": [
        "Solution.reverseWords(1,\"  hello world  \")"
      ],
      "metadata": {
        "id": "PUM0SDFJ1-pd",
        "colab": {
          "base_uri": "https://localhost:8080/",
          "height": 35
        },
        "outputId": "eedc44d8-bd3f-4c9f-cf30-df1fd4b49e3d"
      },
      "execution_count": 41,
      "outputs": [
        {
          "output_type": "execute_result",
          "data": {
            "text/plain": [
              "'world hello'"
            ],
            "application/vnd.google.colaboratory.intrinsic+json": {
              "type": "string"
            }
          },
          "metadata": {},
          "execution_count": 41
        }
      ]
    },
    {
      "cell_type": "markdown",
      "source": [
        "22. The string \"PAYPALISHIRING\" is written in a zigzag pattern on a given number of rows like this: (you may want to display this pattern in a fixed font for better legibility)\n",
        "\n",
        "  P   A   H   N\n",
        "  A P L S I I G\n",
        "  Y   I   R\n",
        "  And then read line by line: \"PAHNAPLSIIGYIR\"\n",
        "\n",
        "  Write the code that will take a string and make this conversion given a number of rows:\n",
        "\n",
        "  string convert(string s, int numRows);"
      ],
      "metadata": {
        "id": "-VWFkkmpvwIM"
      }
    },
    {
      "cell_type": "code",
      "source": [
        "from typing import List\n",
        "class Solution:\n",
        "    def convert(self, s: str, numRows: int) -> str:\n",
        "        if numRows == 1:\n",
        "            return s\n",
        "        rows = [\"\"] * min(numRows, len(s))\n",
        "        current_row = 0\n",
        "        going_down = False\n",
        "        for char in s:\n",
        "            rows[current_row] += char\n",
        "            if current_row == 0 or current_row == numRows - 1:\n",
        "                going_down = not going_down\n",
        "            if going_down:\n",
        "                current_row += 1\n",
        "            else:\n",
        "                current_row -= 1\n",
        "        return \"\".join(rows)"
      ],
      "metadata": {
        "id": "003hFlKNvv0_"
      },
      "execution_count": 42,
      "outputs": []
    },
    {
      "cell_type": "code",
      "source": [
        "Solution.convert(1,\"PAYPALISHIRING\",3)"
      ],
      "metadata": {
        "colab": {
          "base_uri": "https://localhost:8080/",
          "height": 35
        },
        "id": "O1iyc7phvvyG",
        "outputId": "306584c3-c2f3-4662-cd8d-b78d1ecc1198"
      },
      "execution_count": 43,
      "outputs": [
        {
          "output_type": "execute_result",
          "data": {
            "text/plain": [
              "'PAHNAPLSIIGYIR'"
            ],
            "application/vnd.google.colaboratory.intrinsic+json": {
              "type": "string"
            }
          },
          "metadata": {},
          "execution_count": 43
        }
      ]
    },
    {
      "cell_type": "markdown",
      "source": [
        "23. Given two strings needle and haystack, return the index of the first occurrence of needle in haystack, or -1 if needle is not part of haystack."
      ],
      "metadata": {
        "id": "gheKm33entVO"
      }
    },
    {
      "cell_type": "code",
      "source": [
        "class Solution:\n",
        "    def strStr(self, haystack: str, needle: str) -> int:\n",
        "        if not needle:\n",
        "            return 0\n",
        "        for i in range(len(haystack) - len(needle) + 1):\n",
        "            if haystack[i:i+len(needle)] == needle:\n",
        "                return i\n",
        "        return -1"
      ],
      "metadata": {
        "id": "voBpGZvMvvve"
      },
      "execution_count": 44,
      "outputs": []
    },
    {
      "cell_type": "code",
      "source": [
        "Solution.strStr(1,\"sadbutsad\",\"sad\")"
      ],
      "metadata": {
        "id": "9qm6Rs2Bvvsp",
        "colab": {
          "base_uri": "https://localhost:8080/"
        },
        "outputId": "1ca5adb6-a9a4-4afe-ccf8-782d6ffe1481"
      },
      "execution_count": 45,
      "outputs": [
        {
          "output_type": "execute_result",
          "data": {
            "text/plain": [
              "0"
            ]
          },
          "metadata": {},
          "execution_count": 45
        }
      ]
    },
    {
      "cell_type": "markdown",
      "source": [
        "24. Given an array of strings words and a width maxWidth, format the text such that each line has exactly maxWidth characters and is fully (left and right) justified.\n",
        "\n",
        "  You should pack your words in a greedy approach; that is, pack as many words as you can in each line. Pad extra spaces ' ' when necessary so that each line has exactly maxWidth characters.\n",
        "\n",
        "  Extra spaces between words should be distributed as evenly as possible. If the number of spaces on a line does not divide evenly between words, the empty slots on the left will be assigned more spaces than the slots on the right.\n",
        "\n",
        "  For the last line of text, it should be left-justified, and no extra space is inserted between words.\n",
        "\n",
        "  Note:\n",
        "\n",
        "  A word is defined as a character sequence consisting of non-space characters only.\n",
        "  Each word's length is guaranteed to be greater than 0 and not exceed maxWidth.\n",
        "  The input array words contains at least one word."
      ],
      "metadata": {
        "id": "RhDuQ8wjoXtc"
      }
    },
    {
      "cell_type": "code",
      "source": [
        "from typing import List\n",
        "class Solution:\n",
        "  def fullJustify(self, words: List[str], maxWidth: int) -> List[str]:\n",
        "    res, cur_len, cur_words = [], 0, []\n",
        "    for word in words:\n",
        "      if cur_len + len(word) + len(cur_words) > maxWidth:\n",
        "        for i in range(maxWidth - cur_len):\n",
        "          cur_words[i % (len(cur_words) - 1 or 1)] += ' '\n",
        "        res.append(\"\".join(cur_words))\n",
        "        cur_len, cur_words = 0, []\n",
        "      cur_len += len(word)\n",
        "      cur_words.append(word)\n",
        "\n",
        "    res.append(\" \".join(cur_words).ljust(maxWidth))\n",
        "    return res"
      ],
      "metadata": {
        "id": "eOTljunyvvqA"
      },
      "execution_count": 46,
      "outputs": []
    },
    {
      "cell_type": "code",
      "source": [
        "Solution.fullJustify(1,[\"This\", \"is\", \"an\", \"example\", \"of\", \"text\", \"justification.\"],16)"
      ],
      "metadata": {
        "colab": {
          "base_uri": "https://localhost:8080/"
        },
        "id": "J948vkjJot1-",
        "outputId": "32cc4b7f-2e39-4389-db7b-427ebce070d6"
      },
      "execution_count": 47,
      "outputs": [
        {
          "output_type": "execute_result",
          "data": {
            "text/plain": [
              "['This    is    an', 'example  of text', 'justification.  ']"
            ]
          },
          "metadata": {},
          "execution_count": 47
        }
      ]
    },
    {
      "cell_type": "markdown",
      "source": [
        "25. A phrase is a palindrome if, after converting all uppercase letters into lowercase letters and removing all non-alphanumeric characters, it reads the same forward and backward. Alphanumeric characters include letters and numbers.\n",
        "\n",
        "  Given a string s, return true if it is a palindrome, or false otherwise."
      ],
      "metadata": {
        "id": "JSjbANDFHCLG"
      }
    },
    {
      "cell_type": "code",
      "source": [
        "class Solution:\n",
        "    def isPalindrome(self, s: str) -> bool:\n",
        "        s = ''.join(filter(str.isalnum, s)).lower()\n",
        "        return s == s[::-1]"
      ],
      "metadata": {
        "id": "nra_Cb-iotzL"
      },
      "execution_count": 48,
      "outputs": []
    },
    {
      "cell_type": "code",
      "source": [
        "Solution.isPalindrome(1,\"A man, a plan, a canal: Panama\")"
      ],
      "metadata": {
        "colab": {
          "base_uri": "https://localhost:8080/"
        },
        "id": "t1ewU1HZotwp",
        "outputId": "90ee17fb-cfbf-450b-80c1-5f530f4c1cfb"
      },
      "execution_count": 49,
      "outputs": [
        {
          "output_type": "execute_result",
          "data": {
            "text/plain": [
              "True"
            ]
          },
          "metadata": {},
          "execution_count": 49
        }
      ]
    },
    {
      "cell_type": "markdown",
      "source": [
        "26. Given two strings s and t, return true if s is a subsequence of t, or false otherwise.\n",
        "\n",
        "  A subsequence of a string is a new string that is formed from the original string by deleting some (can be none) of the characters without disturbing the relative positions of the remaining characters. (i.e., \"ace\" is a subsequence of \"abcde\" while \"aec\" is not)."
      ],
      "metadata": {
        "id": "QeLgr634JbJR"
      }
    },
    {
      "cell_type": "code",
      "source": [
        "class Solution:\n",
        "    def isSubsequence(self, s: str, t: str) -> bool:\n",
        "        i, j = 0, 0\n",
        "        while i < len(s) and j < len(t):\n",
        "            if s[i] == t[j]:\n",
        "                i += 1\n",
        "            j += 1\n",
        "        return i == len(s)"
      ],
      "metadata": {
        "id": "ES5jZKttJa4M"
      },
      "execution_count": 50,
      "outputs": []
    },
    {
      "cell_type": "code",
      "source": [
        "Solution.isSubsequence(1,\"ab\",\"baab\")"
      ],
      "metadata": {
        "colab": {
          "base_uri": "https://localhost:8080/"
        },
        "id": "VOdtCc2XJa1W",
        "outputId": "59167d1f-40e3-4423-cc5f-1b857e30081b"
      },
      "execution_count": 51,
      "outputs": [
        {
          "output_type": "execute_result",
          "data": {
            "text/plain": [
              "True"
            ]
          },
          "metadata": {},
          "execution_count": 51
        }
      ]
    },
    {
      "cell_type": "markdown",
      "source": [
        "27. Given a 1-indexed array of integers numbers that is already sorted in non-decreasing order, find two numbers such that they add up to a specific target number. Let these two numbers be numbers[index1] and numbers[index2] where 1 <= index1 < index2 <= numbers.length.\n",
        "\n",
        "  Return the indices of the two numbers, index1 and index2, added by one as an integer array [index1, index2] of length 2.\n",
        "\n",
        "  The tests are generated such that there is exactly one solution. You may not use the same element twice.\n",
        "\n",
        "  Your solution must use only constant extra space."
      ],
      "metadata": {
        "id": "VMOEy3MqKi8u"
      }
    },
    {
      "cell_type": "code",
      "source": [
        "from typing import List\n",
        "class Solution:\n",
        "    def twoSum(self, numbers: List[int], target: int) -> List[int]:\n",
        "        left, right = 0, len(numbers) - 1\n",
        "        while left < right:\n",
        "            current_sum = numbers[left] + numbers[right]\n",
        "            if current_sum == target:\n",
        "                return [left + 1, right + 1]\n",
        "            elif current_sum < target:\n",
        "                left += 1\n",
        "            else:\n",
        "                right -= 1\n",
        "        return []\n"
      ],
      "metadata": {
        "id": "64KNjUgjJaMk"
      },
      "execution_count": 52,
      "outputs": []
    },
    {
      "cell_type": "code",
      "source": [
        "Solution.twoSum(1,[2,7,11,15],9)"
      ],
      "metadata": {
        "colab": {
          "base_uri": "https://localhost:8080/"
        },
        "id": "hA-TQ1WmK_GT",
        "outputId": "adf56938-5433-4391-eecc-46be3450a82d"
      },
      "execution_count": 53,
      "outputs": [
        {
          "output_type": "execute_result",
          "data": {
            "text/plain": [
              "[1, 2]"
            ]
          },
          "metadata": {},
          "execution_count": 53
        }
      ]
    },
    {
      "cell_type": "markdown",
      "source": [
        "28. You are given an integer array height of length n. There are n vertical lines drawn such that the two endpoints of the ith line are (i, 0) and (i, height[i]).\n",
        "\n",
        "  Find two lines that together with the x-axis form a container, such that the container contains the most water.\n",
        "\n",
        "  Return the maximum amount of water a container can store.\n",
        "\n",
        "  Notice that you may not slant the container."
      ],
      "metadata": {
        "id": "_3tPSH8DLy7r"
      }
    },
    {
      "cell_type": "code",
      "source": [
        "class Solution:\n",
        "    def maxArea(self, height: List[int]) -> int:\n",
        "        max_area = 0\n",
        "        left = 0\n",
        "        right = len(height) - 1\n",
        "        while left < right:\n",
        "            area = min(height[left], height[right]) * (right - left)\n",
        "            max_area = max(max_area, area)\n",
        "            if height[left]<height[right]:\n",
        "                left+=1\n",
        "            else:\n",
        "                right -= 1\n",
        "        return max_area"
      ],
      "metadata": {
        "id": "eJo6itaXK_DQ"
      },
      "execution_count": 54,
      "outputs": []
    },
    {
      "cell_type": "markdown",
      "source": [
        "29. Given an integer array nums, return all the triplets [nums[i], nums[j], nums[k]] such that i != j, i != k, and j != k, and nums[i] + nums[j] + nums[k] == 0.\n",
        "\n",
        "Notice that the solution set must not contain duplicate triplets."
      ],
      "metadata": {
        "id": "rzZFJ6iZZxvL"
      }
    },
    {
      "cell_type": "code",
      "source": [
        "from typing import List\n",
        "class Solution:\n",
        "    def threeSum(self, nums: List[int]) -> List[List[int]]:\n",
        "        n = len(nums)\n",
        "        result = []\n",
        "        nums.sort()\n",
        "        for i in range(n - 2):\n",
        "            if i > 0 and nums[i] == nums[i - 1]:\n",
        "                continue\n",
        "            left = i + 1\n",
        "            right = n - 1\n",
        "            while left < right:\n",
        "                total = nums[i] + nums[left] + nums[right]\n",
        "                if total == 0:\n",
        "                    result.append([nums[i], nums[left], nums[right]])\n",
        "                    while left < right and nums[left] == nums[left + 1]:\n",
        "                        left += 1\n",
        "                    while left < right and nums[right] == nums[right - 1]:\n",
        "                        right -= 1\n",
        "                    left += 1\n",
        "                    right -= 1\n",
        "                elif total < 0:\n",
        "                    left += 1\n",
        "                else:\n",
        "                    right -= 1\n",
        "        return result"
      ],
      "metadata": {
        "id": "fJM4SPQ-ZxaN"
      },
      "execution_count": 55,
      "outputs": []
    },
    {
      "cell_type": "code",
      "source": [
        "Solution.threeSum(1,[-1,0,1,2,-1,-4])"
      ],
      "metadata": {
        "id": "iygWihP2K-9G",
        "colab": {
          "base_uri": "https://localhost:8080/"
        },
        "outputId": "5a70db0f-d8d7-4c1c-ecb0-50e08a4d9932"
      },
      "execution_count": 56,
      "outputs": [
        {
          "output_type": "execute_result",
          "data": {
            "text/plain": [
              "[[-1, -1, 2], [-1, 0, 1]]"
            ]
          },
          "metadata": {},
          "execution_count": 56
        }
      ]
    },
    {
      "cell_type": "markdown",
      "source": [
        "30. Given an array of positive integers nums and a positive integer target, return the minimal length of a\n",
        "subarray\n",
        " whose sum is greater than or equal to target. If there is no such subarray, return 0 instead."
      ],
      "metadata": {
        "id": "lIxZ1jFwaZDw"
      }
    },
    {
      "cell_type": "code",
      "source": [
        "class Solution:\n",
        "    def minSubArrayLen(self, target: int, nums: List[int]) -> int:\n",
        "        min_length = float('inf')\n",
        "        current_sum = 0\n",
        "        left = 0\n",
        "        for right in range(len(nums)):\n",
        "            current_sum += nums[right]\n",
        "            while current_sum >= target:\n",
        "                min_length = min(min_length, right - left + 1)\n",
        "                current_sum -= nums[left]\n",
        "                left += 1\n",
        "        return 0 if min_length == float('inf') else min_length"
      ],
      "metadata": {
        "id": "fcmM9ghAaYx0"
      },
      "execution_count": 57,
      "outputs": []
    },
    {
      "cell_type": "code",
      "source": [
        "Solution.minSubArrayLen(1,7,[2,3,1,2,4,3])"
      ],
      "metadata": {
        "id": "hQs6jVswK-6W",
        "colab": {
          "base_uri": "https://localhost:8080/"
        },
        "outputId": "884939b8-3621-405e-d821-4548005718e9"
      },
      "execution_count": 58,
      "outputs": [
        {
          "output_type": "execute_result",
          "data": {
            "text/plain": [
              "2"
            ]
          },
          "metadata": {},
          "execution_count": 58
        }
      ]
    },
    {
      "cell_type": "markdown",
      "source": [
        "31. Given a string s, find the length of the longest\n",
        "substring\n",
        " without repeating characters."
      ],
      "metadata": {
        "id": "KNza3KS3t2pJ"
      }
    },
    {
      "cell_type": "code",
      "source": [
        "class Solution:\n",
        "    def lengthOfLongestSubstring(self, s: str) -> int:\n",
        "        n = len(s)\n",
        "        longest = 0\n",
        "        left = 0\n",
        "        seen = set()\n",
        "        for right in range(n):\n",
        "            while s[right] in seen:\n",
        "                seen.remove(s[left])\n",
        "                left += 1\n",
        "            seen.add(s[right])\n",
        "            longest = max(longest, right - left + 1)\n",
        "        return longest\n"
      ],
      "metadata": {
        "id": "kFlaBhMWMDRZ"
      },
      "execution_count": 59,
      "outputs": []
    },
    {
      "cell_type": "code",
      "source": [
        "Solution.lengthOfLongestSubstring(1,\"abcabcbb\")"
      ],
      "metadata": {
        "id": "L4gSn50uMDOV",
        "colab": {
          "base_uri": "https://localhost:8080/"
        },
        "outputId": "28c5a54e-d818-48b9-adea-3bb3ae110eac"
      },
      "execution_count": 60,
      "outputs": [
        {
          "output_type": "execute_result",
          "data": {
            "text/plain": [
              "3"
            ]
          },
          "metadata": {},
          "execution_count": 60
        }
      ]
    },
    {
      "cell_type": "markdown",
      "source": [
        "32. You are given a string s and an array of strings words. All the strings of words are of the same length.\n",
        "\n",
        "  A concatenated string is a string that exactly contains all the strings of any permutation of words concatenated.\n",
        "\n",
        "  For example, if words = [\"ab\",\"cd\",\"ef\"], then \"abcdef\", \"abefcd\", \"cdabef\", \"cdefab\", \"efabcd\", and \"efcdab\" are all concatenated strings. \"acdbef\" is not a concatenated string because it is not the concatenation of any permutation of words.\n",
        "  Return an array of the starting indices of all the concatenated substrings in s. You can return the answer in any order."
      ],
      "metadata": {
        "id": "vASLx1PBupSx"
      }
    },
    {
      "cell_type": "code",
      "source": [
        "from typing import List\n",
        "\n",
        "\n",
        "class Solution:\n",
        "    def findSubstring(self, s: str, words: List[str]) -> List[int]:\n",
        "        if not words:\n",
        "            return []\n",
        "        word_length = len(words[0])\n",
        "        word_count = len(words)\n",
        "        total_length = word_length * word_count\n",
        "        word_freq = {}\n",
        "        for word in words:\n",
        "            word_freq[word] = word_freq.get(word, 0) + 1\n",
        "\n",
        "        result = []\n",
        "        for i in range(len(s) - total_length + 1):\n",
        "            substring = s[i:i + total_length]\n",
        "            current_freq = {}\n",
        "            for j in range(0, total_length, word_length):\n",
        "                word = substring[j:j + word_length]\n",
        "                current_freq[word] = current_freq.get(word, 0) + 1\n",
        "\n",
        "            if current_freq == word_freq:\n",
        "                result.append(i)\n",
        "\n",
        "        return result"
      ],
      "metadata": {
        "id": "-4eD5_2BupBQ"
      },
      "execution_count": 61,
      "outputs": []
    },
    {
      "cell_type": "code",
      "source": [
        "Solution.findSubstring(1,\"barfoothefoobarman\",[\"foo\",\"bar\"])"
      ],
      "metadata": {
        "id": "XH3yacxYMDIO",
        "colab": {
          "base_uri": "https://localhost:8080/"
        },
        "outputId": "0861f7fe-680a-41de-8d0e-f197e6cb1353"
      },
      "execution_count": 62,
      "outputs": [
        {
          "output_type": "execute_result",
          "data": {
            "text/plain": [
              "[0, 9]"
            ]
          },
          "metadata": {},
          "execution_count": 62
        }
      ]
    },
    {
      "cell_type": "markdown",
      "source": [
        "33. Given two strings s and t of lengths m and n respectively, return the minimum window\n",
        "substring\n",
        " of s such that every character in t (including duplicates) is included in the window. If there is no such substring, return the empty string \"\".\n",
        "\n",
        "  The testcases will be generated such that the answer is unique."
      ],
      "metadata": {
        "id": "zCWm4Eapd4S8"
      }
    },
    {
      "cell_type": "code",
      "source": [
        "from typing import List\n",
        "class Solution:\n",
        "    def minWindow(self, s: str, t: str) -> str:\n",
        "        if not t or not s:\n",
        "            return \"\"\n",
        "        t_freq = {}\n",
        "        for char in t:\n",
        "            t_freq[char] = t_freq.get(char, 0) + 1\n",
        "        required = len(t_freq)\n",
        "        left = 0\n",
        "        formed = 0\n",
        "        window_freq = {}\n",
        "        result = float('inf'), None, None\n",
        "        for right in range(len(s)):\n",
        "            char = s[right]\n",
        "            window_freq[char] = window_freq.get(char, 0) + 1\n",
        "            if char in t_freq and window_freq[char] == t_freq[char]:\n",
        "                formed += 1\n",
        "            while left <= right and formed == required:\n",
        "                char = s[left]\n",
        "                if right - left + 1 < result[0]:\n",
        "                    result = (right - left + 1, left, right)\n",
        "                window_freq[char] -= 1\n",
        "                if char in t_freq and window_freq[char] < t_freq[char]:\n",
        "                    formed -= 1\n",
        "                left += 1\n",
        "        return \"\" if result[0] == float('inf') else s[result[1]:result[2] + 1]"
      ],
      "metadata": {
        "id": "868TtSLcMDFF"
      },
      "execution_count": 63,
      "outputs": []
    },
    {
      "cell_type": "code",
      "source": [
        "Solution.minWindow(1,\"ADOBECODEBANC\",\"ABC\")"
      ],
      "metadata": {
        "colab": {
          "base_uri": "https://localhost:8080/",
          "height": 35
        },
        "id": "fOKhj2TbdtCV",
        "outputId": "f5c1ee91-fbf0-435d-9414-606a4bfa3949"
      },
      "execution_count": 64,
      "outputs": [
        {
          "output_type": "execute_result",
          "data": {
            "text/plain": [
              "'BANC'"
            ],
            "application/vnd.google.colaboratory.intrinsic+json": {
              "type": "string"
            }
          },
          "metadata": {},
          "execution_count": 64
        }
      ]
    },
    {
      "cell_type": "markdown",
      "source": [
        "34. Determine if a 9 x 9 Sudoku board is valid. Only the filled cells need to be validated according to the following rules:\n",
        "\n",
        "  Each row must contain the digits 1-9 without repetition.\n",
        "  Each column must contain the digits 1-9 without repetition.\n",
        "  Each of the nine 3 x 3 sub-boxes of the grid must contain the digits 1-9 without repetition.\n",
        "  Note:\n",
        "\n",
        "  A Sudoku board (partially filled) could be valid but is not necessarily solvable.\n",
        "  Only the filled cells need to be validated according to the mentioned rules."
      ],
      "metadata": {
        "id": "QLMcRftYgac_"
      }
    },
    {
      "cell_type": "code",
      "source": [
        "class Solution:\n",
        "    def isValidSudoku(self, board: List[List[str]]) -> bool:\n",
        "        # Check rows\n",
        "        for row in board:\n",
        "            row_values = [x for x in row if x != '.']\n",
        "            if len(row_values) != len(set(row_values)):\n",
        "                return False\n",
        "\n",
        "        # Check columns\n",
        "        for i in range(9):\n",
        "            col_values = [board[j][i] for j in range(9) if board[j][i] != '.']\n",
        "            if len(col_values) != len(set(col_values)):\n",
        "                return False\n",
        "\n",
        "        # Check 3x3 sub-boxes\n",
        "        for i in range(0, 9, 3):\n",
        "            for j in range(0, 9, 3):\n",
        "                sub_box = [board[x][y] for x in range(i, i+3) for y in range(j, j+3) if board[x][y] !=                              '.']\n",
        "                if len(sub_box) != len(set(sub_box)):\n",
        "                    return False\n",
        "\n",
        "        return True"
      ],
      "metadata": {
        "id": "lr2fmjkTgaRs"
      },
      "execution_count": 65,
      "outputs": []
    },
    {
      "cell_type": "markdown",
      "source": [
        "35. Given an m x n matrix, return all elements of the matrix in spiral order."
      ],
      "metadata": {
        "id": "PxKK_U4xxssc"
      }
    },
    {
      "cell_type": "code",
      "source": [
        "class Solution:\n",
        "    def spiralOrder(self, matrix: List[List[int]]) -> List[int]:\n",
        "        result = []\n",
        "        if not matrix:\n",
        "            return result\n",
        "\n",
        "        top, bottom = 0, len(matrix) - 1\n",
        "        left, right = 0, len(matrix[0]) - 1\n",
        "\n",
        "        while top <= bottom and left <= right:\n",
        "            # Traverse from left to right along the top row\n",
        "            for i in range(left, right + 1):\n",
        "                result.append(matrix[top][i])\n",
        "            top += 1\n",
        "\n",
        "            # Traverse from top to bottom along the right column\n",
        "            for i in range(top, bottom + 1):\n",
        "                result.append(matrix[i][right])\n",
        "            right -= 1\n",
        "\n",
        "            if top <= bottom:\n",
        "                # Traverse from right to left along the bottom row\n",
        "                for i in range(right, left - 1, -1):\n",
        "                    result.append(matrix[bottom][i])\n",
        "                bottom -= 1\n",
        "\n",
        "            if left <= right:\n",
        "                # Traverse from bottom to top along the left column\n",
        "                for i in range(bottom, top - 1, -1):\n",
        "                    result.append(matrix[i][left])\n",
        "                left += 1\n",
        "\n",
        "        return result\n"
      ],
      "metadata": {
        "id": "MVmWBU7EgaPJ"
      },
      "execution_count": 66,
      "outputs": []
    },
    {
      "cell_type": "code",
      "source": [
        "Solution.spiralOrder(1,[[1,2,3],[4,5,6],[7,8,9]])"
      ],
      "metadata": {
        "colab": {
          "base_uri": "https://localhost:8080/"
        },
        "id": "B_bRVR-nds8G",
        "outputId": "cae00d8e-2607-4a00-8fc8-29a2a2d825a3"
      },
      "execution_count": 67,
      "outputs": [
        {
          "output_type": "execute_result",
          "data": {
            "text/plain": [
              "[1, 2, 3, 6, 9, 8, 7, 4, 5]"
            ]
          },
          "metadata": {},
          "execution_count": 67
        }
      ]
    },
    {
      "cell_type": "markdown",
      "source": [
        "36. You are given an n x n 2D matrix representing an image, rotate the image by 90 degrees (clockwise).\n",
        "\n",
        "  You have to rotate the image in-place, which means you have to modify the input 2D matrix directly. DO NOT allocate another 2D matrix and do the rotation.\n",
        "\n",
        "\n"
      ],
      "metadata": {
        "id": "iJbTsla9y24f"
      }
    },
    {
      "cell_type": "code",
      "source": [
        "class Solution:\n",
        "    def rotate(self, matrix: List[List[int]]) -> None:\n",
        "        n = len(matrix)\n",
        "        for i in range(n // 2):\n",
        "            for j in range(i, n - i - 1):\n",
        "                temp = matrix[i][j]\n",
        "                matrix[i][j] = matrix[n - 1 - j][i]\n",
        "                matrix[n - 1 - j][i] = matrix[n - 1 - i][n - 1 - j]\n",
        "                matrix[n - 1 - i][n - 1 - j] = matrix[j][n - 1 - i]\n",
        "                matrix[j][n - 1 - i] = temp\n",
        ""
      ],
      "metadata": {
        "id": "rLIW3Ol3ds5A"
      },
      "execution_count": 65,
      "outputs": []
    },
    {
      "cell_type": "code",
      "source": [],
      "metadata": {
        "id": "0ro2yFtvdszT"
      },
      "execution_count": 65,
      "outputs": []
    }
  ]
}