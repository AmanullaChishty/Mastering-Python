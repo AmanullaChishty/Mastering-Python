{
  "nbformat": 4,
  "nbformat_minor": 0,
  "metadata": {
    "colab": {
      "provenance": [],
      "authorship_tag": "ABX9TyM42LvYaUdyMaADuaUlLind",
      "include_colab_link": true
    },
    "kernelspec": {
      "name": "python3",
      "display_name": "Python 3"
    },
    "language_info": {
      "name": "python"
    }
  },
  "cells": [
    {
      "cell_type": "markdown",
      "metadata": {
        "id": "view-in-github",
        "colab_type": "text"
      },
      "source": [
        "<a href=\"https://colab.research.google.com/github/AmanullaChishty/Mastering-Python/blob/main/LeetCode_150.ipynb\" target=\"_parent\"><img src=\"https://colab.research.google.com/assets/colab-badge.svg\" alt=\"Open In Colab\"/></a>"
      ]
    },
    {
      "cell_type": "markdown",
      "source": [
        "1. You are given two integer arrays nums1 and nums2, sorted in non-decreasing order, and two integers m and n, representing the number of elements in nums1 and nums2 respectively.\n",
        "\n",
        "  Merge nums1 and nums2 into a single array sorted in non-decreasing order.\n",
        "\n",
        "  The final sorted array should not be returned by the function, but instead be stored inside the array nums1. To accommodate this, nums1 has a length of m + n, where the first m elements denote the elements that should be merged, and the last n elements are set to 0 and should be ignored. nums2 has a length of n."
      ],
      "metadata": {
        "id": "rPQC36QuPUqU"
      }
    },
    {
      "cell_type": "code",
      "execution_count": 1,
      "metadata": {
        "id": "UfjXqVy4PApq"
      },
      "outputs": [],
      "source": [
        "from typing import List\n",
        "class Solution:\n",
        "    def merge(self, nums1: List[int], m: int, nums2: List[int], n: int) -> None:\n",
        "        nums1[:] = sorted(nums1[:m] + nums2)\n",
        "\n",
        "        return nums1"
      ]
    },
    {
      "cell_type": "code",
      "source": [
        "Solution.merge(1,[1,2,3,0,0,0],3,[2,5,6],3)"
      ],
      "metadata": {
        "colab": {
          "base_uri": "https://localhost:8080/"
        },
        "id": "w6ciduA3P4po",
        "outputId": "02075276-1965-4e88-b3d7-d094ab2901e1"
      },
      "execution_count": 2,
      "outputs": [
        {
          "output_type": "execute_result",
          "data": {
            "text/plain": [
              "[1, 2, 2, 3, 5, 6]"
            ]
          },
          "metadata": {},
          "execution_count": 2
        }
      ]
    },
    {
      "cell_type": "markdown",
      "source": [
        "2. Given an integer array nums and an integer val, remove all occurrences of val in nums in-place. The order of the elements may be changed. Then return the number of elements in nums which are not equal to val.\n",
        "\n",
        "  Consider the number of elements in nums which are not equal to val be k, to get accepted, you need to do the following things:\n",
        "\n",
        "  Change the array nums such that the first k elements of nums contain the elements which are not equal to val. The remaining elements of nums are not important as well as the size of nums."
      ],
      "metadata": {
        "id": "8PdpcPi4QT3F"
      }
    },
    {
      "cell_type": "code",
      "source": [
        "class Solution:\n",
        "    def removeElement(self, nums: List[int], val: int) -> int:\n",
        "        while val in nums:\n",
        "            nums.remove(val)\n",
        "        return len(nums)"
      ],
      "metadata": {
        "id": "pxnrhEkVQS-N"
      },
      "execution_count": 3,
      "outputs": []
    },
    {
      "cell_type": "code",
      "source": [
        "Solution.removeElement(1,[3,2,2,3],3)"
      ],
      "metadata": {
        "colab": {
          "base_uri": "https://localhost:8080/"
        },
        "id": "OhPkGR-eQ15M",
        "outputId": "c3d07c28-2e1e-4294-b7f3-129b4459fafe"
      },
      "execution_count": 4,
      "outputs": [
        {
          "output_type": "execute_result",
          "data": {
            "text/plain": [
              "2"
            ]
          },
          "metadata": {},
          "execution_count": 4
        }
      ]
    },
    {
      "cell_type": "markdown",
      "source": [
        "3. Given an integer array nums sorted in non-decreasing order, remove the duplicates in-place such that each unique element appears only once. The relative order of the elements should be kept the same. Then return the number of unique elements in nums.\n",
        "\n",
        "  Consider the number of unique elements of nums to be k, to get accepted, you need to do the following things:\n",
        "\n",
        "  Change the array nums such that the first k elements of nums contain the unique elements in the order they were present in nums initially. The remaining elements of nums are not important as well as the size of nums.\n",
        "  Return k."
      ],
      "metadata": {
        "id": "cTCdsjW7U1Nm"
      }
    },
    {
      "cell_type": "code",
      "source": [
        "class Solution:\n",
        "    def removeDuplicates(self, nums: List[int]) -> int:\n",
        "        nums[:] = sorted(set(nums))\n",
        "        return len(nums)"
      ],
      "metadata": {
        "id": "48SuVacCU0ys"
      },
      "execution_count": 5,
      "outputs": []
    },
    {
      "cell_type": "code",
      "source": [
        "Solution.removeDuplicates(1,[1,1,2])"
      ],
      "metadata": {
        "colab": {
          "base_uri": "https://localhost:8080/"
        },
        "id": "xuMLS26LVi2p",
        "outputId": "b6fe24fc-e242-4f25-ce79-300b9516fc3f"
      },
      "execution_count": 6,
      "outputs": [
        {
          "output_type": "execute_result",
          "data": {
            "text/plain": [
              "2"
            ]
          },
          "metadata": {},
          "execution_count": 6
        }
      ]
    },
    {
      "cell_type": "markdown",
      "source": [
        "4.Given an integer array nums sorted in non-decreasing order, remove some duplicates in-place such that each unique element appears at most twice. The relative order of the elements should be kept the same.\n",
        "\n",
        "  Since it is impossible to change the length of the array in some languages, you must instead have the result be placed in the first part of the array nums. More formally, if there are k elements after removing the duplicates, then the first k elements of nums should hold the final result. It does not matter what you leave beyond the first k elements.\n",
        "\n",
        "  Return k after placing the final result in the first k slots of nums.\n",
        "\n",
        "  Do not allocate extra space for another array. You must do this by modifying the input array in-place with O(1) extra memory."
      ],
      "metadata": {
        "id": "d3EaGlKRV3Oc"
      }
    },
    {
      "cell_type": "code",
      "source": [
        "class Solution:\n",
        "    def removeDuplicates(self, nums: List[int]) -> int:\n",
        "        i = 1\n",
        "        count = 1\n",
        "        for j in range(1, len(nums)):\n",
        "            if nums[j] == nums[j - 1]:\n",
        "                count += 1\n",
        "            else:\n",
        "                count = 1\n",
        "            if count <= 2:\n",
        "                nums[i] = nums[j]\n",
        "                i += 1\n",
        "        return i"
      ],
      "metadata": {
        "id": "IjHqdhyGV82g"
      },
      "execution_count": 7,
      "outputs": []
    },
    {
      "cell_type": "code",
      "source": [
        "Solution.removeDuplicates(1,[1,1,1,2,2,3])"
      ],
      "metadata": {
        "colab": {
          "base_uri": "https://localhost:8080/"
        },
        "id": "FG9PUIC8V9tb",
        "outputId": "a9affbe0-b966-4886-e373-5813a9cbd9cf"
      },
      "execution_count": 8,
      "outputs": [
        {
          "output_type": "execute_result",
          "data": {
            "text/plain": [
              "5"
            ]
          },
          "metadata": {},
          "execution_count": 8
        }
      ]
    },
    {
      "cell_type": "markdown",
      "source": [
        "5. Given an array nums of size n, return the majority element.\n",
        "\n",
        "  The majority element is the element that appears more than ⌊n / 2⌋ times. You may assume that the majority element always exists in the array."
      ],
      "metadata": {
        "id": "K4Dy27wQkY-m"
      }
    },
    {
      "cell_type": "code",
      "source": [
        "class Solution:\n",
        "    def majorityElement(self, nums: List[int]) -> int:\n",
        "        nums.sort()\n",
        "        return nums[len(nums)//2]"
      ],
      "metadata": {
        "id": "7N6muZc2kT9W"
      },
      "execution_count": 9,
      "outputs": []
    },
    {
      "cell_type": "code",
      "source": [
        "Solution.majorityElement(1,[3,2,3])"
      ],
      "metadata": {
        "colab": {
          "base_uri": "https://localhost:8080/"
        },
        "id": "CkcOOoeakT6d",
        "outputId": "86e204fb-7ef0-4fa9-b644-d54a6e99e396"
      },
      "execution_count": 10,
      "outputs": [
        {
          "output_type": "execute_result",
          "data": {
            "text/plain": [
              "3"
            ]
          },
          "metadata": {},
          "execution_count": 10
        }
      ]
    },
    {
      "cell_type": "markdown",
      "source": [
        "6. Given an integer array nums, rotate the array to the right by k steps, where k is non-negative."
      ],
      "metadata": {
        "id": "IZzayI4Ttmfb"
      }
    },
    {
      "cell_type": "code",
      "source": [
        "class Solution:\n",
        "    def rotate(self, nums: List[int], k: int) -> None:\n",
        "        k %= len(nums)\n",
        "        nums[:] = nums[-k:] + nums[:-k]"
      ],
      "metadata": {
        "id": "4lI9pFapkT3r"
      },
      "execution_count": 11,
      "outputs": []
    },
    {
      "cell_type": "code",
      "source": [
        "Solution.rotate(1,[1,2,3,4,5,6,7],3)"
      ],
      "metadata": {
        "id": "GhtO_AJTkT0L"
      },
      "execution_count": 12,
      "outputs": []
    },
    {
      "cell_type": "markdown",
      "source": [
        "7. You are given an array prices where prices[i] is the price of a given stock on the ith day.\n",
        "\n",
        "  You want to maximize your profit by choosing a single day to buy one stock and choosing a different day in the future to sell that stock.\n",
        "\n",
        "  Return the maximum profit you can achieve from this transaction. If you cannot achieve any profit, return 0."
      ],
      "metadata": {
        "id": "rt5Bf4jiySiY"
      }
    },
    {
      "cell_type": "code",
      "source": [
        "class Solution:\n",
        "    def maxProfit(self, prices: List[int]) -> int:\n",
        "        min_price = float('inf')\n",
        "        max_profit = 0\n",
        "        for price in prices:\n",
        "            if price < min_price:\n",
        "                min_price = price\n",
        "            elif price - min_price > max_profit:\n",
        "                max_profit = price - min_price\n",
        "        return max_profit"
      ],
      "metadata": {
        "id": "BJH2C2NmkTxN"
      },
      "execution_count": 13,
      "outputs": []
    },
    {
      "cell_type": "code",
      "source": [
        "Solution.maxProfit(1,[7,1,5,3,6,4])"
      ],
      "metadata": {
        "colab": {
          "base_uri": "https://localhost:8080/"
        },
        "id": "B9EGCv_2kTsF",
        "outputId": "bdfe927d-8210-40fc-8a7b-e43a90c15fe1"
      },
      "execution_count": 14,
      "outputs": [
        {
          "output_type": "execute_result",
          "data": {
            "text/plain": [
              "5"
            ]
          },
          "metadata": {},
          "execution_count": 14
        }
      ]
    },
    {
      "cell_type": "markdown",
      "source": [
        "8. You are given an integer array prices where prices[i] is the price of a given stock on the ith day.\n",
        "\n",
        "  On each day, you may decide to buy and/or sell the stock. You can only hold at most one share of the stock at any time. However, you can buy it then immediately sell it on the same day.\n",
        "\n",
        "  Find and return the maximum profit you can achieve."
      ],
      "metadata": {
        "id": "5dvsf1wazlZS"
      }
    },
    {
      "cell_type": "code",
      "source": [
        "class Solution:\n",
        "    def maxProfit(self, prices: List[int]) -> int:\n",
        "        max_profit = 0\n",
        "        for i in range(1, len(prices)):\n",
        "            if prices[i] > prices[i - 1]:\n",
        "                max_profit += prices[i] - prices[i - 1]\n",
        "        return max_profit"
      ],
      "metadata": {
        "id": "CvFkgiXJkTo8"
      },
      "execution_count": 15,
      "outputs": []
    },
    {
      "cell_type": "code",
      "source": [
        "Solution.maxProfit(1,[7,6,4,3,1])"
      ],
      "metadata": {
        "colab": {
          "base_uri": "https://localhost:8080/"
        },
        "id": "VacrLdIukTlk",
        "outputId": "cf647b99-2cca-431c-99e3-b1107b2d6d48"
      },
      "execution_count": 16,
      "outputs": [
        {
          "output_type": "execute_result",
          "data": {
            "text/plain": [
              "0"
            ]
          },
          "metadata": {},
          "execution_count": 16
        }
      ]
    },
    {
      "cell_type": "markdown",
      "source": [
        "9. You are given an integer array nums. You are initially positioned at the array's first index, and each element in the array represents your maximum jump length at that position.\n",
        "\n",
        "  Return true if you can reach the last index, or false otherwise."
      ],
      "metadata": {
        "id": "TaxRI5e2gN8V"
      }
    },
    {
      "cell_type": "code",
      "source": [
        "class Solution:\n",
        "    def canJump(self, nums: List[int]) -> bool:\n",
        "        n = len(nums)\n",
        "        max_reach = 0\n",
        "        for i in range(n):\n",
        "            if i > max_reach:\n",
        "                return False\n",
        "            max_reach = max(max_reach, i + nums[i])\n",
        "            if max_reach >= n - 1:\n",
        "                return True\n",
        "        return False"
      ],
      "metadata": {
        "id": "AtKi93eGkThm"
      },
      "execution_count": 17,
      "outputs": []
    },
    {
      "cell_type": "code",
      "source": [
        "Solution.canJump(1,[2,3,1,1,4])"
      ],
      "metadata": {
        "colab": {
          "base_uri": "https://localhost:8080/"
        },
        "id": "6vi3FE4ZkTeN",
        "outputId": "5372da9b-76e0-4067-fcad-a4cf9f79c60f"
      },
      "execution_count": 18,
      "outputs": [
        {
          "output_type": "execute_result",
          "data": {
            "text/plain": [
              "True"
            ]
          },
          "metadata": {},
          "execution_count": 18
        }
      ]
    },
    {
      "cell_type": "markdown",
      "source": [
        "10. You are given a 0-indexed array of integers nums of length n. You are initially positioned at nums[0].\n",
        "\n",
        "  Each element nums[i] represents the maximum length of a forward jump from index i. In other words, if you are at nums[i], you can jump to any nums[i + j] where:\n",
        "\n",
        "  0 <= j <= nums[i] and\n",
        "  i + j < n\n",
        "  Return the minimum number of jumps to reach nums[n - 1]. The test cases are generated such that you can reach nums[n - 1]."
      ],
      "metadata": {
        "id": "G4LKKJOVhYKJ"
      }
    },
    {
      "cell_type": "code",
      "source": [
        "class Solution:\n",
        "    def jump(self, nums: List[int]) -> int:\n",
        "      n = len(nums)\n",
        "      jumps = 0\n",
        "      current_jump_end = 0\n",
        "      farthest = 0\n",
        "      for i in range(n - 1):\n",
        "        farthest = max(farthest, i + nums[i])\n",
        "        if i == current_jump_end:\n",
        "          jumps += 1\n",
        "          current_jump_end = farthest\n",
        "      return jumps"
      ],
      "metadata": {
        "id": "PC9PBWQCkTaT"
      },
      "execution_count": 19,
      "outputs": []
    },
    {
      "cell_type": "code",
      "source": [
        "Solution.jump(1,[2,3,1,1,4])"
      ],
      "metadata": {
        "colab": {
          "base_uri": "https://localhost:8080/"
        },
        "id": "Bi931zdMkTUa",
        "outputId": "1b8895d4-4325-4d4e-8d00-317face4a47f"
      },
      "execution_count": 20,
      "outputs": [
        {
          "output_type": "execute_result",
          "data": {
            "text/plain": [
              "2"
            ]
          },
          "metadata": {},
          "execution_count": 20
        }
      ]
    },
    {
      "cell_type": "markdown",
      "source": [
        "11. Given an array of integers citations where citations[i] is the number of citations a researcher received for their ith paper, return the researcher's h-index.\n",
        "\n",
        "  According to the definition of h-index on Wikipedia: The h-index is defined as the maximum value of h such that the given researcher has published at least h papers that have each been cited at least h times."
      ],
      "metadata": {
        "id": "v3UQ-BNyQe5m"
      }
    },
    {
      "cell_type": "code",
      "source": [
        "class Solution:\n",
        "    def hIndex(self, citations: List[int]) -> int:\n",
        "        citations.sort()\n",
        "        n = len(citations)\n",
        "        for i in range(n):\n",
        "            if citations[i] >= n - i:\n",
        "                return n - i\n",
        "        return 0"
      ],
      "metadata": {
        "id": "-1JSf8bOQV5q"
      },
      "execution_count": 21,
      "outputs": []
    },
    {
      "cell_type": "code",
      "source": [
        "Solution.hIndex(1,[3,0,6,1,5])"
      ],
      "metadata": {
        "colab": {
          "base_uri": "https://localhost:8080/"
        },
        "id": "SO1CfdKNQV2x",
        "outputId": "f3f71cdd-141c-4c21-aebd-b4d50f3d23f6"
      },
      "execution_count": 22,
      "outputs": [
        {
          "output_type": "execute_result",
          "data": {
            "text/plain": [
              "3"
            ]
          },
          "metadata": {},
          "execution_count": 22
        }
      ]
    },
    {
      "cell_type": "markdown",
      "source": [
        "12. Implement the RandomizedSet class:\n",
        "\n",
        "  RandomizedSet() Initializes the RandomizedSet object.\n",
        "  bool insert(int val) Inserts an item val into the set if not present. Returns true if the item was not present, false otherwise.\n",
        "  bool remove(int val) Removes an item val from the set if present. Returns true if the item was present, false otherwise.\n",
        "  int getRandom() Returns a random element from the current set of elements (it's guaranteed that at least one element exists when this method is called). Each element must have the same probability of being returned.\n",
        "  You must implement the functions of the class such that each function works in average O(1) time complexity."
      ],
      "metadata": {
        "id": "ihJTGhv2Wf5Z"
      }
    },
    {
      "cell_type": "code",
      "source": [
        "class RandomizedSet:\n",
        "\n",
        "    def __init__(self):\n",
        "        self.ran = set()\n",
        "\n",
        "\n",
        "    def insert(self, val: int) -> bool:\n",
        "        if val not in self.ran:\n",
        "            self.ran.add(val)\n",
        "            return True\n",
        "        else:\n",
        "            return False\n",
        "\n",
        "\n",
        "    def remove(self, val: int) -> bool:\n",
        "        if val in self.ran:\n",
        "            self.ran.remove(val)\n",
        "            return True\n",
        "        else:\n",
        "            return False\n",
        "\n",
        "\n",
        "\n",
        "    def getRandom(self) -> int:\n",
        "        return random.choice(list(self.ran))\n",
        "\n",
        "\n",
        "\n",
        "# Your RandomizedSet object will be instantiated and called as such:\n",
        "# obj = RandomizedSet()\n",
        "# param_1 = obj.insert(val)\n",
        "# param_2 = obj.remove(val)\n",
        "# param_3 = obj.getRandom()"
      ],
      "metadata": {
        "id": "U7vStTjPQV0D"
      },
      "execution_count": 24,
      "outputs": []
    },
    {
      "cell_type": "code",
      "source": [],
      "metadata": {
        "id": "CMud5OanYldB"
      },
      "execution_count": null,
      "outputs": []
    },
    {
      "cell_type": "code",
      "source": [
        "RandomizedSet.insert(1,1)\n"
      ],
      "metadata": {
        "id": "wM8cLJI9QVxP"
      },
      "execution_count": null,
      "outputs": []
    },
    {
      "cell_type": "code",
      "source": [],
      "metadata": {
        "id": "lc6Qx3EfQVuN"
      },
      "execution_count": null,
      "outputs": []
    },
    {
      "cell_type": "code",
      "source": [],
      "metadata": {
        "id": "VzF5c3I2QVrM"
      },
      "execution_count": null,
      "outputs": []
    },
    {
      "cell_type": "code",
      "source": [],
      "metadata": {
        "id": "lbVijO4pQVoY"
      },
      "execution_count": null,
      "outputs": []
    },
    {
      "cell_type": "code",
      "source": [],
      "metadata": {
        "id": "Hr-c6TziQVla"
      },
      "execution_count": null,
      "outputs": []
    },
    {
      "cell_type": "code",
      "source": [],
      "metadata": {
        "id": "y7bH6bLVQVir"
      },
      "execution_count": null,
      "outputs": []
    },
    {
      "cell_type": "code",
      "source": [],
      "metadata": {
        "id": "hzMPegwGWbwz"
      },
      "execution_count": null,
      "outputs": []
    },
    {
      "cell_type": "code",
      "source": [],
      "metadata": {
        "id": "uuRwtUBRWbt5"
      },
      "execution_count": null,
      "outputs": []
    },
    {
      "cell_type": "code",
      "source": [],
      "metadata": {
        "id": "SupHX4SyWbrM"
      },
      "execution_count": null,
      "outputs": []
    },
    {
      "cell_type": "code",
      "source": [],
      "metadata": {
        "id": "2WY5Vmj7Wboe"
      },
      "execution_count": null,
      "outputs": []
    },
    {
      "cell_type": "code",
      "source": [],
      "metadata": {
        "id": "5SuzM6CrWbl3"
      },
      "execution_count": null,
      "outputs": []
    },
    {
      "cell_type": "code",
      "source": [],
      "metadata": {
        "id": "55e26dtfWbjJ"
      },
      "execution_count": null,
      "outputs": []
    }
  ]
}