{
  "nbformat": 4,
  "nbformat_minor": 0,
  "metadata": {
    "colab": {
      "provenance": [],
      "authorship_tag": "ABX9TyPWrFKYIJ6oZ4E+RrWK9naK"
    },
    "kernelspec": {
      "name": "python3",
      "display_name": "Python 3"
    },
    "language_info": {
      "name": "python"
    }
  },
  "cells": [
    {
      "cell_type": "markdown",
      "source": [
        "### Printing Python Versions"
      ],
      "metadata": {
        "id": "S0rWhPdNmyMe"
      }
    },
    {
      "cell_type": "code",
      "execution_count": 2,
      "metadata": {
        "colab": {
          "base_uri": "https://localhost:8080/",
          "height": 35
        },
        "id": "hVndSRPak85z",
        "outputId": "1c726566-ebc1-48f3-e01f-c2a71621fcd2"
      },
      "outputs": [
        {
          "output_type": "execute_result",
          "data": {
            "text/plain": [
              "'3.10.12 (main, Jul 29 2024, 16:56:48) [GCC 11.4.0]'"
            ],
            "application/vnd.google.colaboratory.intrinsic+json": {
              "type": "string"
            }
          },
          "metadata": {},
          "execution_count": 2
        }
      ],
      "source": [
        "import sys\n",
        "\n",
        "sys.version"
      ]
    },
    {
      "cell_type": "code",
      "source": [
        "import platform\n",
        "platform.python_version()"
      ],
      "metadata": {
        "colab": {
          "base_uri": "https://localhost:8080/",
          "height": 35
        },
        "id": "_Agfml-tmrp5",
        "outputId": "58d95d7b-46f6-42f5-e286-0ccce40e9bb5"
      },
      "execution_count": 3,
      "outputs": [
        {
          "output_type": "execute_result",
          "data": {
            "text/plain": [
              "'3.10.12'"
            ],
            "application/vnd.google.colaboratory.intrinsic+json": {
              "type": "string"
            }
          },
          "metadata": {},
          "execution_count": 3
        }
      ]
    },
    {
      "cell_type": "markdown",
      "source": [
        "### Current data and time"
      ],
      "metadata": {
        "id": "qCZqzkjrm3he"
      }
    },
    {
      "cell_type": "code",
      "source": [
        "import datetime\n",
        "now = datetime.datetime.now()\n",
        "print (\"Current date and time : \")\n",
        "print (now.strftime(\"%Y-%m-%d %H:%M:%S\"))"
      ],
      "metadata": {
        "colab": {
          "base_uri": "https://localhost:8080/"
        },
        "id": "NKJc5Eylm5B5",
        "outputId": "3afb8ecf-1195-44bc-fbe9-899b7c32c305"
      },
      "execution_count": 4,
      "outputs": [
        {
          "output_type": "stream",
          "name": "stdout",
          "text": [
            "Current date and time : \n",
            "2024-08-05 08:16:16\n"
          ]
        }
      ]
    },
    {
      "cell_type": "markdown",
      "source": [
        "### Area of the circle"
      ],
      "metadata": {
        "id": "-6ls3SalnLlE"
      }
    },
    {
      "cell_type": "code",
      "source": [
        "def area_of_circle(r):\n",
        "    pi = 22/7\n",
        "    return pi * r**2\n",
        "\n",
        "area_of_circle(5)"
      ],
      "metadata": {
        "colab": {
          "base_uri": "https://localhost:8080/"
        },
        "id": "0Aj34_p6nH8o",
        "outputId": "3a4f653e-8c8d-4385-d55e-58a3791dbe67"
      },
      "execution_count": 5,
      "outputs": [
        {
          "output_type": "execute_result",
          "data": {
            "text/plain": [
              "78.57142857142857"
            ]
          },
          "metadata": {},
          "execution_count": 5
        }
      ]
    },
    {
      "cell_type": "markdown",
      "source": [
        "### Reverse Name"
      ],
      "metadata": {
        "id": "8h-w2ubRngpb"
      }
    },
    {
      "cell_type": "code",
      "source": [
        "first_name = input(\"Enter your first name: \")\n",
        "last_name = input(\"Enter your last name: \")\n",
        "print(last_name[::-1] + \" \" + first_name[::-1])"
      ],
      "metadata": {
        "colab": {
          "base_uri": "https://localhost:8080/"
        },
        "id": "WlAfO2Wznfyz",
        "outputId": "e85af3db-b0e2-4f79-ff5a-ecdb2fc82864"
      },
      "execution_count": 7,
      "outputs": [
        {
          "output_type": "stream",
          "name": "stdout",
          "text": [
            "Enter your first name: mac\n",
            "Enter your last name: muller\n",
            "rellum cam\n"
          ]
        }
      ]
    },
    {
      "cell_type": "markdown",
      "source": [
        "### To list and tuple from characters"
      ],
      "metadata": {
        "id": "Wef6wZUhoZkd"
      }
    },
    {
      "cell_type": "code",
      "source": [
        "nums = input(\"Enter comma separated numbers: \")\n",
        "list = nums.split(\",\")\n",
        "tuple = tuple(list)\n",
        "print('List : ',list)\n",
        "print('Tuple : ',tuple)"
      ],
      "metadata": {
        "colab": {
          "base_uri": "https://localhost:8080/"
        },
        "id": "Vo3hHq9goZIA",
        "outputId": "c33e9494-f3f1-4e8a-8628-cae944824874"
      },
      "execution_count": 8,
      "outputs": [
        {
          "output_type": "stream",
          "name": "stdout",
          "text": [
            "Enter comma separated numbers: 1,2,3,4,5\n",
            "List :  ['1', '2', '3', '4', '5']\n",
            "Tuple :  ('1', '2', '3', '4', '5')\n"
          ]
        }
      ]
    },
    {
      "cell_type": "markdown",
      "source": [
        "### Print file extensions"
      ],
      "metadata": {
        "id": "yNFyvPi0ou-k"
      }
    },
    {
      "cell_type": "code",
      "source": [
        "file_name = input(\"Enter file name: \")\n",
        "file_ext = file_name.split(\".\")\n",
        "print (\"The extension of the file is : \" + file_ext[-1])"
      ],
      "metadata": {
        "colab": {
          "base_uri": "https://localhost:8080/"
        },
        "id": "RCFZHDgso0MR",
        "outputId": "dca760e5-07d1-4acb-f969-8687a3ace813"
      },
      "execution_count": 10,
      "outputs": [
        {
          "output_type": "stream",
          "name": "stdout",
          "text": [
            "Enter file name: test.py\n",
            "The extension of the file is : py\n"
          ]
        }
      ]
    },
    {
      "cell_type": "markdown",
      "source": [
        "### first and last"
      ],
      "metadata": {
        "id": "CJsQKbR2pWY1"
      }
    },
    {
      "cell_type": "code",
      "source": [
        "color_list = [\"Red\",\"Green\",\"White\" ,\"Black\"]\n",
        "print(color_list[0], color_list[-1])"
      ],
      "metadata": {
        "colab": {
          "base_uri": "https://localhost:8080/"
        },
        "id": "eRy0mhNxo0Xp",
        "outputId": "f92c4533-e189-48fe-b178-8c2ea6e27b28"
      },
      "execution_count": 12,
      "outputs": [
        {
          "output_type": "stream",
          "name": "stdout",
          "text": [
            "Red Black\n"
          ]
        }
      ]
    },
    {
      "cell_type": "markdown",
      "source": [
        "### date extraction"
      ],
      "metadata": {
        "id": "yqy_gX8jphNZ"
      }
    },
    {
      "cell_type": "code",
      "source": [
        "exam_st_date = (11, 12, 2014)\n",
        "print( \"The examination will start from : %i / %i / %i\"%exam_st_date)\n"
      ],
      "metadata": {
        "colab": {
          "base_uri": "https://localhost:8080/"
        },
        "id": "QoMuFT5wo0PA",
        "outputId": "e397b06d-d118-4724-c5f6-b288358f2d44"
      },
      "execution_count": 13,
      "outputs": [
        {
          "output_type": "stream",
          "name": "stdout",
          "text": [
            "The examination will start from : 11 / 12 / 2014\n"
          ]
        }
      ]
    },
    {
      "cell_type": "markdown",
      "source": [
        "### Multiple input in n+nn+nnn"
      ],
      "metadata": {
        "id": "X1X_XyWDp55D"
      }
    },
    {
      "cell_type": "code",
      "source": [
        "num = input(\"Enter a number: \")\n",
        "n = int(num)\n",
        "nn = int(num+num)\n",
        "nnn = int(num+num+num)\n",
        "print(n+nn+nnn)\n"
      ],
      "metadata": {
        "colab": {
          "base_uri": "https://localhost:8080/"
        },
        "id": "347OML1Bp5iO",
        "outputId": "13349095-1f56-46f4-aa7d-ef4f1f51dd9a"
      },
      "execution_count": 15,
      "outputs": [
        {
          "output_type": "stream",
          "name": "stdout",
          "text": [
            "Enter a number: 5\n",
            "615\n"
          ]
        }
      ]
    },
    {
      "cell_type": "code",
      "source": [],
      "metadata": {
        "id": "mcHsvbcYp5er"
      },
      "execution_count": null,
      "outputs": []
    },
    {
      "cell_type": "code",
      "source": [],
      "metadata": {
        "id": "AkQNlAWYp5K4"
      },
      "execution_count": null,
      "outputs": []
    }
  ]
}